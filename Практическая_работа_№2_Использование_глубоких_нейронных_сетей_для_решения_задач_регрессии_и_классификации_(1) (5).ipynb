{
  "nbformat": 4,
  "nbformat_minor": 0,
  "metadata": {
    "colab": {
      "provenance": [],
      "gpuType": "T4"
    },
    "kernelspec": {
      "name": "python3",
      "display_name": "Python 3"
    },
    "language_info": {
      "name": "python"
    },
    "accelerator": "GPU"
  },
  "cells": [
    {
      "cell_type": "markdown",
      "source": [
        "# Практическая работа №2. Использование глубоких нейронных сетей для решения задач регрессии и классификации\n",
        "\n"
      ],
      "metadata": {
        "id": "jVOridAYaoD_"
      }
    },
    {
      "cell_type": "markdown",
      "source": [
        "**Ссылка на код с пары:**\n",
        "https://colab.research.google.com/drive/18EM8mrpURStkmbxWjZybWbWh23Si5b4A?usp=sharing\n"
      ],
      "metadata": {
        "id": "xfLS4L8wbf5M"
      }
    },
    {
      "cell_type": "markdown",
      "source": [
        "## Задание №1. Обучение модели ИНС для решения задачи регрессии\n",
        "\n"
      ],
      "metadata": {
        "id": "ChzaEMuFavMw"
      }
    },
    {
      "cell_type": "markdown",
      "source": [
        "Постройте глубокую нейронную сеть для предсказания цен на недвижимость в городе Бостон, используя датасет датасет boston_housing_price"
      ],
      "metadata": {
        "id": "_AW7ypoN3qSi"
      }
    },
    {
      "cell_type": "markdown",
      "source": [
        "[Описание датасета](https://www.hackersrealm.net/post/boston-house-price-prediction-analysis-using-python)"
      ],
      "metadata": {
        "id": "O1PDCog53nrg"
      }
    },
    {
      "cell_type": "markdown",
      "source": [
        "#### 1.1. Загружаем исходные данные:"
      ],
      "metadata": {
        "id": "QWLURy8z0u3k"
      }
    },
    {
      "cell_type": "code",
      "source": [
        "import pandas as pd\n",
        "import numpy as np\n",
        "\n",
        "from sklearn.model_selection import train_test_split\n",
        "\n",
        "data_url = \"http://lib.stat.cmu.edu/datasets/boston\"\n",
        "raw_df = pd.read_csv(data_url, sep=\"\\s+\", skiprows=22, header=None)\n",
        "data = np.hstack([raw_df.values[::2, :], raw_df.values[1::2, :2]])\n",
        "target = raw_df.values[1::2, 2]\n",
        "\n",
        "X_train, X_test, y_train, y_test = train_test_split(data, target, test_size=0.25, random_state=0)"
      ],
      "metadata": {
        "id": "vGAIXw8gzpLL"
      },
      "execution_count": null,
      "outputs": []
    },
    {
      "cell_type": "markdown",
      "metadata": {
        "id": "815ut8JJTIM7"
      },
      "source": [
        "#### 1.2. Проектируем архитектуру для этой задачи"
      ]
    },
    {
      "cell_type": "code",
      "source": [
        "from keras.layers import Dense\n",
        "from keras.models import Sequential\n",
        "from sklearn.preprocessing import MinMaxScaler\n",
        "import pickle\n",
        "\n",
        "mms = MinMaxScaler()\n",
        "\n",
        "X_train_n = mms.fit_transform(X_train)\n",
        "X_test_n = mms.transform(X_test)\n",
        "\n",
        "with open(\"scaler.pkl\", \"wb\") as f:\n",
        "    pickle.dump(mms, f)\n",
        "\n",
        "model = Sequential([\n",
        "    Dense(16, input_shape=(13,), activation='relu'),\n",
        "    # Dense(12, activation='relu'),\n",
        "    Dense(1, activation='relu')\n",
        "])\n",
        "\n",
        "model.summary()"
      ],
      "metadata": {
        "id": "alrRyjbs1c8s",
        "outputId": "b76b62d3-f815-4f99-adf1-58a4dd32495e",
        "colab": {
          "base_uri": "https://localhost:8080/"
        }
      },
      "execution_count": null,
      "outputs": [
        {
          "output_type": "stream",
          "name": "stdout",
          "text": [
            "Model: \"sequential_6\"\n",
            "_________________________________________________________________\n",
            " Layer (type)                Output Shape              Param #   \n",
            "=================================================================\n",
            " dense_12 (Dense)            (None, 16)                224       \n",
            "                                                                 \n",
            " dense_13 (Dense)            (None, 1)                 17        \n",
            "                                                                 \n",
            "=================================================================\n",
            "Total params: 241 (964.00 Byte)\n",
            "Trainable params: 241 (964.00 Byte)\n",
            "Non-trainable params: 0 (0.00 Byte)\n",
            "_________________________________________________________________\n"
          ]
        }
      ]
    },
    {
      "cell_type": "markdown",
      "metadata": {
        "id": "F9E1W4yCT0YC"
      },
      "source": [
        "#### 1.3. Компилируем модель ИНС\n",
        "\n",
        "Подберите нужную функцию потерь и метрику."
      ]
    },
    {
      "cell_type": "code",
      "source": [
        "from keras.optimizers import Adam\n",
        "\n",
        "model.compile(Adam(learning_rate=0.05), loss='mse', metrics='mae')"
      ],
      "metadata": {
        "id": "Fu8VHdqV1gqy"
      },
      "execution_count": null,
      "outputs": []
    },
    {
      "cell_type": "markdown",
      "metadata": {
        "id": "ebac-dNAUBtX"
      },
      "source": [
        "#### 1.4. Обучаем модель ИНС"
      ]
    },
    {
      "cell_type": "code",
      "source": [
        "from keras.callbacks import EarlyStopping, ModelCheckpoint\n",
        "early_stopping = EarlyStopping(patience=5)\n",
        "# checkpoint = ModelCheckpoint(filepath=\"best_model.h5\",\n",
        "#                              monitor=\"mae\",\n",
        "#                              save_best_only=True,\n",
        "#                              verbose=0)\n",
        "\n",
        "H = model.fit(X_train_n, y_train, epochs=200, validation_data=(X_test_n, y_test))"
      ],
      "metadata": {
        "id": "LcVz6t601hFI",
        "outputId": "cda295c1-805e-4396-a9af-d5b80bdec5bd",
        "colab": {
          "base_uri": "https://localhost:8080/"
        }
      },
      "execution_count": null,
      "outputs": [
        {
          "output_type": "stream",
          "name": "stdout",
          "text": [
            "Epoch 1/200\n",
            "12/12 [==============================] - 1s 19ms/step - loss: 438.1360 - mae: 18.3535 - val_loss: 168.1736 - val_mae: 10.2466\n",
            "Epoch 2/200\n",
            "12/12 [==============================] - 0s 7ms/step - loss: 152.8833 - mae: 9.7549 - val_loss: 102.3113 - val_mae: 7.5675\n",
            "Epoch 3/200\n",
            "12/12 [==============================] - 0s 7ms/step - loss: 96.3716 - mae: 7.4184 - val_loss: 72.9936 - val_mae: 5.7867\n",
            "Epoch 4/200\n",
            "12/12 [==============================] - 0s 8ms/step - loss: 64.0753 - mae: 5.8005 - val_loss: 60.1615 - val_mae: 5.5206\n",
            "Epoch 5/200\n",
            "12/12 [==============================] - 0s 7ms/step - loss: 52.1217 - mae: 5.1701 - val_loss: 62.6408 - val_mae: 5.1959\n",
            "Epoch 6/200\n",
            "12/12 [==============================] - 0s 6ms/step - loss: 47.8920 - mae: 4.8506 - val_loss: 58.0688 - val_mae: 5.3453\n",
            "Epoch 7/200\n",
            "12/12 [==============================] - 0s 7ms/step - loss: 43.4783 - mae: 4.7903 - val_loss: 54.6117 - val_mae: 4.8971\n",
            "Epoch 8/200\n",
            "12/12 [==============================] - 0s 7ms/step - loss: 39.2120 - mae: 4.3648 - val_loss: 49.3028 - val_mae: 5.0066\n",
            "Epoch 9/200\n",
            "12/12 [==============================] - 0s 7ms/step - loss: 36.1101 - mae: 4.3735 - val_loss: 47.4288 - val_mae: 4.5057\n",
            "Epoch 10/200\n",
            "12/12 [==============================] - 0s 6ms/step - loss: 31.1688 - mae: 3.9209 - val_loss: 42.0132 - val_mae: 4.5347\n",
            "Epoch 11/200\n",
            "12/12 [==============================] - 0s 7ms/step - loss: 27.8953 - mae: 3.6962 - val_loss: 39.7917 - val_mae: 4.1777\n",
            "Epoch 12/200\n",
            "12/12 [==============================] - 0s 7ms/step - loss: 24.7483 - mae: 3.5085 - val_loss: 36.5110 - val_mae: 3.9968\n",
            "Epoch 13/200\n",
            "12/12 [==============================] - 0s 8ms/step - loss: 22.5065 - mae: 3.2621 - val_loss: 34.7462 - val_mae: 3.9053\n",
            "Epoch 14/200\n",
            "12/12 [==============================] - 0s 7ms/step - loss: 20.7471 - mae: 3.1101 - val_loss: 33.2605 - val_mae: 3.8222\n",
            "Epoch 15/200\n",
            "12/12 [==============================] - 0s 7ms/step - loss: 19.6408 - mae: 3.1116 - val_loss: 33.3407 - val_mae: 3.7489\n",
            "Epoch 16/200\n",
            "12/12 [==============================] - 0s 7ms/step - loss: 19.8383 - mae: 3.0437 - val_loss: 31.1706 - val_mae: 3.6350\n",
            "Epoch 17/200\n",
            "12/12 [==============================] - 0s 7ms/step - loss: 18.3968 - mae: 2.8723 - val_loss: 29.2094 - val_mae: 3.6103\n",
            "Epoch 18/200\n",
            "12/12 [==============================] - 0s 8ms/step - loss: 19.0866 - mae: 2.9752 - val_loss: 28.4826 - val_mae: 3.5535\n",
            "Epoch 19/200\n",
            "12/12 [==============================] - 0s 7ms/step - loss: 17.9108 - mae: 2.8655 - val_loss: 27.9898 - val_mae: 3.4364\n",
            "Epoch 20/200\n",
            "12/12 [==============================] - 0s 7ms/step - loss: 16.7081 - mae: 2.7950 - val_loss: 29.7640 - val_mae: 3.4506\n",
            "Epoch 21/200\n",
            "12/12 [==============================] - 0s 7ms/step - loss: 17.0442 - mae: 2.8203 - val_loss: 26.9920 - val_mae: 3.3802\n",
            "Epoch 22/200\n",
            "12/12 [==============================] - 0s 7ms/step - loss: 16.7914 - mae: 2.6746 - val_loss: 26.9167 - val_mae: 3.4915\n",
            "Epoch 23/200\n",
            "12/12 [==============================] - 0s 6ms/step - loss: 17.1985 - mae: 2.7269 - val_loss: 27.5156 - val_mae: 3.3428\n",
            "Epoch 24/200\n",
            "12/12 [==============================] - 0s 7ms/step - loss: 16.4787 - mae: 2.7896 - val_loss: 29.6746 - val_mae: 3.3866\n",
            "Epoch 25/200\n",
            "12/12 [==============================] - 0s 6ms/step - loss: 16.0162 - mae: 2.7619 - val_loss: 26.6132 - val_mae: 3.2410\n",
            "Epoch 26/200\n",
            "12/12 [==============================] - 0s 8ms/step - loss: 15.5099 - mae: 2.5906 - val_loss: 26.2728 - val_mae: 3.3215\n",
            "Epoch 27/200\n",
            "12/12 [==============================] - 0s 9ms/step - loss: 15.5990 - mae: 2.6752 - val_loss: 25.2084 - val_mae: 3.1926\n",
            "Epoch 28/200\n",
            "12/12 [==============================] - 0s 8ms/step - loss: 14.9048 - mae: 2.6018 - val_loss: 27.4688 - val_mae: 3.2489\n",
            "Epoch 29/200\n",
            "12/12 [==============================] - 0s 8ms/step - loss: 14.9898 - mae: 2.5772 - val_loss: 26.0448 - val_mae: 3.1962\n",
            "Epoch 30/200\n",
            "12/12 [==============================] - 0s 6ms/step - loss: 14.6216 - mae: 2.5629 - val_loss: 25.3298 - val_mae: 3.1549\n",
            "Epoch 31/200\n",
            "12/12 [==============================] - 0s 7ms/step - loss: 14.5035 - mae: 2.5795 - val_loss: 27.7922 - val_mae: 3.2519\n",
            "Epoch 32/200\n",
            "12/12 [==============================] - 0s 8ms/step - loss: 14.8270 - mae: 2.6068 - val_loss: 27.1979 - val_mae: 3.2229\n",
            "Epoch 33/200\n",
            "12/12 [==============================] - 0s 7ms/step - loss: 15.7042 - mae: 2.6989 - val_loss: 26.3276 - val_mae: 3.1658\n",
            "Epoch 34/200\n",
            "12/12 [==============================] - 0s 7ms/step - loss: 14.3672 - mae: 2.5078 - val_loss: 25.5466 - val_mae: 3.3651\n",
            "Epoch 35/200\n",
            "12/12 [==============================] - 0s 6ms/step - loss: 15.4081 - mae: 2.6122 - val_loss: 25.5242 - val_mae: 3.2970\n",
            "Epoch 36/200\n",
            "12/12 [==============================] - 0s 6ms/step - loss: 16.0022 - mae: 2.8204 - val_loss: 27.3071 - val_mae: 3.1781\n",
            "Epoch 37/200\n",
            "12/12 [==============================] - 0s 7ms/step - loss: 13.7614 - mae: 2.5341 - val_loss: 24.6368 - val_mae: 3.0911\n",
            "Epoch 38/200\n",
            "12/12 [==============================] - 0s 6ms/step - loss: 13.9112 - mae: 2.4769 - val_loss: 24.6239 - val_mae: 3.2317\n",
            "Epoch 39/200\n",
            "12/12 [==============================] - 0s 8ms/step - loss: 14.2994 - mae: 2.5199 - val_loss: 24.3321 - val_mae: 3.1735\n",
            "Epoch 40/200\n",
            "12/12 [==============================] - 0s 8ms/step - loss: 14.1694 - mae: 2.5233 - val_loss: 24.3661 - val_mae: 3.0804\n",
            "Epoch 41/200\n",
            "12/12 [==============================] - 0s 7ms/step - loss: 14.1279 - mae: 2.5939 - val_loss: 25.6780 - val_mae: 3.1040\n",
            "Epoch 42/200\n",
            "12/12 [==============================] - 0s 8ms/step - loss: 13.4729 - mae: 2.4778 - val_loss: 25.4729 - val_mae: 3.0975\n",
            "Epoch 43/200\n",
            "12/12 [==============================] - 0s 7ms/step - loss: 13.3093 - mae: 2.4511 - val_loss: 24.0432 - val_mae: 3.2358\n",
            "Epoch 44/200\n",
            "12/12 [==============================] - 0s 7ms/step - loss: 14.4571 - mae: 2.5854 - val_loss: 23.7070 - val_mae: 3.0648\n",
            "Epoch 45/200\n",
            "12/12 [==============================] - 0s 8ms/step - loss: 13.2927 - mae: 2.5469 - val_loss: 29.6353 - val_mae: 3.3417\n",
            "Epoch 46/200\n",
            "12/12 [==============================] - 0s 6ms/step - loss: 14.7626 - mae: 2.6692 - val_loss: 27.0064 - val_mae: 3.1104\n",
            "Epoch 47/200\n",
            "12/12 [==============================] - 0s 6ms/step - loss: 13.3826 - mae: 2.4893 - val_loss: 23.6470 - val_mae: 3.0626\n",
            "Epoch 48/200\n",
            "12/12 [==============================] - 0s 6ms/step - loss: 12.9861 - mae: 2.4495 - val_loss: 23.8548 - val_mae: 3.0291\n",
            "Epoch 49/200\n",
            "12/12 [==============================] - 0s 7ms/step - loss: 13.1367 - mae: 2.4321 - val_loss: 24.1760 - val_mae: 3.0463\n",
            "Epoch 50/200\n",
            "12/12 [==============================] - 0s 8ms/step - loss: 12.8173 - mae: 2.4079 - val_loss: 23.5136 - val_mae: 3.0277\n",
            "Epoch 51/200\n",
            "12/12 [==============================] - 0s 7ms/step - loss: 12.6186 - mae: 2.4115 - val_loss: 23.2193 - val_mae: 2.9910\n",
            "Epoch 52/200\n",
            "12/12 [==============================] - 0s 6ms/step - loss: 12.7937 - mae: 2.4285 - val_loss: 24.7493 - val_mae: 2.9928\n",
            "Epoch 53/200\n",
            "12/12 [==============================] - 0s 7ms/step - loss: 12.6477 - mae: 2.3975 - val_loss: 23.6469 - val_mae: 3.0332\n",
            "Epoch 54/200\n",
            "12/12 [==============================] - 0s 7ms/step - loss: 12.5305 - mae: 2.4018 - val_loss: 23.5750 - val_mae: 2.9732\n",
            "Epoch 55/200\n",
            "12/12 [==============================] - 0s 7ms/step - loss: 13.4504 - mae: 2.4346 - val_loss: 22.9578 - val_mae: 3.2527\n",
            "Epoch 56/200\n",
            "12/12 [==============================] - 0s 6ms/step - loss: 14.9591 - mae: 2.7655 - val_loss: 24.0652 - val_mae: 3.1010\n",
            "Epoch 57/200\n",
            "12/12 [==============================] - 0s 7ms/step - loss: 13.4231 - mae: 2.4974 - val_loss: 22.1657 - val_mae: 3.0438\n",
            "Epoch 58/200\n",
            "12/12 [==============================] - 0s 8ms/step - loss: 12.2527 - mae: 2.4039 - val_loss: 23.9722 - val_mae: 2.9366\n",
            "Epoch 59/200\n",
            "12/12 [==============================] - 0s 6ms/step - loss: 12.3411 - mae: 2.3790 - val_loss: 22.4073 - val_mae: 2.9320\n",
            "Epoch 60/200\n",
            "12/12 [==============================] - 0s 8ms/step - loss: 11.9286 - mae: 2.4139 - val_loss: 26.0264 - val_mae: 3.0270\n",
            "Epoch 61/200\n",
            "12/12 [==============================] - 0s 8ms/step - loss: 13.0892 - mae: 2.5217 - val_loss: 25.8767 - val_mae: 2.9853\n",
            "Epoch 62/200\n",
            "12/12 [==============================] - 0s 8ms/step - loss: 13.3400 - mae: 2.5801 - val_loss: 23.2032 - val_mae: 2.8813\n",
            "Epoch 63/200\n",
            "12/12 [==============================] - 0s 8ms/step - loss: 12.4772 - mae: 2.4027 - val_loss: 22.5199 - val_mae: 2.8928\n",
            "Epoch 64/200\n",
            "12/12 [==============================] - 0s 8ms/step - loss: 11.8577 - mae: 2.3536 - val_loss: 21.6662 - val_mae: 2.9168\n",
            "Epoch 65/200\n",
            "12/12 [==============================] - 0s 7ms/step - loss: 11.9834 - mae: 2.3685 - val_loss: 21.5348 - val_mae: 2.9408\n",
            "Epoch 66/200\n",
            "12/12 [==============================] - 0s 7ms/step - loss: 11.6536 - mae: 2.3111 - val_loss: 22.0374 - val_mae: 2.9177\n",
            "Epoch 67/200\n",
            "12/12 [==============================] - 0s 7ms/step - loss: 12.0333 - mae: 2.4036 - val_loss: 21.3470 - val_mae: 2.8529\n",
            "Epoch 68/200\n",
            "12/12 [==============================] - 0s 7ms/step - loss: 11.9353 - mae: 2.3559 - val_loss: 22.3488 - val_mae: 2.8935\n",
            "Epoch 69/200\n",
            "12/12 [==============================] - 0s 7ms/step - loss: 11.5922 - mae: 2.4004 - val_loss: 22.8533 - val_mae: 2.8980\n",
            "Epoch 70/200\n",
            "12/12 [==============================] - 0s 6ms/step - loss: 11.7383 - mae: 2.3868 - val_loss: 23.0885 - val_mae: 2.8790\n",
            "Epoch 71/200\n",
            "12/12 [==============================] - 0s 6ms/step - loss: 12.5768 - mae: 2.5168 - val_loss: 21.5729 - val_mae: 2.9377\n",
            "Epoch 72/200\n",
            "12/12 [==============================] - 0s 7ms/step - loss: 12.2400 - mae: 2.5030 - val_loss: 21.4535 - val_mae: 3.2232\n",
            "Epoch 73/200\n",
            "12/12 [==============================] - 0s 7ms/step - loss: 11.2408 - mae: 2.3246 - val_loss: 21.8863 - val_mae: 2.8565\n",
            "Epoch 74/200\n",
            "12/12 [==============================] - 0s 7ms/step - loss: 11.1787 - mae: 2.3355 - val_loss: 21.4456 - val_mae: 2.8918\n",
            "Epoch 75/200\n",
            "12/12 [==============================] - 0s 7ms/step - loss: 11.1812 - mae: 2.3347 - val_loss: 20.8832 - val_mae: 2.9841\n",
            "Epoch 76/200\n",
            "12/12 [==============================] - 0s 7ms/step - loss: 10.6963 - mae: 2.2857 - val_loss: 20.7325 - val_mae: 2.8342\n",
            "Epoch 77/200\n",
            "12/12 [==============================] - 0s 8ms/step - loss: 10.7093 - mae: 2.2547 - val_loss: 20.1958 - val_mae: 2.8626\n",
            "Epoch 78/200\n",
            "12/12 [==============================] - 0s 6ms/step - loss: 10.4237 - mae: 2.2746 - val_loss: 22.4034 - val_mae: 2.8487\n",
            "Epoch 79/200\n",
            "12/12 [==============================] - 0s 6ms/step - loss: 10.5147 - mae: 2.2612 - val_loss: 20.6652 - val_mae: 2.8213\n",
            "Epoch 80/200\n",
            "12/12 [==============================] - 0s 8ms/step - loss: 10.5221 - mae: 2.2570 - val_loss: 23.4204 - val_mae: 2.8963\n",
            "Epoch 81/200\n",
            "12/12 [==============================] - 0s 7ms/step - loss: 11.0889 - mae: 2.3988 - val_loss: 20.7878 - val_mae: 2.8036\n",
            "Epoch 82/200\n",
            "12/12 [==============================] - 0s 6ms/step - loss: 10.4232 - mae: 2.2506 - val_loss: 19.3402 - val_mae: 2.8656\n",
            "Epoch 83/200\n",
            "12/12 [==============================] - 0s 8ms/step - loss: 10.2413 - mae: 2.2384 - val_loss: 20.5477 - val_mae: 2.7851\n",
            "Epoch 84/200\n",
            "12/12 [==============================] - 0s 8ms/step - loss: 10.1866 - mae: 2.2113 - val_loss: 20.0396 - val_mae: 2.9264\n",
            "Epoch 85/200\n",
            "12/12 [==============================] - 0s 6ms/step - loss: 10.9093 - mae: 2.3789 - val_loss: 20.3068 - val_mae: 3.1778\n",
            "Epoch 86/200\n",
            "12/12 [==============================] - 0s 10ms/step - loss: 10.6467 - mae: 2.3200 - val_loss: 19.0147 - val_mae: 2.8411\n",
            "Epoch 87/200\n",
            "12/12 [==============================] - 0s 11ms/step - loss: 10.7146 - mae: 2.3350 - val_loss: 19.5799 - val_mae: 2.9565\n",
            "Epoch 88/200\n",
            "12/12 [==============================] - 0s 10ms/step - loss: 10.4883 - mae: 2.2716 - val_loss: 19.4422 - val_mae: 2.7888\n",
            "Epoch 89/200\n",
            "12/12 [==============================] - 0s 10ms/step - loss: 10.4877 - mae: 2.3011 - val_loss: 19.6982 - val_mae: 3.0080\n",
            "Epoch 90/200\n",
            "12/12 [==============================] - 0s 10ms/step - loss: 10.3944 - mae: 2.3734 - val_loss: 19.7616 - val_mae: 2.9735\n",
            "Epoch 91/200\n",
            "12/12 [==============================] - 0s 10ms/step - loss: 10.0956 - mae: 2.2790 - val_loss: 18.0370 - val_mae: 2.7573\n",
            "Epoch 92/200\n",
            "12/12 [==============================] - 0s 11ms/step - loss: 10.1550 - mae: 2.2159 - val_loss: 20.7623 - val_mae: 2.8107\n",
            "Epoch 93/200\n",
            "12/12 [==============================] - 0s 11ms/step - loss: 9.9436 - mae: 2.2446 - val_loss: 18.9516 - val_mae: 2.8049\n",
            "Epoch 94/200\n",
            "12/12 [==============================] - 0s 10ms/step - loss: 10.3940 - mae: 2.3646 - val_loss: 20.7854 - val_mae: 2.8035\n",
            "Epoch 95/200\n",
            "12/12 [==============================] - 0s 8ms/step - loss: 10.8513 - mae: 2.3760 - val_loss: 19.7239 - val_mae: 2.9609\n",
            "Epoch 96/200\n",
            "12/12 [==============================] - 0s 11ms/step - loss: 9.8798 - mae: 2.2660 - val_loss: 19.3189 - val_mae: 2.8165\n",
            "Epoch 97/200\n",
            "12/12 [==============================] - 0s 11ms/step - loss: 9.6409 - mae: 2.2552 - val_loss: 18.7128 - val_mae: 2.7036\n",
            "Epoch 98/200\n",
            "12/12 [==============================] - 0s 11ms/step - loss: 9.5584 - mae: 2.2027 - val_loss: 18.0244 - val_mae: 2.7645\n",
            "Epoch 99/200\n",
            "12/12 [==============================] - 0s 11ms/step - loss: 9.3260 - mae: 2.1990 - val_loss: 19.3427 - val_mae: 2.7580\n",
            "Epoch 100/200\n",
            "12/12 [==============================] - 0s 11ms/step - loss: 9.3387 - mae: 2.1850 - val_loss: 19.9775 - val_mae: 2.7759\n",
            "Epoch 101/200\n",
            "12/12 [==============================] - 0s 12ms/step - loss: 9.2445 - mae: 2.2039 - val_loss: 21.2551 - val_mae: 2.8009\n",
            "Epoch 102/200\n",
            "12/12 [==============================] - 0s 10ms/step - loss: 9.0874 - mae: 2.1678 - val_loss: 17.0389 - val_mae: 2.7024\n",
            "Epoch 103/200\n",
            "12/12 [==============================] - 0s 12ms/step - loss: 8.9162 - mae: 2.1334 - val_loss: 18.8558 - val_mae: 2.7142\n",
            "Epoch 104/200\n",
            "12/12 [==============================] - 0s 6ms/step - loss: 8.9352 - mae: 2.1462 - val_loss: 19.0868 - val_mae: 2.7641\n",
            "Epoch 105/200\n",
            "12/12 [==============================] - 0s 7ms/step - loss: 8.9315 - mae: 2.1382 - val_loss: 17.5016 - val_mae: 2.7589\n",
            "Epoch 106/200\n",
            "12/12 [==============================] - 0s 6ms/step - loss: 9.1099 - mae: 2.1837 - val_loss: 18.2374 - val_mae: 2.6754\n",
            "Epoch 107/200\n",
            "12/12 [==============================] - 0s 6ms/step - loss: 9.7923 - mae: 2.2875 - val_loss: 19.5796 - val_mae: 2.7641\n",
            "Epoch 108/200\n",
            "12/12 [==============================] - 0s 8ms/step - loss: 10.3759 - mae: 2.3832 - val_loss: 23.5028 - val_mae: 3.2216\n",
            "Epoch 109/200\n",
            "12/12 [==============================] - 0s 6ms/step - loss: 10.9978 - mae: 2.4071 - val_loss: 20.2293 - val_mae: 2.7884\n",
            "Epoch 110/200\n",
            "12/12 [==============================] - 0s 7ms/step - loss: 9.1794 - mae: 2.2365 - val_loss: 19.3947 - val_mae: 2.7727\n",
            "Epoch 111/200\n",
            "12/12 [==============================] - 0s 9ms/step - loss: 9.0688 - mae: 2.2040 - val_loss: 18.6182 - val_mae: 2.7010\n",
            "Epoch 112/200\n",
            "12/12 [==============================] - 0s 8ms/step - loss: 9.2765 - mae: 2.2262 - val_loss: 18.0527 - val_mae: 2.7333\n",
            "Epoch 113/200\n",
            "12/12 [==============================] - 0s 6ms/step - loss: 9.7065 - mae: 2.2400 - val_loss: 17.1714 - val_mae: 2.8735\n",
            "Epoch 114/200\n",
            "12/12 [==============================] - 0s 7ms/step - loss: 9.3681 - mae: 2.2994 - val_loss: 16.3053 - val_mae: 2.6598\n",
            "Epoch 115/200\n",
            "12/12 [==============================] - 0s 6ms/step - loss: 8.7020 - mae: 2.1578 - val_loss: 16.1520 - val_mae: 2.7623\n",
            "Epoch 116/200\n",
            "12/12 [==============================] - 0s 7ms/step - loss: 9.5448 - mae: 2.2861 - val_loss: 17.3649 - val_mae: 2.7319\n",
            "Epoch 117/200\n",
            "12/12 [==============================] - 0s 7ms/step - loss: 8.0646 - mae: 2.0895 - val_loss: 19.2668 - val_mae: 2.7081\n",
            "Epoch 118/200\n",
            "12/12 [==============================] - 0s 6ms/step - loss: 8.7798 - mae: 2.1689 - val_loss: 17.3740 - val_mae: 2.6619\n",
            "Epoch 119/200\n",
            "12/12 [==============================] - 0s 7ms/step - loss: 8.3449 - mae: 2.1068 - val_loss: 16.7506 - val_mae: 2.6305\n",
            "Epoch 120/200\n",
            "12/12 [==============================] - 0s 7ms/step - loss: 8.2481 - mae: 2.0861 - val_loss: 16.4753 - val_mae: 2.7225\n",
            "Epoch 121/200\n",
            "12/12 [==============================] - 0s 7ms/step - loss: 8.5171 - mae: 2.1416 - val_loss: 19.0307 - val_mae: 2.6970\n",
            "Epoch 122/200\n",
            "12/12 [==============================] - 0s 8ms/step - loss: 8.8431 - mae: 2.1718 - val_loss: 18.5730 - val_mae: 2.7722\n",
            "Epoch 123/200\n",
            "12/12 [==============================] - 0s 6ms/step - loss: 8.9330 - mae: 2.2294 - val_loss: 16.0232 - val_mae: 2.6406\n",
            "Epoch 124/200\n",
            "12/12 [==============================] - 0s 6ms/step - loss: 8.1317 - mae: 2.1138 - val_loss: 18.3410 - val_mae: 2.7357\n",
            "Epoch 125/200\n",
            "12/12 [==============================] - 0s 7ms/step - loss: 9.3417 - mae: 2.2518 - val_loss: 18.4032 - val_mae: 2.7554\n",
            "Epoch 126/200\n",
            "12/12 [==============================] - 0s 6ms/step - loss: 8.2557 - mae: 2.1464 - val_loss: 16.6210 - val_mae: 2.7162\n",
            "Epoch 127/200\n",
            "12/12 [==============================] - 0s 7ms/step - loss: 7.9674 - mae: 2.0920 - val_loss: 16.3085 - val_mae: 2.6085\n",
            "Epoch 128/200\n",
            "12/12 [==============================] - 0s 7ms/step - loss: 8.2159 - mae: 2.1064 - val_loss: 16.4588 - val_mae: 2.6760\n",
            "Epoch 129/200\n",
            "12/12 [==============================] - 0s 6ms/step - loss: 8.1995 - mae: 2.1131 - val_loss: 15.4963 - val_mae: 2.7159\n",
            "Epoch 130/200\n",
            "12/12 [==============================] - 0s 7ms/step - loss: 8.0817 - mae: 2.0777 - val_loss: 17.8327 - val_mae: 2.6842\n",
            "Epoch 131/200\n",
            "12/12 [==============================] - 0s 8ms/step - loss: 8.0827 - mae: 2.1024 - val_loss: 15.8396 - val_mae: 2.5649\n",
            "Epoch 132/200\n",
            "12/12 [==============================] - 0s 7ms/step - loss: 8.3154 - mae: 2.1340 - val_loss: 17.2752 - val_mae: 2.6210\n",
            "Epoch 133/200\n",
            "12/12 [==============================] - 0s 6ms/step - loss: 8.2338 - mae: 2.1251 - val_loss: 18.4838 - val_mae: 2.6822\n",
            "Epoch 134/200\n",
            "12/12 [==============================] - 0s 8ms/step - loss: 8.8380 - mae: 2.2466 - val_loss: 17.5827 - val_mae: 2.6007\n",
            "Epoch 135/200\n",
            "12/12 [==============================] - 0s 7ms/step - loss: 9.0599 - mae: 2.2184 - val_loss: 17.5691 - val_mae: 2.8316\n",
            "Epoch 136/200\n",
            "12/12 [==============================] - 0s 7ms/step - loss: 8.8527 - mae: 2.3082 - val_loss: 15.8385 - val_mae: 2.5944\n",
            "Epoch 137/200\n",
            "12/12 [==============================] - 0s 8ms/step - loss: 8.0311 - mae: 2.0775 - val_loss: 17.2863 - val_mae: 2.6849\n",
            "Epoch 138/200\n",
            "12/12 [==============================] - 0s 7ms/step - loss: 8.3059 - mae: 2.1495 - val_loss: 16.9885 - val_mae: 2.5780\n",
            "Epoch 139/200\n",
            "12/12 [==============================] - 0s 6ms/step - loss: 7.7497 - mae: 2.1048 - val_loss: 18.8925 - val_mae: 2.7612\n",
            "Epoch 140/200\n",
            "12/12 [==============================] - 0s 7ms/step - loss: 8.0468 - mae: 2.0693 - val_loss: 16.8139 - val_mae: 2.7702\n",
            "Epoch 141/200\n",
            "12/12 [==============================] - 0s 6ms/step - loss: 8.2507 - mae: 2.1260 - val_loss: 15.8470 - val_mae: 2.9483\n",
            "Epoch 142/200\n",
            "12/12 [==============================] - 0s 8ms/step - loss: 9.8403 - mae: 2.2992 - val_loss: 14.5021 - val_mae: 2.6035\n",
            "Epoch 143/200\n",
            "12/12 [==============================] - 0s 7ms/step - loss: 8.5669 - mae: 2.1965 - val_loss: 20.7963 - val_mae: 2.8241\n",
            "Epoch 144/200\n",
            "12/12 [==============================] - 0s 7ms/step - loss: 8.0778 - mae: 2.0869 - val_loss: 18.1369 - val_mae: 2.6619\n",
            "Epoch 145/200\n",
            "12/12 [==============================] - 0s 9ms/step - loss: 8.1670 - mae: 2.0903 - val_loss: 16.2545 - val_mae: 2.5937\n",
            "Epoch 146/200\n",
            "12/12 [==============================] - 0s 7ms/step - loss: 7.7797 - mae: 2.0557 - val_loss: 17.5002 - val_mae: 2.8681\n",
            "Epoch 147/200\n",
            "12/12 [==============================] - 0s 6ms/step - loss: 8.1970 - mae: 2.1439 - val_loss: 16.3232 - val_mae: 2.6021\n",
            "Epoch 148/200\n",
            "12/12 [==============================] - 0s 8ms/step - loss: 7.7329 - mae: 2.0482 - val_loss: 16.6692 - val_mae: 2.6367\n",
            "Epoch 149/200\n",
            "12/12 [==============================] - 0s 7ms/step - loss: 8.6353 - mae: 2.2407 - val_loss: 22.0083 - val_mae: 2.9356\n",
            "Epoch 150/200\n",
            "12/12 [==============================] - 0s 9ms/step - loss: 7.9959 - mae: 2.1537 - val_loss: 16.7681 - val_mae: 2.6559\n",
            "Epoch 151/200\n",
            "12/12 [==============================] - 0s 7ms/step - loss: 7.4447 - mae: 2.0465 - val_loss: 17.2009 - val_mae: 2.6658\n",
            "Epoch 152/200\n",
            "12/12 [==============================] - 0s 6ms/step - loss: 7.7818 - mae: 2.0774 - val_loss: 15.4236 - val_mae: 2.5934\n",
            "Epoch 153/200\n",
            "12/12 [==============================] - 0s 7ms/step - loss: 7.8145 - mae: 2.1271 - val_loss: 17.8177 - val_mae: 2.7131\n",
            "Epoch 154/200\n",
            "12/12 [==============================] - 0s 7ms/step - loss: 7.7771 - mae: 2.1143 - val_loss: 17.1267 - val_mae: 2.9355\n",
            "Epoch 155/200\n",
            "12/12 [==============================] - 0s 6ms/step - loss: 8.6282 - mae: 2.2537 - val_loss: 15.8191 - val_mae: 2.6793\n",
            "Epoch 156/200\n",
            "12/12 [==============================] - 0s 8ms/step - loss: 8.0758 - mae: 2.1254 - val_loss: 17.5388 - val_mae: 2.8418\n",
            "Epoch 157/200\n",
            "12/12 [==============================] - 0s 7ms/step - loss: 7.5600 - mae: 2.0420 - val_loss: 15.3178 - val_mae: 2.5222\n",
            "Epoch 158/200\n",
            "12/12 [==============================] - 0s 7ms/step - loss: 7.4311 - mae: 2.0204 - val_loss: 17.2811 - val_mae: 2.6943\n",
            "Epoch 159/200\n",
            "12/12 [==============================] - 0s 6ms/step - loss: 7.2473 - mae: 2.0147 - val_loss: 17.5353 - val_mae: 2.6367\n",
            "Epoch 160/200\n",
            "12/12 [==============================] - 0s 6ms/step - loss: 7.3801 - mae: 2.0507 - val_loss: 19.2262 - val_mae: 2.6763\n",
            "Epoch 161/200\n",
            "12/12 [==============================] - 0s 7ms/step - loss: 7.8692 - mae: 2.0668 - val_loss: 17.8294 - val_mae: 2.6813\n",
            "Epoch 162/200\n",
            "12/12 [==============================] - 0s 7ms/step - loss: 7.6122 - mae: 2.0797 - val_loss: 18.4176 - val_mae: 2.6453\n",
            "Epoch 163/200\n",
            "12/12 [==============================] - 0s 6ms/step - loss: 7.3863 - mae: 2.0422 - val_loss: 17.0075 - val_mae: 2.7498\n",
            "Epoch 164/200\n",
            "12/12 [==============================] - 0s 7ms/step - loss: 7.5776 - mae: 2.0700 - val_loss: 15.9709 - val_mae: 2.7094\n",
            "Epoch 165/200\n",
            "12/12 [==============================] - 0s 7ms/step - loss: 7.5420 - mae: 2.0708 - val_loss: 17.3750 - val_mae: 2.7951\n",
            "Epoch 166/200\n",
            "12/12 [==============================] - 0s 6ms/step - loss: 8.0990 - mae: 2.1410 - val_loss: 16.7250 - val_mae: 2.5991\n",
            "Epoch 167/200\n",
            "12/12 [==============================] - 0s 8ms/step - loss: 7.8910 - mae: 2.1431 - val_loss: 18.1099 - val_mae: 2.7122\n",
            "Epoch 168/200\n",
            "12/12 [==============================] - 0s 7ms/step - loss: 7.4655 - mae: 2.0370 - val_loss: 16.5521 - val_mae: 2.7489\n",
            "Epoch 169/200\n",
            "12/12 [==============================] - 0s 7ms/step - loss: 8.0165 - mae: 2.1687 - val_loss: 16.6431 - val_mae: 2.7343\n",
            "Epoch 170/200\n",
            "12/12 [==============================] - 0s 8ms/step - loss: 7.3907 - mae: 2.0393 - val_loss: 18.9127 - val_mae: 2.8932\n",
            "Epoch 171/200\n",
            "12/12 [==============================] - 0s 7ms/step - loss: 7.7985 - mae: 2.1218 - val_loss: 17.4313 - val_mae: 2.8126\n",
            "Epoch 172/200\n",
            "12/12 [==============================] - 0s 7ms/step - loss: 7.4701 - mae: 2.0817 - val_loss: 17.0780 - val_mae: 2.8369\n",
            "Epoch 173/200\n",
            "12/12 [==============================] - 0s 6ms/step - loss: 7.4126 - mae: 2.0267 - val_loss: 17.4823 - val_mae: 3.0059\n",
            "Epoch 174/200\n",
            "12/12 [==============================] - 0s 6ms/step - loss: 9.1888 - mae: 2.3201 - val_loss: 18.0582 - val_mae: 2.8497\n",
            "Epoch 175/200\n",
            "12/12 [==============================] - 0s 6ms/step - loss: 7.3290 - mae: 2.0547 - val_loss: 16.9274 - val_mae: 2.5891\n",
            "Epoch 176/200\n",
            "12/12 [==============================] - 0s 7ms/step - loss: 7.4869 - mae: 2.0927 - val_loss: 19.7567 - val_mae: 2.6667\n",
            "Epoch 177/200\n",
            "12/12 [==============================] - 0s 7ms/step - loss: 7.5582 - mae: 2.0170 - val_loss: 19.2256 - val_mae: 2.6561\n",
            "Epoch 178/200\n",
            "12/12 [==============================] - 0s 8ms/step - loss: 7.0460 - mae: 1.9943 - val_loss: 19.9765 - val_mae: 2.8300\n",
            "Epoch 179/200\n",
            "12/12 [==============================] - 0s 7ms/step - loss: 7.6228 - mae: 2.0638 - val_loss: 15.8164 - val_mae: 2.7188\n",
            "Epoch 180/200\n",
            "12/12 [==============================] - 0s 7ms/step - loss: 7.7471 - mae: 2.1143 - val_loss: 19.0174 - val_mae: 2.8168\n",
            "Epoch 181/200\n",
            "12/12 [==============================] - 0s 7ms/step - loss: 6.9728 - mae: 2.0052 - val_loss: 17.2149 - val_mae: 2.6133\n",
            "Epoch 182/200\n",
            "12/12 [==============================] - 0s 7ms/step - loss: 7.1414 - mae: 2.0099 - val_loss: 19.6112 - val_mae: 2.6684\n",
            "Epoch 183/200\n",
            "12/12 [==============================] - 0s 6ms/step - loss: 7.1290 - mae: 1.9722 - val_loss: 18.4658 - val_mae: 2.6446\n",
            "Epoch 184/200\n",
            "12/12 [==============================] - 0s 7ms/step - loss: 7.0877 - mae: 2.0169 - val_loss: 20.0518 - val_mae: 2.6683\n",
            "Epoch 185/200\n",
            "12/12 [==============================] - 0s 7ms/step - loss: 7.3592 - mae: 2.0235 - val_loss: 21.6047 - val_mae: 2.7852\n",
            "Epoch 186/200\n",
            "12/12 [==============================] - 0s 6ms/step - loss: 7.2527 - mae: 2.0726 - val_loss: 18.9644 - val_mae: 2.6608\n",
            "Epoch 187/200\n",
            "12/12 [==============================] - 0s 8ms/step - loss: 7.2635 - mae: 1.9958 - val_loss: 18.2622 - val_mae: 2.6534\n",
            "Epoch 188/200\n",
            "12/12 [==============================] - 0s 7ms/step - loss: 7.0243 - mae: 2.0525 - val_loss: 21.3629 - val_mae: 2.7359\n",
            "Epoch 189/200\n",
            "12/12 [==============================] - 0s 7ms/step - loss: 6.9122 - mae: 1.9906 - val_loss: 19.7034 - val_mae: 2.6869\n",
            "Epoch 190/200\n",
            "12/12 [==============================] - 0s 7ms/step - loss: 6.9173 - mae: 1.9854 - val_loss: 19.0725 - val_mae: 2.6668\n",
            "Epoch 191/200\n",
            "12/12 [==============================] - 0s 7ms/step - loss: 7.0779 - mae: 1.9908 - val_loss: 19.7724 - val_mae: 2.6659\n",
            "Epoch 192/200\n",
            "12/12 [==============================] - 0s 8ms/step - loss: 7.2260 - mae: 2.0474 - val_loss: 17.2209 - val_mae: 2.7381\n",
            "Epoch 193/200\n",
            "12/12 [==============================] - 0s 6ms/step - loss: 6.8793 - mae: 1.9284 - val_loss: 19.6107 - val_mae: 2.6860\n",
            "Epoch 194/200\n",
            "12/12 [==============================] - 0s 6ms/step - loss: 6.8083 - mae: 1.9847 - val_loss: 20.0838 - val_mae: 2.7149\n",
            "Epoch 195/200\n",
            "12/12 [==============================] - 0s 8ms/step - loss: 6.8554 - mae: 1.9532 - val_loss: 18.0296 - val_mae: 2.6732\n",
            "Epoch 196/200\n",
            "12/12 [==============================] - 0s 7ms/step - loss: 6.8445 - mae: 1.9606 - val_loss: 19.6177 - val_mae: 2.7965\n",
            "Epoch 197/200\n",
            "12/12 [==============================] - 0s 6ms/step - loss: 7.0049 - mae: 2.0001 - val_loss: 17.9993 - val_mae: 2.7323\n",
            "Epoch 198/200\n",
            "12/12 [==============================] - 0s 8ms/step - loss: 6.7174 - mae: 1.9475 - val_loss: 19.6650 - val_mae: 2.7120\n",
            "Epoch 199/200\n",
            "12/12 [==============================] - 0s 6ms/step - loss: 7.0628 - mae: 2.0159 - val_loss: 20.1256 - val_mae: 2.7930\n",
            "Epoch 200/200\n",
            "12/12 [==============================] - 0s 7ms/step - loss: 7.9281 - mae: 2.1091 - val_loss: 19.8720 - val_mae: 2.7970\n"
          ]
        }
      ]
    },
    {
      "cell_type": "markdown",
      "metadata": {
        "id": "mvlGXR3yVMYo"
      },
      "source": [
        "#### 1.6. Делаем предсказания на тестовых данных"
      ]
    },
    {
      "cell_type": "code",
      "source": [
        "preds = model.predict(X_test)\n",
        "X_test"
      ],
      "metadata": {
        "id": "Rui6kjT01jEA",
        "outputId": "f18d71fa-5a21-40b6-8f65-f908920c6d07",
        "colab": {
          "base_uri": "https://localhost:8080/"
        }
      },
      "execution_count": null,
      "outputs": [
        {
          "output_type": "stream",
          "name": "stdout",
          "text": [
            "4/4 [==============================] - 0s 4ms/step\n"
          ]
        },
        {
          "output_type": "execute_result",
          "data": {
            "text/plain": [
              "array([[6.7240e-02, 0.0000e+00, 3.2400e+00, ..., 1.6900e+01, 3.7521e+02,\n",
              "        7.3400e+00],\n",
              "       [9.2323e+00, 0.0000e+00, 1.8100e+01, ..., 2.0200e+01, 3.6615e+02,\n",
              "        9.5300e+00],\n",
              "       [1.1425e-01, 0.0000e+00, 1.3890e+01, ..., 1.6400e+01, 3.9374e+02,\n",
              "        1.0500e+01],\n",
              "       ...,\n",
              "       [3.4940e-01, 0.0000e+00, 9.9000e+00, ..., 1.8400e+01, 3.9624e+02,\n",
              "        9.9700e+00],\n",
              "       [9.8490e-02, 0.0000e+00, 2.5650e+01, ..., 1.9100e+01, 3.7938e+02,\n",
              "        1.7580e+01],\n",
              "       [7.5030e-02, 3.3000e+01, 2.1800e+00, ..., 1.8400e+01, 3.9690e+02,\n",
              "        6.4700e+00]])"
            ]
          },
          "metadata": {},
          "execution_count": 39
        }
      ]
    },
    {
      "cell_type": "markdown",
      "metadata": {
        "id": "NLsmmLVkVhkL"
      },
      "source": [
        "#### 1.7. Вычисляем метрику качества на тестовых данных"
      ]
    },
    {
      "cell_type": "code",
      "source": [
        "from sklearn.metrics import mean_absolute_error\n",
        "\n",
        "error = mean_absolute_error(preds, y_test)\n",
        "print(error)"
      ],
      "metadata": {
        "id": "V8cpkQnr1jcS",
        "outputId": "bd05ed4b-b71a-4afd-ca9a-a093c0fad700",
        "colab": {
          "base_uri": "https://localhost:8080/"
        }
      },
      "execution_count": null,
      "outputs": [
        {
          "output_type": "stream",
          "name": "stdout",
          "text": [
            "5972.796216781495\n"
          ]
        }
      ]
    },
    {
      "cell_type": "markdown",
      "metadata": {
        "id": "d4eyitaoKx_E"
      },
      "source": [
        "#### 1.8. Строим график обучения"
      ]
    },
    {
      "cell_type": "code",
      "source": [
        "import matplotlib.pyplot as plt\n",
        "\n",
        "plt.plot(H.history[\"loss\"], label=\"loss\")\n",
        "plt.plot(H.history[\"val_loss\"], label=\"val_loss\")\n",
        "plt.legend()\n",
        "plt.show()"
      ],
      "metadata": {
        "id": "tw-JEpqm1jyK",
        "outputId": "8f1ef33f-7091-4287-dd05-eea783e42de9",
        "colab": {
          "base_uri": "https://localhost:8080/",
          "height": 430
        }
      },
      "execution_count": null,
      "outputs": [
        {
          "output_type": "display_data",
          "data": {
            "text/plain": [
              "<Figure size 640x480 with 1 Axes>"
            ],
            "image/png": "[encoded data removed]"
          },
          "metadata": {}
        }
      ]
    },
    {
      "cell_type": "markdown",
      "metadata": {
        "id": "XYMsbjaoMEqT"
      },
      "source": [
        "#### 1.9. Построение графического интерфейса в Gradio Проверка обученной модели пользовательскими данными"
      ]
    },
    {
      "cell_type": "code",
      "source": [
        "!pip install gradio"
      ],
      "metadata": {
        "id": "x-dyoItx2JN_",
        "colab": {
          "base_uri": "https://localhost:8080/"
        },
        "outputId": "4b2416b9-0f2c-4b9c-c3dc-08fb2029abc4"
      },
      "execution_count": null,
      "outputs": [
        {
          "output_type": "stream",
          "name": "stdout",
          "text": [
            "Collecting gradio\n",
            "  Downloading gradio-4.20.1-py3-none-any.whl (17.0 MB)\n",
            "\u001b[2K     \u001b[90m━━━━━━━━━━━━━━━━━━━━━━━━━━━━━━━━━━━━━━━━\u001b[0m \u001b[32m17.0/17.0 MB\u001b[0m \u001b[31m57.9 MB/s\u001b[0m eta \u001b[36m0:00:00\u001b[0m\n",
            "\u001b[?25hCollecting aiofiles<24.0,>=22.0 (from gradio)\n",
            "  Downloading aiofiles-23.2.1-py3-none-any.whl (15 kB)\n",
            "Requirement already satisfied: altair<6.0,>=4.2.0 in /usr/local/lib/python3.10/dist-packages (from gradio) (4.2.2)\n",
            "Collecting fastapi (from gradio)\n",
            "  Downloading fastapi-0.110.0-py3-none-any.whl (92 kB)\n",
            "\u001b[2K     \u001b[90m━━━━━━━━━━━━━━━━━━━━━━━━━━━━━━━━━━━━━━━━\u001b[0m \u001b[32m92.1/92.1 kB\u001b[0m \u001b[31m10.4 MB/s\u001b[0m eta \u001b[36m0:00:00\u001b[0m\n",
            "\u001b[?25hCollecting ffmpy (from gradio)\n",
            "  Downloading ffmpy-0.3.2.tar.gz (5.5 kB)\n",
            "  Preparing metadata (setup.py) ... \u001b[?25l\u001b[?25hdone\n",
            "Collecting gradio-client==0.11.0 (from gradio)\n",
            "  Downloading gradio_client-0.11.0-py3-none-any.whl (308 kB)\n",
            "\u001b[2K     \u001b[90m━━━━━━━━━━━━━━━━━━━━━━━━━━━━━━━━━━━━━━━━\u001b[0m \u001b[32m308.2/308.2 kB\u001b[0m \u001b[31m30.6 MB/s\u001b[0m eta \u001b[36m0:00:00\u001b[0m\n",
            "\u001b[?25hCollecting httpx>=0.24.1 (from gradio)\n",
            "  Downloading httpx-0.27.0-py3-none-any.whl (75 kB)\n",
            "\u001b[2K     \u001b[90m━━━━━━━━━━━━━━━━━━━━━━━━━━━━━━━━━━━━━━━━\u001b[0m \u001b[32m75.6/75.6 kB\u001b[0m \u001b[31m9.9 MB/s\u001b[0m eta \u001b[36m0:00:00\u001b[0m\n",
            "\u001b[?25hRequirement already satisfied: huggingface-hub>=0.19.3 in /usr/local/lib/python3.10/dist-packages (from gradio) (0.20.3)\n",
            "Requirement already satisfied: importlib-resources<7.0,>=1.3 in /usr/local/lib/python3.10/dist-packages (from gradio) (6.1.2)\n",
            "Requirement already satisfied: jinja2<4.0 in /usr/local/lib/python3.10/dist-packages (from gradio) (3.1.3)\n",
            "Requirement already satisfied: markupsafe~=2.0 in /usr/local/lib/python3.10/dist-packages (from gradio) (2.1.5)\n",
            "Requirement already satisfied: matplotlib~=3.0 in /usr/local/lib/python3.10/dist-packages (from gradio) (3.7.1)\n",
            "Requirement already satisfied: numpy~=1.0 in /usr/local/lib/python3.10/dist-packages (from gradio) (1.25.2)\n",
            "Collecting orjson~=3.0 (from gradio)\n",
            "  Downloading orjson-3.9.15-cp310-cp310-manylinux_2_17_x86_64.manylinux2014_x86_64.whl (138 kB)\n",
            "\u001b[2K     \u001b[90m━━━━━━━━━━━━━━━━━━━━━━━━━━━━━━━━━━━━━━━━\u001b[0m \u001b[32m138.5/138.5 kB\u001b[0m \u001b[31m15.0 MB/s\u001b[0m eta \u001b[36m0:00:00\u001b[0m\n",
            "\u001b[?25hRequirement already satisfied: packaging in /usr/local/lib/python3.10/dist-packages (from gradio) (23.2)\n",
            "Requirement already satisfied: pandas<3.0,>=1.0 in /usr/local/lib/python3.10/dist-packages (from gradio) (1.5.3)\n",
            "Requirement already satisfied: pillow<11.0,>=8.0 in /usr/local/lib/python3.10/dist-packages (from gradio) (9.4.0)\n",
            "Requirement already satisfied: pydantic>=2.0 in /usr/local/lib/python3.10/dist-packages (from gradio) (2.6.3)\n",
            "Collecting pydub (from gradio)\n",
            "  Downloading pydub-0.25.1-py2.py3-none-any.whl (32 kB)\n",
            "Collecting python-multipart>=0.0.9 (from gradio)\n",
            "  Downloading python_multipart-0.0.9-py3-none-any.whl (22 kB)\n",
            "Requirement already satisfied: pyyaml<7.0,>=5.0 in /usr/local/lib/python3.10/dist-packages (from gradio) (6.0.1)\n",
            "Collecting ruff>=0.2.2 (from gradio)\n",
            "  Downloading ruff-0.3.1-py3-none-manylinux_2_17_x86_64.manylinux2014_x86_64.whl (7.9 MB)\n",
            "\u001b[2K     \u001b[90m━━━━━━━━━━━━━━━━━━━━━━━━━━━━━━━━━━━━━━━━\u001b[0m \u001b[32m7.9/7.9 MB\u001b[0m \u001b[31m91.9 MB/s\u001b[0m eta \u001b[36m0:00:00\u001b[0m\n",
            "\u001b[?25hCollecting semantic-version~=2.0 (from gradio)\n",
            "  Downloading semantic_version-2.10.0-py2.py3-none-any.whl (15 kB)\n",
            "Collecting tomlkit==0.12.0 (from gradio)\n",
            "  Downloading tomlkit-0.12.0-py3-none-any.whl (37 kB)\n",
            "Requirement already satisfied: typer[all]<1.0,>=0.9 in /usr/local/lib/python3.10/dist-packages (from gradio) (0.9.0)\n",
            "Requirement already satisfied: typing-extensions~=4.0 in /usr/local/lib/python3.10/dist-packages (from gradio) (4.10.0)\n",
            "Collecting uvicorn>=0.14.0 (from gradio)\n",
            "  Downloading uvicorn-0.27.1-py3-none-any.whl (60 kB)\n",
            "\u001b[2K     \u001b[90m━━━━━━━━━━━━━━━━━━━━━━━━━━━━━━━━━━━━━━━━\u001b[0m \u001b[32m60.8/60.8 kB\u001b[0m \u001b[31m7.6 MB/s\u001b[0m eta \u001b[36m0:00:00\u001b[0m\n",
            "\u001b[?25hRequirement already satisfied: fsspec in /usr/local/lib/python3.10/dist-packages (from gradio-client==0.11.0->gradio) (2023.6.0)\n",
            "Collecting websockets<12.0,>=10.0 (from gradio-client==0.11.0->gradio)\n",
            "  Downloading websockets-11.0.3-cp310-cp310-manylinux_2_5_x86_64.manylinux1_x86_64.manylinux_2_17_x86_64.manylinux2014_x86_64.whl (129 kB)\n",
            "\u001b[2K     \u001b[90m━━━━━━━━━━━━━━━━━━━━━━━━━━━━━━━━━━━━━━━━\u001b[0m \u001b[32m129.9/129.9 kB\u001b[0m \u001b[31m16.4 MB/s\u001b[0m eta \u001b[36m0:00:00\u001b[0m\n",
            "\u001b[?25hRequirement already satisfied: entrypoints in /usr/local/lib/python3.10/dist-packages (from altair<6.0,>=4.2.0->gradio) (0.4)\n",
            "Requirement already satisfied: jsonschema>=3.0 in /usr/local/lib/python3.10/dist-packages (from altair<6.0,>=4.2.0->gradio) (4.19.2)\n",
            "Requirement already satisfied: toolz in /usr/local/lib/python3.10/dist-packages (from altair<6.0,>=4.2.0->gradio) (0.12.1)\n",
            "Requirement already satisfied: anyio in /usr/local/lib/python3.10/dist-packages (from httpx>=0.24.1->gradio) (3.7.1)\n",
            "Requirement already satisfied: certifi in /usr/local/lib/python3.10/dist-packages (from httpx>=0.24.1->gradio) (2024.2.2)\n",
            "Collecting httpcore==1.* (from httpx>=0.24.1->gradio)\n",
            "  Downloading httpcore-1.0.4-py3-none-any.whl (77 kB)\n",
            "\u001b[2K     \u001b[90m━━━━━━━━━━━━━━━━━━━━━━━━━━━━━━━━━━━━━━━━\u001b[0m \u001b[32m77.8/77.8 kB\u001b[0m \u001b[31m10.1 MB/s\u001b[0m eta \u001b[36m0:00:00\u001b[0m\n",
            "\u001b[?25hRequirement already satisfied: idna in /usr/local/lib/python3.10/dist-packages (from httpx>=0.24.1->gradio) (3.6)\n",
            "Requirement already satisfied: sniffio in /usr/local/lib/python3.10/dist-packages (from httpx>=0.24.1->gradio) (1.3.1)\n",
            "Collecting h11<0.15,>=0.13 (from httpcore==1.*->httpx>=0.24.1->gradio)\n",
            "  Downloading h11-0.14.0-py3-none-any.whl (58 kB)\n",
            "\u001b[2K     \u001b[90m━━━━━━━━━━━━━━━━━━━━━━━━━━━━━━━━━━━━━━━━\u001b[0m \u001b[32m58.3/58.3 kB\u001b[0m \u001b[31m7.6 MB/s\u001b[0m eta \u001b[36m0:00:00\u001b[0m\n",
            "\u001b[?25hRequirement already satisfied: filelock in /usr/local/lib/python3.10/dist-packages (from huggingface-hub>=0.19.3->gradio) (3.13.1)\n",
            "Requirement already satisfied: requests in /usr/local/lib/python3.10/dist-packages (from huggingface-hub>=0.19.3->gradio) (2.31.0)\n",
            "Requirement already satisfied: tqdm>=4.42.1 in /usr/local/lib/python3.10/dist-packages (from huggingface-hub>=0.19.3->gradio) (4.66.2)\n",
            "Requirement already satisfied: contourpy>=1.0.1 in /usr/local/lib/python3.10/dist-packages (from matplotlib~=3.0->gradio) (1.2.0)\n",
            "Requirement already satisfied: cycler>=0.10 in /usr/local/lib/python3.10/dist-packages (from matplotlib~=3.0->gradio) (0.12.1)\n",
            "Requirement already satisfied: fonttools>=4.22.0 in /usr/local/lib/python3.10/dist-packages (from matplotlib~=3.0->gradio) (4.49.0)\n",
            "Requirement already satisfied: kiwisolver>=1.0.1 in /usr/local/lib/python3.10/dist-packages (from matplotlib~=3.0->gradio) (1.4.5)\n",
            "Requirement already satisfied: pyparsing>=2.3.1 in /usr/local/lib/python3.10/dist-packages (from matplotlib~=3.0->gradio) (3.1.1)\n",
            "Requirement already satisfied: python-dateutil>=2.7 in /usr/local/lib/python3.10/dist-packages (from matplotlib~=3.0->gradio) (2.8.2)\n",
            "Requirement already satisfied: pytz>=2020.1 in /usr/local/lib/python3.10/dist-packages (from pandas<3.0,>=1.0->gradio) (2023.4)\n",
            "Requirement already satisfied: annotated-types>=0.4.0 in /usr/local/lib/python3.10/dist-packages (from pydantic>=2.0->gradio) (0.6.0)\n",
            "Requirement already satisfied: pydantic-core==2.16.3 in /usr/local/lib/python3.10/dist-packages (from pydantic>=2.0->gradio) (2.16.3)\n",
            "Requirement already satisfied: click<9.0.0,>=7.1.1 in /usr/local/lib/python3.10/dist-packages (from typer[all]<1.0,>=0.9->gradio) (8.1.7)\n",
            "Collecting colorama<0.5.0,>=0.4.3 (from typer[all]<1.0,>=0.9->gradio)\n",
            "  Downloading colorama-0.4.6-py2.py3-none-any.whl (25 kB)\n",
            "Collecting shellingham<2.0.0,>=1.3.0 (from typer[all]<1.0,>=0.9->gradio)\n",
            "  Downloading shellingham-1.5.4-py2.py3-none-any.whl (9.8 kB)\n",
            "Requirement already satisfied: rich<14.0.0,>=10.11.0 in /usr/local/lib/python3.10/dist-packages (from typer[all]<1.0,>=0.9->gradio) (13.7.1)\n",
            "Collecting starlette<0.37.0,>=0.36.3 (from fastapi->gradio)\n",
            "  Downloading starlette-0.36.3-py3-none-any.whl (71 kB)\n",
            "\u001b[2K     \u001b[90m━━━━━━━━━━━━━━━━━━━━━━━━━━━━━━━━━━━━━━━━\u001b[0m \u001b[32m71.5/71.5 kB\u001b[0m \u001b[31m9.2 MB/s\u001b[0m eta \u001b[36m0:00:00\u001b[0m\n",
            "\u001b[?25hRequirement already satisfied: attrs>=22.2.0 in /usr/local/lib/python3.10/dist-packages (from jsonschema>=3.0->altair<6.0,>=4.2.0->gradio) (23.2.0)\n",
            "Requirement already satisfied: jsonschema-specifications>=2023.03.6 in /usr/local/lib/python3.10/dist-packages (from jsonschema>=3.0->altair<6.0,>=4.2.0->gradio) (2023.12.1)\n",
            "Requirement already satisfied: referencing>=0.28.4 in /usr/local/lib/python3.10/dist-packages (from jsonschema>=3.0->altair<6.0,>=4.2.0->gradio) (0.33.0)\n",
            "Requirement already satisfied: rpds-py>=0.7.1 in /usr/local/lib/python3.10/dist-packages (from jsonschema>=3.0->altair<6.0,>=4.2.0->gradio) (0.18.0)\n",
            "Requirement already satisfied: six>=1.5 in /usr/local/lib/python3.10/dist-packages (from python-dateutil>=2.7->matplotlib~=3.0->gradio) (1.16.0)\n",
            "Requirement already satisfied: markdown-it-py>=2.2.0 in /usr/local/lib/python3.10/dist-packages (from rich<14.0.0,>=10.11.0->typer[all]<1.0,>=0.9->gradio) (3.0.0)\n",
            "Requirement already satisfied: pygments<3.0.0,>=2.13.0 in /usr/local/lib/python3.10/dist-packages (from rich<14.0.0,>=10.11.0->typer[all]<1.0,>=0.9->gradio) (2.16.1)\n",
            "Requirement already satisfied: exceptiongroup in /usr/local/lib/python3.10/dist-packages (from anyio->httpx>=0.24.1->gradio) (1.2.0)\n",
            "Requirement already satisfied: charset-normalizer<4,>=2 in /usr/local/lib/python3.10/dist-packages (from requests->huggingface-hub>=0.19.3->gradio) (3.3.2)\n",
            "Requirement already satisfied: urllib3<3,>=1.21.1 in /usr/local/lib/python3.10/dist-packages (from requests->huggingface-hub>=0.19.3->gradio) (2.0.7)\n",
            "Requirement already satisfied: mdurl~=0.1 in /usr/local/lib/python3.10/dist-packages (from markdown-it-py>=2.2.0->rich<14.0.0,>=10.11.0->typer[all]<1.0,>=0.9->gradio) (0.1.2)\n",
            "Building wheels for collected packages: ffmpy\n",
            "  Building wheel for ffmpy (setup.py) ... \u001b[?25l\u001b[?25hdone\n",
            "  Created wheel for ffmpy: filename=ffmpy-0.3.2-py3-none-any.whl size=5584 sha256=a7e38bd3efaf0b9f8b6cdbf6ac5978c041f0081d9b91fa248b10b8018f69225c\n",
            "  Stored in directory: /root/.cache/pip/wheels/bd/65/9a/671fc6dcde07d4418df0c592f8df512b26d7a0029c2a23dd81\n",
            "Successfully built ffmpy\n",
            "Installing collected packages: pydub, ffmpy, websockets, tomlkit, shellingham, semantic-version, ruff, python-multipart, orjson, h11, colorama, aiofiles, uvicorn, starlette, httpcore, httpx, fastapi, gradio-client, gradio\n",
            "Successfully installed aiofiles-23.2.1 colorama-0.4.6 fastapi-0.110.0 ffmpy-0.3.2 gradio-4.20.1 gradio-client-0.11.0 h11-0.14.0 httpcore-1.0.4 httpx-0.27.0 orjson-3.9.15 pydub-0.25.1 python-multipart-0.0.9 ruff-0.3.1 semantic-version-2.10.0 shellingham-1.5.4 starlette-0.36.3 tomlkit-0.12.0 uvicorn-0.27.1 websockets-11.0.3\n"
          ]
        }
      ]
    },
    {
      "cell_type": "code",
      "source": [
        "import gradio as gr\n",
        "\n",
        "def preprocess_input(features, scale_model=\"scaler.pkl\"):\n",
        "  try:\n",
        "    # Преобразование в NumPy массив\n",
        "    features = np.array(features)\n",
        "\n",
        "    # Проверка на пустой массив\n",
        "    if not features.size:\n",
        "      raise ValueError(\"Пустой массив признаков!\")\n",
        "\n",
        "    # Изменение размерности массива (8,) -> (1, 8)\n",
        "    features = features.reshape(1, -1)\n",
        "\n",
        "    # Загрузка модели масштабирования\n",
        "    with open(scale_model, \"rb\") as f:\n",
        "      scaler = pickle.load(f)\n",
        "\n",
        "    # Масштабирование признаков\n",
        "    features = scaler.transform(features)\n",
        "\n",
        "  except Exception as e:\n",
        "    raise ValueError(f\"Ошибка при предобработке: {e}\")\n",
        "\n",
        "  return features\n",
        "\n",
        "def predict_price(*features):\n",
        "  try:\n",
        "    features = preprocess_input(features)\n",
        "\n",
        "    prediction = model.predict(features, verbose=0)\n",
        "\n",
        "    # Проверка на ошибки прогнозирования\n",
        "    if np.isnan(prediction).any():\n",
        "      raise ValueError(\"Ошибка при прогнозировании: NaN\")\n",
        "\n",
        "  except Exception as e:\n",
        "    raise ValueError(f\"Ошибка при прогнозировании: {e}\")\n",
        "\n",
        "  # Возвращение прогнозируемой цены\n",
        "  # (умножение на 1000 для отображения в тысячах долларов)\n",
        "  return prediction[0][0]\n",
        "\n",
        "# Интерфейс Gradio\n",
        "interface = gr.Interface(\n",
        "    fn=predict_price,\n",
        "    inputs=[\n",
        "        gr.Slider(label=\"CRIM\", minimum=0, maximum=1000000, step=0.1, value=0),\n",
        "        gr.Slider(label=\"ZN\", minimum=0, maximum=1000000, step=0.1, value=0),\n",
        "        gr.Slider(label=\"INDUS\", minimum=0, maximum=1000000, step=0.1, value=0),\n",
        "        gr.Slider(label=\"CHAS\", minimum=0, maximum=1000000, step=0.1, value=0),\n",
        "        gr.Slider(label=\"NOX\", minimum=0, maximum=1000000, step=0.1, value=0),\n",
        "        gr.Slider(label=\"RM\", minimum=0, maximum=1000000, step=0.1, value=0),\n",
        "        gr.Slider(label=\"AGE\", minimum=0, maximum=1000000, step=0.1, value=0),\n",
        "        gr.Slider(label=\"DIS\", minimum=0, maximum=1000000, step=0.1, value=0),\n",
        "        gr.Slider(label=\"RAD\", minimum=0, maximum=1000000, step=0.1, value=0),\n",
        "        gr.Slider(label=\"TAX\", minimum=0, maximum=1000000, step=0.1, value=0),\n",
        "        gr.Slider(label=\"PTRATIO\", minimum=0, maximum=1000000, step=0.1, value=0),\n",
        "        gr.Slider(label=\"B\", minimum=0, maximum=1000000, step=0.1, value=0),\n",
        "        gr.Slider(label=\"LSTAT\", minimum=0, maximum=1000000, step=0.1, value=0),\n",
        "    ],\n",
        "    # Обновление при каждом изменении\n",
        "    live=True,\n",
        "    outputs=gr.Text(label=\"Predicted Price ($)\"),\n",
        ")\n",
        "\n",
        "# Запуск интерфейса\n",
        "interface.launch(debug=False, share=True)"
      ],
      "metadata": {
        "id": "hBprX1YaxRXT",
        "colab": {
          "base_uri": "https://localhost:8080/",
          "height": 594
        },
        "outputId": "251230c7-9b5e-4605-c88f-86fc06d216d0"
      },
      "execution_count": null,
      "outputs": [
        {
          "output_type": "stream",
          "name": "stdout",
          "text": [
            "Colab notebook detected. To show errors in colab notebook, set debug=True in launch()\n",
            "Running on public URL: https://f83e69d50c8d45c920.gradio.live\n",
            "\n",
            "This share link expires in 72 hours. For free permanent hosting and GPU upgrades, run `gradio deploy` from Terminal to deploy to Spaces (https://huggingface.co/spaces)\n"
          ]
        },
        {
          "output_type": "display_data",
          "data": {
            "text/plain": [
              "<IPython.core.display.HTML object>"
            ],
            "text/html": [
              "<div><iframe src=\"https://f83e69d50c8d45c920.gradio.live\" width=\"100%\" height=\"500\" allow=\"autoplay; camera; microphone; clipboard-read; clipboard-write;\" frameborder=\"0\" allowfullscreen></iframe></div>"
            ]
          },
          "metadata": {}
        },
        {
          "output_type": "execute_result",
          "data": {
            "text/plain": []
          },
          "metadata": {},
          "execution_count": 45
        }
      ]
    },
    {
      "cell_type": "markdown",
      "source": [
        "#### 2. Проверка обученной модели пользовательскими данными"
      ],
      "metadata": {
        "id": "8UQpi9te2D4J"
      }
    },
    {
      "cell_type": "code",
      "source": [
        "custom_features = [1, 2, 3, 4, 5, 6, 7, 8, 9, 10, 11, 12, 13]\n",
        "prediction = predict_price(*custom_features)[0][0]"
      ],
      "metadata": {
        "id": "9aohXWhb2Jjh",
        "colab": {
          "base_uri": "https://localhost:8080/"
        },
        "outputId": "c6d1aaf0-56bb-4581-8081-04e7294dc1f4"
      },
      "execution_count": null,
      "outputs": [
        {
          "output_type": "stream",
          "name": "stdout",
          "text": [
            "[[ 0.01116872  0.02        0.0931085   4.          9.49588477  0.46733091\n",
            "   0.04222451  0.62322982  0.34782609 -0.33778626 -0.17021277  0.02945181\n",
            "   0.31971631]]\n"
          ]
        }
      ]
    },
    {
      "cell_type": "markdown",
      "source": [
        "## Задание №2.Обучение модели ИНС для решения задачи классификации\n",
        "\n"
      ],
      "metadata": {
        "id": "DQQMXC8garr3"
      }
    },
    {
      "cell_type": "markdown",
      "source": [
        "Порядок работы:"
      ],
      "metadata": {
        "id": "1OAwSdaG36Ip"
      }
    },
    {
      "cell_type": "markdown",
      "source": [
        "* 1. Собрать датасет из изображений, соответствующих не менее, чем 3 классам объектов (в\n",
        "примере с пары были кошки, собаки и панды).\n"
      ],
      "metadata": {
        "id": "q8COT3YubK-X"
      }
    },
    {
      "cell_type": "markdown",
      "source": [
        "- 2. Для каждого класса должно быть собрано не менее 1000 изображений. Количество\n",
        "изображений для каждого класса должно быть одинаковым.\n",
        "Готовые датасеты можно скачать отсюда: https://www.kaggle.com/\n"
      ],
      "metadata": {
        "id": "YstDH7J2bM5F"
      }
    },
    {
      "cell_type": "markdown",
      "source": [
        "- 3. Обучить модель глубокой нейронной сети для решения задачи классификации\n",
        "изображений, по выбранным Вами классам. (В качестве примера приведён код с пары)\n",
        "В конечном итоге Вы должны сохранить обученную модель для классификации\n",
        "изображений, соответствующих тем классам, которые Вы выбрали, а затем воспользоваться этой моделью для предсказания классов на пользовательских изображениях.\n",
        "\n"
      ],
      "metadata": {
        "id": "9aTvc3A4bN_h"
      }
    },
    {
      "cell_type": "markdown",
      "source": [
        "> При выполнении заданий пробуйте использовать разные функции потерь,\n",
        "методы оптимизации, функции активации и метрики ошибок."
      ],
      "metadata": {
        "id": "yKU34aHabUfp"
      }
    },
    {
      "cell_type": "markdown",
      "source": [
        "### 1. Устанавливаем зависимости:"
      ],
      "metadata": {
        "id": "l8zEG_g8O-Ge"
      }
    },
    {
      "cell_type": "code",
      "execution_count": 82,
      "metadata": {
        "id": "sh6kN7IMO8de"
      },
      "outputs": [],
      "source": [
        "# Импортируем LabelBinarizer для преобразования текстовых меток в векторы\n",
        "# (например, \"кошка\" -> [1, 0, 0], \"собака\" -> [0, 1, 0], \"панда\" -> [0, 0, 1])\n",
        "from sklearn.preprocessing import LabelBinarizer\n",
        "\n",
        "# Импортируем train_test_split для разделения данных на обучающую и тестовую выборки\n",
        "from sklearn.model_selection import train_test_split\n",
        "\n",
        "# Импортируем classification_report для оценки качества классификации\n",
        "from sklearn.metrics import classification_report\n",
        "\n",
        "# Импортируем Sequential для создания последовательной модели нейронной сети\n",
        "from keras.models import Sequential\n",
        "\n",
        "# Импортируем Dense для создания плотных слоев нейронной сети\n",
        "from keras.layers import Dense\n",
        "\n",
        "# Импортируем SGD и Adam для оптимизации обучения нейронной сети\n",
        "from keras.optimizers import SGD, Adam\n",
        "\n",
        "# Импортируем paths из imutils для удобной работы с путями к изображениям\n",
        "from imutils import paths\n",
        "\n",
        "# Импортируем pyplot из matplotlib для визуализации данных\n",
        "import matplotlib.pyplot as plt\n",
        "\n",
        "# Импортируем numpy для работы с массивами данных\n",
        "import numpy as np\n",
        "\n",
        "# Импортируем random для генерации случайных чисел\n",
        "import random\n",
        "\n",
        "# Импортируем pickle для сериализации и десериализации данных\n",
        "import pickle\n",
        "\n",
        "# Импортируем cv2 для работы с изображениями\n",
        "import cv2\n",
        "\n",
        "# Импортируем os для работы с файловой системой\n",
        "import os\n",
        "\n",
        "# Импортируем cv2_imshow из google.colab.patches для отображения изображений в Colab\n",
        "from google.colab.patches import cv2_imshow"
      ]
    },
    {
      "cell_type": "markdown",
      "source": [
        "### 2. Загружаем набор данных:"
      ],
      "metadata": {
        "id": "aJextk3pO8Ko"
      }
    },
    {
      "cell_type": "code",
      "execution_count": 83,
      "metadata": {
        "id": "ZQOhPesK2-J8",
        "colab": {
          "base_uri": "https://localhost:8080/"
        },
        "outputId": "6e0fb582-e9f1-4139-ae1a-51c0e3ec21b4"
      },
      "outputs": [
        {
          "output_type": "stream",
          "name": "stdout",
          "text": [
            "Requirement already satisfied: wldhx.yadisk-direct in /usr/local/lib/python3.10/dist-packages (0.0.6)\n",
            "Requirement already satisfied: requests in /usr/local/lib/python3.10/dist-packages (from wldhx.yadisk-direct) (2.31.0)\n",
            "Requirement already satisfied: charset-normalizer<4,>=2 in /usr/local/lib/python3.10/dist-packages (from requests->wldhx.yadisk-direct) (3.3.2)\n",
            "Requirement already satisfied: idna<4,>=2.5 in /usr/local/lib/python3.10/dist-packages (from requests->wldhx.yadisk-direct) (3.6)\n",
            "Requirement already satisfied: urllib3<3,>=1.21.1 in /usr/local/lib/python3.10/dist-packages (from requests->wldhx.yadisk-direct) (2.0.7)\n",
            "Requirement already satisfied: certifi>=2017.4.17 in /usr/local/lib/python3.10/dist-packages (from requests->wldhx.yadisk-direct) (2024.2.2)\n",
            "  % Total    % Received % Xferd  Average Speed   Time    Time     Time  Current\n",
            "                                 Dload  Upload   Total   Spent    Left  Speed\n",
            "  0     0    0     0    0     0      0      0 --:--:--  0:00:01 --:--:--     0\n",
            "100 34.0M  100 34.0M    0     0  6364k      0  0:00:05  0:00:05 --:--:-- 9919k\n"
          ]
        }
      ],
      "source": [
        "#https://www.kaggle.com/models/google/gemma/frameworks/keras\n",
        "\n",
        "! pip install wldhx.yadisk-direct\n",
        "! curl -L $(yadisk-direct https://disk.yandex.ru/d/-l7kvshyW9eYGA) -o archive.zip\n",
        "! unzip -o -qq archive.zip"
      ]
    },
    {
      "cell_type": "markdown",
      "source": [
        "### 3. Указываем путь к набору данных:"
      ],
      "metadata": {
        "id": "pX1km_kyV2Ka"
      }
    },
    {
      "cell_type": "code",
      "execution_count": 86,
      "metadata": {
        "id": "hAqtXKu62-bU"
      },
      "outputs": [],
      "source": [
        "import glob\n",
        "\n",
        "image_paths = []\n",
        "for folder_path in glob.glob('/content/pc_parts/*'):\n",
        "    image_paths.extend(glob.glob(folder_path + '/*.jpg'))\n",
        "\n",
        "random.shuffle(sorted(image_paths))"
      ]
    },
    {
      "cell_type": "markdown",
      "source": [
        "### 4. Загружаем набор данных и формируем общую выборку:"
      ],
      "metadata": {
        "id": "sAYZPzKSVobq"
      }
    },
    {
      "cell_type": "code",
      "execution_count": 87,
      "metadata": {
        "id": "1dqs5r-92-x7"
      },
      "outputs": [],
      "source": [
        "def load_images(imagePaths, compression_size = 32):\n",
        "\n",
        "  data = []\n",
        "  labels = []\n",
        "\n",
        "  for imagePath in imagePaths:\n",
        "    # Загрузка изображения\n",
        "    image = cv2.imread(imagePath)\n",
        "\n",
        "    # Изменение разрешения изображения (по умолчанию 32х32х3 -> 3072,)\n",
        "    image = cv2.resize(image, (compression_size, compression_size)).flatten()\n",
        "\n",
        "    # Добавление изображения в список\n",
        "    data.append(image)\n",
        "\n",
        "    # Извлечение метки класса из пути к изображению\n",
        "    label = imagePath.split(os.path.sep)[-2]\n",
        "\n",
        "    # Добавление метки в список\n",
        "    labels.append(label)\n",
        "\n",
        "  return data, labels"
      ]
    },
    {
      "cell_type": "code",
      "source": [
        "compression_size = 32\n",
        "data, labels = load_images(image_paths,  32)"
      ],
      "metadata": {
        "id": "sC_ApsH9eFti"
      },
      "execution_count": null,
      "outputs": []
    },
    {
      "cell_type": "markdown",
      "source": [
        "#### 4.1. Нормализуем данные:"
      ],
      "metadata": {
        "id": "yeiILoUSXn4c"
      }
    },
    {
      "cell_type": "markdown",
      "source": [
        "Масштабируем интенсивности пикселей в диапазон [0, 1], а также преобразуем данные в массивы NumPy для повышения производительности\n"
      ],
      "metadata": {
        "id": "PceSnJBEZDPm"
      }
    },
    {
      "cell_type": "code",
      "execution_count": 90,
      "metadata": {
        "id": "wejqgr9U2_hf"
      },
      "outputs": [],
      "source": [
        "data = np.array(data, dtype=\"float\") / 255.0\n",
        "labels = np.array(labels)"
      ]
    },
    {
      "cell_type": "markdown",
      "source": [
        "#### 4.2. Формируем обучающую и валидационную выборки:"
      ],
      "metadata": {
        "id": "lREm4zIRaSsx"
      }
    },
    {
      "cell_type": "markdown",
      "source": [
        "Разделяем данные на обучающую и валидационную выборки, используя 75% данных для обучения и оставшиеся 25% для валидации"
      ],
      "metadata": {
        "id": "lwTSSQkPa9oI"
      }
    },
    {
      "cell_type": "code",
      "execution_count": 91,
      "metadata": {
        "id": "R23UTovQ3A7R"
      },
      "outputs": [],
      "source": [
        "(X_train, X_val, Y_train, Y_val) = train_test_split(data, labels, test_size=0.25, random_state=42)"
      ]
    },
    {
      "cell_type": "code",
      "source": [
        "lb = LabelBinarizer()\n",
        "Y_train = lb.fit_transform(Y_train)\n",
        "Y_val = lb.transform(Y_val)\n",
        "\n",
        "print(Y_train.shape, Y_val.shape)\n",
        "print(X_train.shape, X_val.shape)"
      ],
      "metadata": {
        "id": "eLaUOXYRfjFc",
        "colab": {
          "base_uri": "https://localhost:8080/"
        },
        "outputId": "084869da-3202-471c-ada1-1c88f2f761d6"
      },
      "execution_count": 92,
      "outputs": [
        {
          "output_type": "stream",
          "name": "stdout",
          "text": [
            "(2459, 14) (820, 14)\n",
            "(2459, 3072) (820, 3072)\n"
          ]
        }
      ]
    },
    {
      "cell_type": "markdown",
      "source": [
        "### 5. Создание модели:"
      ],
      "metadata": {
        "id": "Sz33nCuvc3Pk"
      }
    },
    {
      "cell_type": "markdown",
      "source": [
        "#### 5.1. Определим архитектуру модели с помощью Keras:"
      ],
      "metadata": {
        "id": "r2mcOGxEc-uB"
      }
    },
    {
      "cell_type": "markdown",
      "source": [],
      "metadata": {
        "id": "lBvC9Hhcw6N7"
      }
    },
    {
      "cell_type": "code",
      "execution_count": 93,
      "metadata": {
        "id": "nj_bAWxv3B0B"
      },
      "outputs": [],
      "source": [
        "input_shape = (compression_size * compression_size * 3,)"
      ]
    },
    {
      "cell_type": "markdown",
      "source": [
        "#### 5.2. Установим значение параметров скорости обучения и общего числа эпох\n"
      ],
      "metadata": {
        "id": "HHFTdcCkg1Wr"
      }
    },
    {
      "cell_type": "code",
      "execution_count": 94,
      "metadata": {
        "id": "pzlpLmGm3CMU"
      },
      "outputs": [],
      "source": [
        "model = Sequential()\n",
        "model.add(Dense(3072, input_shape=input_shape, activation=\"relu\"))\n",
        "model.add(Dense(128, activation=\"relu\"))\n",
        "model.add(Dense(len(lb.classes_), activation=\"softmax\"))"
      ]
    },
    {
      "cell_type": "markdown",
      "source": [
        "#### 5.3. Компилируем модель:"
      ],
      "metadata": {
        "id": "YaDdd2wphXLv"
      }
    },
    {
      "cell_type": "code",
      "execution_count": 95,
      "metadata": {
        "id": "3mxDQXSc3Cc5"
      },
      "outputs": [],
      "source": [
        "INIT_LR = 0.00005\n",
        "EPOCHS = 100\n",
        "\n",
        "opt = Adam(learning_rate=INIT_LR)\n",
        "\n",
        "model.compile(loss=\"categorical_crossentropy\", optimizer=opt, metrics=[\"accuracy\"])"
      ]
    },
    {
      "cell_type": "markdown",
      "source": [
        "### 6. Обучение модели искусственной нейронной сети:"
      ],
      "metadata": {
        "id": "EaJdxfw4hwjN"
      }
    },
    {
      "cell_type": "markdown",
      "source": [
        "#### 6.1. Добавим колбэки для сохранения лучшей модели по валидационной точности и остановки обучения, в случае, если модель перестала обучаться:"
      ],
      "metadata": {
        "id": "KAzlK96zi0dy"
      }
    },
    {
      "cell_type": "code",
      "execution_count": 96,
      "metadata": {
        "id": "2d6HT9jU3C3E"
      },
      "outputs": [],
      "source": [
        "from keras.callbacks import EarlyStopping, ModelCheckpoint\n",
        "\n",
        "early_stopping = EarlyStopping(patience=5) # Остановка обучения, если\n",
        "                                             # валидационная точность не\n",
        "                                             # улучшается в течение 5 эпох\n",
        "checkpoint = ModelCheckpoint(filepath=\"best_model.h5\",\n",
        "                             monitor=\"val_accuracy\",\n",
        "                             save_best_only=True,\n",
        "                             verbose=0) # Сохранение модели\n",
        "                                         # только при улучшении\n",
        "                                         # валидационной точности\n"
      ]
    },
    {
      "cell_type": "markdown",
      "source": [
        "#### 6.2. Запустим процесс обучения модели:"
      ],
      "metadata": {
        "id": "IgakM035jDPi"
      }
    },
    {
      "cell_type": "code",
      "execution_count": 97,
      "metadata": {
        "id": "YNloZiKH3DMV",
        "colab": {
          "base_uri": "https://localhost:8080/"
        },
        "outputId": "354afc7e-e7ec-43cc-ea0f-10023fb1c049"
      },
      "outputs": [
        {
          "output_type": "stream",
          "name": "stdout",
          "text": [
            "Epoch 1/100\n",
            "25/25 [==============================] - ETA: 0s - loss: 2.6359 - accuracy: 0.0895"
          ]
        },
        {
          "output_type": "stream",
          "name": "stderr",
          "text": [
            "/usr/local/lib/python3.10/dist-packages/keras/src/engine/training.py:3103: UserWarning: You are saving your model as an HDF5 file via `model.save()`. This file format is considered legacy. We recommend using instead the native Keras format, e.g. `model.save('my_model.keras')`.\n",
            "  saving_api.save_model(\n"
          ]
        },
        {
          "output_type": "stream",
          "name": "stdout",
          "text": [
            "\b\b\b\b\b\b\b\b\b\b\b\b\b\b\b\b\b\b\b\b\b\b\b\b\b\b\b\b\b\b\b\b\b\b\b\b\b\b\b\b\b\b\b\b\b\b\b\b\b\b\b\b\b\b\b\b\b\b\b\b\b\b\b\b\b\b\b\b\b\b\b\b\b\b\b\b\b\b\b\b\b\b\r25/25 [==============================] - 12s 476ms/step - loss: 2.6359 - accuracy: 0.0895 - val_loss: 2.6340 - val_accuracy: 0.0890\n",
            "Epoch 2/100\n",
            "25/25 [==============================] - 12s 486ms/step - loss: 2.6282 - accuracy: 0.0915 - val_loss: 2.6295 - val_accuracy: 0.0890\n",
            "Epoch 3/100\n",
            "25/25 [==============================] - 8s 314ms/step - loss: 2.6199 - accuracy: 0.0915 - val_loss: 2.6249 - val_accuracy: 0.0890\n",
            "Epoch 4/100\n",
            "25/25 [==============================] - 6s 227ms/step - loss: 2.6118 - accuracy: 0.0915 - val_loss: 2.6212 - val_accuracy: 0.0890\n",
            "Epoch 5/100\n",
            "25/25 [==============================] - 7s 282ms/step - loss: 2.6047 - accuracy: 0.0919 - val_loss: 2.6184 - val_accuracy: 0.0915\n",
            "Epoch 6/100\n",
            "25/25 [==============================] - 8s 341ms/step - loss: 2.5993 - accuracy: 0.0948 - val_loss: 2.6158 - val_accuracy: 0.0951\n",
            "Epoch 7/100\n",
            "25/25 [==============================] - 7s 292ms/step - loss: 2.5940 - accuracy: 0.0988 - val_loss: 2.6126 - val_accuracy: 0.1171\n",
            "Epoch 8/100\n",
            "25/25 [==============================] - 6s 249ms/step - loss: 2.5894 - accuracy: 0.1350 - val_loss: 2.6096 - val_accuracy: 0.1220\n",
            "Epoch 9/100\n",
            "25/25 [==============================] - 14s 575ms/step - loss: 2.5839 - accuracy: 0.1216 - val_loss: 2.6073 - val_accuracy: 0.1207\n",
            "Epoch 10/100\n",
            "25/25 [==============================] - 11s 409ms/step - loss: 2.5786 - accuracy: 0.1517 - val_loss: 2.6016 - val_accuracy: 0.1598\n",
            "Epoch 11/100\n",
            "25/25 [==============================] - 7s 298ms/step - loss: 2.5733 - accuracy: 0.1586 - val_loss: 2.5969 - val_accuracy: 0.1671\n",
            "Epoch 12/100\n",
            "25/25 [==============================] - 6s 240ms/step - loss: 2.5670 - accuracy: 0.1684 - val_loss: 2.5927 - val_accuracy: 0.1659\n",
            "Epoch 13/100\n",
            "25/25 [==============================] - 7s 279ms/step - loss: 2.5607 - accuracy: 0.1651 - val_loss: 2.5893 - val_accuracy: 0.1671\n",
            "Epoch 14/100\n",
            "25/25 [==============================] - 6s 253ms/step - loss: 2.5543 - accuracy: 0.1741 - val_loss: 2.5822 - val_accuracy: 0.1744\n",
            "Epoch 15/100\n",
            "25/25 [==============================] - 8s 308ms/step - loss: 2.5479 - accuracy: 0.1773 - val_loss: 2.5779 - val_accuracy: 0.1756\n",
            "Epoch 16/100\n",
            "25/25 [==============================] - 6s 245ms/step - loss: 2.5410 - accuracy: 0.1736 - val_loss: 2.5708 - val_accuracy: 0.1732\n",
            "Epoch 17/100\n",
            "25/25 [==============================] - 7s 278ms/step - loss: 2.5349 - accuracy: 0.1736 - val_loss: 2.5668 - val_accuracy: 0.1756\n",
            "Epoch 18/100\n",
            "25/25 [==============================] - 7s 272ms/step - loss: 2.5279 - accuracy: 0.1777 - val_loss: 2.5610 - val_accuracy: 0.1780\n",
            "Epoch 19/100\n",
            "25/25 [==============================] - 7s 269ms/step - loss: 2.5201 - accuracy: 0.1793 - val_loss: 2.5589 - val_accuracy: 0.1744\n",
            "Epoch 20/100\n",
            "25/25 [==============================] - 6s 239ms/step - loss: 2.5136 - accuracy: 0.1773 - val_loss: 2.5501 - val_accuracy: 0.1646\n",
            "Epoch 21/100\n",
            "25/25 [==============================] - 7s 279ms/step - loss: 2.5067 - accuracy: 0.1765 - val_loss: 2.5474 - val_accuracy: 0.1756\n",
            "Epoch 22/100\n",
            "25/25 [==============================] - 6s 226ms/step - loss: 2.5002 - accuracy: 0.1806 - val_loss: 2.5419 - val_accuracy: 0.1683\n",
            "Epoch 23/100\n",
            "25/25 [==============================] - 7s 268ms/step - loss: 2.4932 - accuracy: 0.1822 - val_loss: 2.5386 - val_accuracy: 0.1537\n",
            "Epoch 24/100\n",
            "25/25 [==============================] - 6s 237ms/step - loss: 2.4874 - accuracy: 0.1810 - val_loss: 2.5334 - val_accuracy: 0.1622\n",
            "Epoch 25/100\n",
            "25/25 [==============================] - 7s 279ms/step - loss: 2.4799 - accuracy: 0.1806 - val_loss: 2.5287 - val_accuracy: 0.1524\n",
            "Epoch 26/100\n",
            "25/25 [==============================] - 6s 226ms/step - loss: 2.4748 - accuracy: 0.1781 - val_loss: 2.5238 - val_accuracy: 0.1622\n",
            "Epoch 27/100\n",
            "25/25 [==============================] - 7s 280ms/step - loss: 2.4692 - accuracy: 0.1826 - val_loss: 2.5195 - val_accuracy: 0.1549\n",
            "Epoch 28/100\n",
            "25/25 [==============================] - 6s 240ms/step - loss: 2.4646 - accuracy: 0.1818 - val_loss: 2.5157 - val_accuracy: 0.1573\n",
            "Epoch 29/100\n",
            "25/25 [==============================] - 7s 278ms/step - loss: 2.4576 - accuracy: 0.1911 - val_loss: 2.5146 - val_accuracy: 0.1659\n",
            "Epoch 30/100\n",
            "25/25 [==============================] - 6s 240ms/step - loss: 2.4532 - accuracy: 0.1867 - val_loss: 2.5099 - val_accuracy: 0.1659\n",
            "Epoch 31/100\n",
            "25/25 [==============================] - 7s 279ms/step - loss: 2.4485 - accuracy: 0.1895 - val_loss: 2.5098 - val_accuracy: 0.1683\n",
            "Epoch 32/100\n",
            "25/25 [==============================] - 6s 227ms/step - loss: 2.4436 - accuracy: 0.1944 - val_loss: 2.5055 - val_accuracy: 0.1744\n",
            "Epoch 33/100\n",
            "25/25 [==============================] - 7s 278ms/step - loss: 2.4386 - accuracy: 0.1940 - val_loss: 2.5026 - val_accuracy: 0.1756\n",
            "Epoch 34/100\n",
            "25/25 [==============================] - 6s 241ms/step - loss: 2.4352 - accuracy: 0.1944 - val_loss: 2.5020 - val_accuracy: 0.1890\n",
            "Epoch 35/100\n",
            "25/25 [==============================] - 7s 268ms/step - loss: 2.4300 - accuracy: 0.1989 - val_loss: 2.4978 - val_accuracy: 0.1829\n",
            "Epoch 36/100\n",
            "25/25 [==============================] - 6s 236ms/step - loss: 2.4274 - accuracy: 0.2025 - val_loss: 2.4973 - val_accuracy: 0.1878\n",
            "Epoch 37/100\n",
            "25/25 [==============================] - 7s 281ms/step - loss: 2.4235 - accuracy: 0.2037 - val_loss: 2.4953 - val_accuracy: 0.1915\n",
            "Epoch 38/100\n",
            "25/25 [==============================] - 6s 236ms/step - loss: 2.4188 - accuracy: 0.2050 - val_loss: 2.4920 - val_accuracy: 0.1902\n",
            "Epoch 39/100\n",
            "25/25 [==============================] - 7s 279ms/step - loss: 2.4142 - accuracy: 0.2135 - val_loss: 2.4886 - val_accuracy: 0.1854\n",
            "Epoch 40/100\n",
            "25/25 [==============================] - 6s 237ms/step - loss: 2.4103 - accuracy: 0.2123 - val_loss: 2.4886 - val_accuracy: 0.1878\n",
            "Epoch 41/100\n",
            "25/25 [==============================] - 7s 280ms/step - loss: 2.4064 - accuracy: 0.2192 - val_loss: 2.4861 - val_accuracy: 0.1902\n",
            "Epoch 42/100\n",
            "25/25 [==============================] - 6s 237ms/step - loss: 2.4030 - accuracy: 0.2151 - val_loss: 2.4845 - val_accuracy: 0.1915\n",
            "Epoch 43/100\n",
            "25/25 [==============================] - 7s 293ms/step - loss: 2.4004 - accuracy: 0.2204 - val_loss: 2.4830 - val_accuracy: 0.1951\n",
            "Epoch 44/100\n",
            "25/25 [==============================] - 6s 238ms/step - loss: 2.3969 - accuracy: 0.2196 - val_loss: 2.4812 - val_accuracy: 0.1890\n",
            "Epoch 45/100\n",
            "25/25 [==============================] - 7s 288ms/step - loss: 2.3940 - accuracy: 0.2229 - val_loss: 2.4819 - val_accuracy: 0.2024\n",
            "Epoch 46/100\n",
            "25/25 [==============================] - 6s 246ms/step - loss: 2.3903 - accuracy: 0.2224 - val_loss: 2.4780 - val_accuracy: 0.1915\n",
            "Epoch 47/100\n",
            "25/25 [==============================] - 7s 258ms/step - loss: 2.3859 - accuracy: 0.2290 - val_loss: 2.4749 - val_accuracy: 0.1963\n",
            "Epoch 48/100\n",
            "25/25 [==============================] - 6s 240ms/step - loss: 2.3847 - accuracy: 0.2277 - val_loss: 2.4783 - val_accuracy: 0.1951\n",
            "Epoch 49/100\n",
            "25/25 [==============================] - 7s 262ms/step - loss: 2.3798 - accuracy: 0.2294 - val_loss: 2.4745 - val_accuracy: 0.1963\n",
            "Epoch 50/100\n",
            "25/25 [==============================] - 6s 235ms/step - loss: 2.3776 - accuracy: 0.2285 - val_loss: 2.4701 - val_accuracy: 0.2000\n",
            "Epoch 51/100\n",
            "25/25 [==============================] - 7s 263ms/step - loss: 2.3742 - accuracy: 0.2294 - val_loss: 2.4706 - val_accuracy: 0.2012\n",
            "Epoch 52/100\n",
            "25/25 [==============================] - 6s 237ms/step - loss: 2.3709 - accuracy: 0.2326 - val_loss: 2.4717 - val_accuracy: 0.2000\n",
            "Epoch 53/100\n",
            "25/25 [==============================] - 7s 264ms/step - loss: 2.3674 - accuracy: 0.2351 - val_loss: 2.4701 - val_accuracy: 0.2024\n",
            "Epoch 54/100\n",
            "25/25 [==============================] - 6s 234ms/step - loss: 2.3650 - accuracy: 0.2326 - val_loss: 2.4674 - val_accuracy: 0.2000\n",
            "Epoch 55/100\n",
            "25/25 [==============================] - 7s 270ms/step - loss: 2.3621 - accuracy: 0.2338 - val_loss: 2.4659 - val_accuracy: 0.2061\n",
            "Epoch 56/100\n",
            "25/25 [==============================] - 6s 240ms/step - loss: 2.3591 - accuracy: 0.2351 - val_loss: 2.4649 - val_accuracy: 0.2000\n",
            "Epoch 57/100\n",
            "25/25 [==============================] - 6s 249ms/step - loss: 2.3575 - accuracy: 0.2371 - val_loss: 2.4619 - val_accuracy: 0.2061\n",
            "Epoch 58/100\n",
            "25/25 [==============================] - 6s 229ms/step - loss: 2.3531 - accuracy: 0.2346 - val_loss: 2.4641 - val_accuracy: 0.2061\n",
            "Epoch 59/100\n",
            "25/25 [==============================] - 7s 261ms/step - loss: 2.3516 - accuracy: 0.2424 - val_loss: 2.4580 - val_accuracy: 0.2037\n",
            "Epoch 60/100\n",
            "25/25 [==============================] - 6s 227ms/step - loss: 2.3484 - accuracy: 0.2424 - val_loss: 2.4625 - val_accuracy: 0.2061\n",
            "Epoch 61/100\n",
            "25/25 [==============================] - 7s 278ms/step - loss: 2.3455 - accuracy: 0.2444 - val_loss: 2.4578 - val_accuracy: 0.2037\n",
            "Epoch 62/100\n",
            "25/25 [==============================] - 6s 253ms/step - loss: 2.3426 - accuracy: 0.2407 - val_loss: 2.4595 - val_accuracy: 0.2098\n",
            "Epoch 63/100\n",
            "25/25 [==============================] - 7s 263ms/step - loss: 2.3399 - accuracy: 0.2521 - val_loss: 2.4565 - val_accuracy: 0.1976\n",
            "Epoch 64/100\n",
            "25/25 [==============================] - 6s 239ms/step - loss: 2.3378 - accuracy: 0.2407 - val_loss: 2.4582 - val_accuracy: 0.2085\n",
            "Epoch 65/100\n",
            "25/25 [==============================] - 7s 279ms/step - loss: 2.3357 - accuracy: 0.2468 - val_loss: 2.4554 - val_accuracy: 0.2098\n",
            "Epoch 66/100\n",
            "25/25 [==============================] - 6s 239ms/step - loss: 2.3318 - accuracy: 0.2464 - val_loss: 2.4540 - val_accuracy: 0.2073\n",
            "Epoch 67/100\n",
            "25/25 [==============================] - 7s 262ms/step - loss: 2.3300 - accuracy: 0.2444 - val_loss: 2.4557 - val_accuracy: 0.2098\n",
            "Epoch 68/100\n",
            "25/25 [==============================] - 6s 240ms/step - loss: 2.3264 - accuracy: 0.2473 - val_loss: 2.4506 - val_accuracy: 0.2085\n",
            "Epoch 69/100\n",
            "25/25 [==============================] - 7s 274ms/step - loss: 2.3244 - accuracy: 0.2513 - val_loss: 2.4500 - val_accuracy: 0.2037\n",
            "Epoch 70/100\n",
            "25/25 [==============================] - 6s 238ms/step - loss: 2.3211 - accuracy: 0.2538 - val_loss: 2.4478 - val_accuracy: 0.2037\n",
            "Epoch 71/100\n",
            "25/25 [==============================] - 8s 331ms/step - loss: 2.3184 - accuracy: 0.2534 - val_loss: 2.4505 - val_accuracy: 0.2073\n",
            "Epoch 72/100\n",
            "25/25 [==============================] - 7s 265ms/step - loss: 2.3168 - accuracy: 0.2570 - val_loss: 2.4450 - val_accuracy: 0.2085\n",
            "Epoch 73/100\n",
            "25/25 [==============================] - 6s 238ms/step - loss: 2.3141 - accuracy: 0.2574 - val_loss: 2.4444 - val_accuracy: 0.2061\n",
            "Epoch 74/100\n",
            "25/25 [==============================] - 7s 266ms/step - loss: 2.3099 - accuracy: 0.2566 - val_loss: 2.4482 - val_accuracy: 0.2085\n",
            "Epoch 75/100\n",
            "25/25 [==============================] - 6s 227ms/step - loss: 2.3092 - accuracy: 0.2590 - val_loss: 2.4444 - val_accuracy: 0.2061\n",
            "Epoch 76/100\n",
            "25/25 [==============================] - 6s 258ms/step - loss: 2.3053 - accuracy: 0.2615 - val_loss: 2.4444 - val_accuracy: 0.2073\n",
            "Epoch 77/100\n",
            "25/25 [==============================] - 6s 247ms/step - loss: 2.3037 - accuracy: 0.2582 - val_loss: 2.4439 - val_accuracy: 0.2061\n",
            "Epoch 78/100\n",
            "25/25 [==============================] - 6s 251ms/step - loss: 2.3010 - accuracy: 0.2672 - val_loss: 2.4420 - val_accuracy: 0.2085\n",
            "Epoch 79/100\n",
            "25/25 [==============================] - 6s 240ms/step - loss: 2.2998 - accuracy: 0.2586 - val_loss: 2.4406 - val_accuracy: 0.2049\n",
            "Epoch 80/100\n",
            "25/25 [==============================] - 6s 243ms/step - loss: 2.2978 - accuracy: 0.2595 - val_loss: 2.4426 - val_accuracy: 0.2049\n",
            "Epoch 81/100\n",
            "25/25 [==============================] - 7s 257ms/step - loss: 2.2947 - accuracy: 0.2615 - val_loss: 2.4393 - val_accuracy: 0.2073\n",
            "Epoch 82/100\n",
            "25/25 [==============================] - 7s 262ms/step - loss: 2.2919 - accuracy: 0.2660 - val_loss: 2.4396 - val_accuracy: 0.2110\n",
            "Epoch 83/100\n",
            "25/25 [==============================] - 6s 241ms/step - loss: 2.2883 - accuracy: 0.2664 - val_loss: 2.4390 - val_accuracy: 0.2098\n",
            "Epoch 84/100\n",
            "25/25 [==============================] - 6s 245ms/step - loss: 2.2855 - accuracy: 0.2741 - val_loss: 2.4352 - val_accuracy: 0.2061\n",
            "Epoch 85/100\n",
            "25/25 [==============================] - 7s 258ms/step - loss: 2.2833 - accuracy: 0.2721 - val_loss: 2.4350 - val_accuracy: 0.2073\n",
            "Epoch 86/100\n",
            "25/25 [==============================] - 6s 243ms/step - loss: 2.2801 - accuracy: 0.2664 - val_loss: 2.4368 - val_accuracy: 0.2085\n",
            "Epoch 87/100\n",
            "25/25 [==============================] - 7s 260ms/step - loss: 2.2783 - accuracy: 0.2708 - val_loss: 2.4321 - val_accuracy: 0.2085\n",
            "Epoch 88/100\n",
            "25/25 [==============================] - 7s 263ms/step - loss: 2.2740 - accuracy: 0.2725 - val_loss: 2.4394 - val_accuracy: 0.2159\n",
            "Epoch 89/100\n",
            "25/25 [==============================] - 7s 255ms/step - loss: 2.2755 - accuracy: 0.2741 - val_loss: 2.4307 - val_accuracy: 0.2110\n",
            "Epoch 90/100\n",
            "25/25 [==============================] - 6s 243ms/step - loss: 2.2708 - accuracy: 0.2757 - val_loss: 2.4331 - val_accuracy: 0.2122\n",
            "Epoch 91/100\n",
            "25/25 [==============================] - 7s 258ms/step - loss: 2.2683 - accuracy: 0.2773 - val_loss: 2.4318 - val_accuracy: 0.2122\n",
            "Epoch 92/100\n",
            "25/25 [==============================] - 6s 242ms/step - loss: 2.2661 - accuracy: 0.2741 - val_loss: 2.4295 - val_accuracy: 0.2085\n",
            "Epoch 93/100\n",
            "25/25 [==============================] - 6s 250ms/step - loss: 2.2628 - accuracy: 0.2810 - val_loss: 2.4273 - val_accuracy: 0.2049\n",
            "Epoch 94/100\n",
            "25/25 [==============================] - 6s 235ms/step - loss: 2.2602 - accuracy: 0.2769 - val_loss: 2.4284 - val_accuracy: 0.2049\n",
            "Epoch 95/100\n",
            "25/25 [==============================] - 7s 265ms/step - loss: 2.2584 - accuracy: 0.2806 - val_loss: 2.4267 - val_accuracy: 0.2146\n",
            "Epoch 96/100\n",
            "25/25 [==============================] - 6s 233ms/step - loss: 2.2563 - accuracy: 0.2769 - val_loss: 2.4262 - val_accuracy: 0.2110\n",
            "Epoch 97/100\n",
            "25/25 [==============================] - 7s 259ms/step - loss: 2.2547 - accuracy: 0.2773 - val_loss: 2.4279 - val_accuracy: 0.2085\n",
            "Epoch 98/100\n",
            "25/25 [==============================] - 6s 260ms/step - loss: 2.2521 - accuracy: 0.2826 - val_loss: 2.4237 - val_accuracy: 0.2171\n",
            "Epoch 99/100\n",
            "25/25 [==============================] - 7s 263ms/step - loss: 2.2496 - accuracy: 0.2794 - val_loss: 2.4256 - val_accuracy: 0.2024\n",
            "Epoch 100/100\n",
            "25/25 [==============================] - 6s 235ms/step - loss: 2.2484 - accuracy: 0.2769 - val_loss: 2.4244 - val_accuracy: 0.2049\n"
          ]
        }
      ],
      "source": [
        "H = model.fit(X_train, Y_train,\n",
        "              validation_data=(X_val, Y_val),\n",
        "              epochs=EPOCHS,\n",
        "              batch_size=100,\n",
        "              callbacks=[early_stopping, checkpoint]\n",
        "              )"
      ]
    },
    {
      "cell_type": "markdown",
      "source": [
        "#### 6.3. Загружаем лучшую модель:"
      ],
      "metadata": {
        "id": "-dESH383noKz"
      }
    },
    {
      "cell_type": "code",
      "execution_count": 98,
      "metadata": {
        "id": "_ZOMBkJk3Dgk"
      },
      "outputs": [],
      "source": [
        "from keras.models import load_model\n",
        "\n",
        "model = load_model(\"/content/best_model.h5\")"
      ]
    },
    {
      "cell_type": "markdown",
      "source": [
        "### 7. Оценка точности:"
      ],
      "metadata": {
        "id": "CLv-TknOoQ8l"
      }
    },
    {
      "cell_type": "markdown",
      "source": [
        "#### 7.1. Выведем отчет классификации"
      ],
      "metadata": {
        "id": "J16c8i49o2Kq"
      }
    },
    {
      "cell_type": "code",
      "execution_count": 99,
      "metadata": {
        "id": "cqmQz4mO3D5s",
        "colab": {
          "base_uri": "https://localhost:8080/"
        },
        "outputId": "974eb9e8-f996-4106-a697-b4b4b7ef6744"
      },
      "outputs": [
        {
          "output_type": "stream",
          "name": "stdout",
          "text": [
            "26/26 [==============================] - 1s 32ms/step\n",
            "              precision    recall  f1-score   support\n",
            "\n",
            "      cables       0.17      0.22      0.19        73\n",
            "        case       0.19      0.39      0.26        69\n",
            "         cpu       0.00      0.00      0.00        50\n",
            "         gpu       0.00      0.00      0.00        37\n",
            "         hdd       0.16      0.24      0.19        62\n",
            "     headset       0.26      0.30      0.28        54\n",
            "    keyboard       0.09      0.09      0.09        55\n",
            "  microphone       0.32      0.29      0.30        55\n",
            "     monitor       0.22      0.27      0.24        60\n",
            " motherboard       0.14      0.10      0.12        61\n",
            "       mouse       0.13      0.07      0.10        54\n",
            "         ram       0.10      0.05      0.07        56\n",
            "    speakers       0.31      0.42      0.36        90\n",
            "      webcam       0.57      0.36      0.44        44\n",
            "\n",
            "    accuracy                           0.22       820\n",
            "   macro avg       0.19      0.20      0.19       820\n",
            "weighted avg       0.19      0.22      0.20       820\n",
            "\n"
          ]
        },
        {
          "output_type": "stream",
          "name": "stderr",
          "text": [
            "/usr/local/lib/python3.10/dist-packages/sklearn/metrics/_classification.py:1344: UndefinedMetricWarning: Precision and F-score are ill-defined and being set to 0.0 in labels with no predicted samples. Use `zero_division` parameter to control this behavior.\n",
            "  _warn_prf(average, modifier, msg_start, len(result))\n",
            "/usr/local/lib/python3.10/dist-packages/sklearn/metrics/_classification.py:1344: UndefinedMetricWarning: Precision and F-score are ill-defined and being set to 0.0 in labels with no predicted samples. Use `zero_division` parameter to control this behavior.\n",
            "  _warn_prf(average, modifier, msg_start, len(result))\n",
            "/usr/local/lib/python3.10/dist-packages/sklearn/metrics/_classification.py:1344: UndefinedMetricWarning: Precision and F-score are ill-defined and being set to 0.0 in labels with no predicted samples. Use `zero_division` parameter to control this behavior.\n",
            "  _warn_prf(average, modifier, msg_start, len(result))\n"
          ]
        }
      ],
      "source": [
        "predictions = model.predict(X_val, batch_size=32)\n",
        "print(classification_report(Y_val.argmax(axis=1),\n",
        "\tpredictions.argmax(axis=1), target_names=lb.classes_))"
      ]
    },
    {
      "cell_type": "markdown",
      "source": [
        "#### 7.2. Выведем матрицу ошибок"
      ],
      "metadata": {
        "id": "YwbFnynjpKYS"
      }
    },
    {
      "cell_type": "code",
      "execution_count": 100,
      "metadata": {
        "id": "77_vkdSk3EOd",
        "colab": {
          "base_uri": "https://localhost:8080/",
          "height": 448
        },
        "outputId": "8877de9e-169e-4cc2-947a-368c890b9f16"
      },
      "outputs": [
        {
          "output_type": "stream",
          "name": "stdout",
          "text": [
            "26/26 [==============================] - 3s 95ms/step\n"
          ]
        },
        {
          "output_type": "display_data",
          "data": {
            "text/plain": [
              "<Figure size 640x480 with 2 Axes>"
            ],
            "image/png": "[encoded data removed]"
          },
          "metadata": {}
        }
      ],
      "source": [
        "from sklearn.metrics import confusion_matrix\n",
        "import seaborn as sns\n",
        "\n",
        "# Получим прогнозы по валидационным даннным\n",
        "Y_pred = model.predict(X_val, batch_size=32)\n",
        "\n",
        "# Преобразуем вероятности в метки классов\n",
        "Y_pred = Y_pred.argmax(axis=1)\n",
        "Y_val = Y_val.argmax(axis=1)\n",
        "\n",
        "# Вычисляем матрицу ошибок\n",
        "conf_mat = confusion_matrix(Y_val, Y_pred)\n",
        "\n",
        "# Визуализируем матрицу ошибок\n",
        "sns.heatmap(conf_mat, annot=True, fmt=\"d\", cmap=\"YlGnBu\")\n",
        "plt.show()"
      ]
    },
    {
      "cell_type": "markdown",
      "source": [
        "#### 7.3. Отобразим график обучения"
      ],
      "metadata": {
        "id": "oqoaYCciugwi"
      }
    },
    {
      "cell_type": "code",
      "execution_count": 102,
      "metadata": {
        "id": "ALa4XomM3EmL",
        "colab": {
          "base_uri": "https://localhost:8080/",
          "height": 477
        },
        "outputId": "9416f3aa-fa7e-4797-e9cc-611aeca7b9b7"
      },
      "outputs": [
        {
          "output_type": "display_data",
          "data": {
            "text/plain": [
              "<Figure size 640x480 with 1 Axes>"
            ],
            "image/png": "[encoded data removed]"
          },
          "metadata": {}
        }
      ],
      "source": [
        "N = np.arange(0, EPOCHS)\n",
        "plt.style.use(\"ggplot\")\n",
        "plt.figure()\n",
        "plt.plot(N, H.history[\"loss\"], label=\"train_loss\")\n",
        "plt.plot(N, H.history[\"val_loss\"], label=\"val_loss\")\n",
        "plt.plot(N, H.history[\"accuracy\"], label=\"train_acc\")\n",
        "plt.plot(N, H.history[\"val_accuracy\"], label=\"val_acc\")\n",
        "plt.title(\"Training Loss and Accuracy (Simple NN)\")\n",
        "plt.xlabel(\"Epoch #\")\n",
        "plt.ylabel(\"Loss/Accuracy\")\n",
        "plt.legend()\n",
        "plt.savefig('plot.png')"
      ]
    },
    {
      "cell_type": "markdown",
      "source": [
        "### 8. Сохранение модели и меток классов:"
      ],
      "metadata": {
        "id": "RZfpw-xQu3Q8"
      }
    },
    {
      "cell_type": "code",
      "execution_count": 103,
      "metadata": {
        "id": "mGlt9K8N3E7D"
      },
      "outputs": [],
      "source": [
        "def save_model_and_labels(model, lb, model_path = \"model.h5\", labels_path = \"label_bin\"):\n",
        "\n",
        "    # Сохранение модели\n",
        "    model.save(model_path, save_format=\"h5\")\n",
        "\n",
        "    # Сохранение меток\n",
        "    with open(labels_path, \"wb\") as f:\n",
        "        f.write(pickle.dumps(lb))"
      ]
    },
    {
      "cell_type": "code",
      "source": [
        "model_path = \"model.h5\"\n",
        "labels_path = \"label_bin\"\n",
        "\n",
        "save_model_and_labels(model, lb, model_path, labels_path)"
      ],
      "metadata": {
        "colab": {
          "base_uri": "https://localhost:8080/"
        },
        "id": "2tlrdKo4riRF",
        "outputId": "957aba61-ad66-4536-a548-d94fbf3050c7"
      },
      "execution_count": 104,
      "outputs": [
        {
          "output_type": "stream",
          "name": "stderr",
          "text": [
            "/usr/local/lib/python3.10/dist-packages/keras/src/engine/training.py:3103: UserWarning: You are saving your model as an HDF5 file via `model.save()`. This file format is considered legacy. We recommend using instead the native Keras format, e.g. `model.save('my_model.keras')`.\n",
            "  saving_api.save_model(\n"
          ]
        }
      ]
    },
    {
      "cell_type": "markdown",
      "metadata": {
        "id": "YjyCuhw1aeti"
      },
      "source": [
        "### 9. Проверка обученной модели пользовательскими данными:"
      ]
    },
    {
      "cell_type": "markdown",
      "source": [
        "#### 9.1. Импортируем необходимые библиотеки"
      ],
      "metadata": {
        "id": "yfUIW800wuyu"
      }
    },
    {
      "cell_type": "code",
      "execution_count": 105,
      "metadata": {
        "id": "wk1qihbS3FR1",
        "colab": {
          "base_uri": "https://localhost:8080/"
        },
        "outputId": "5ba5d80b-43ce-4b59-a2e2-19839d6cc630"
      },
      "outputs": [
        {
          "output_type": "stream",
          "name": "stdout",
          "text": [
            "Requirement already satisfied: gradio in /usr/local/lib/python3.10/dist-packages (4.21.0)\n",
            "Requirement already satisfied: aiofiles<24.0,>=22.0 in /usr/local/lib/python3.10/dist-packages (from gradio) (23.2.1)\n",
            "Requirement already satisfied: altair<6.0,>=4.2.0 in /usr/local/lib/python3.10/dist-packages (from gradio) (4.2.2)\n",
            "Requirement already satisfied: fastapi in /usr/local/lib/python3.10/dist-packages (from gradio) (0.110.0)\n",
            "Requirement already satisfied: ffmpy in /usr/local/lib/python3.10/dist-packages (from gradio) (0.3.2)\n",
            "Requirement already satisfied: gradio-client==0.12.0 in /usr/local/lib/python3.10/dist-packages (from gradio) (0.12.0)\n",
            "Requirement already satisfied: httpx>=0.24.1 in /usr/local/lib/python3.10/dist-packages (from gradio) (0.27.0)\n",
            "Requirement already satisfied: huggingface-hub>=0.19.3 in /usr/local/lib/python3.10/dist-packages (from gradio) (0.20.3)\n",
            "Requirement already satisfied: importlib-resources<7.0,>=1.3 in /usr/local/lib/python3.10/dist-packages (from gradio) (6.1.2)\n",
            "Requirement already satisfied: jinja2<4.0 in /usr/local/lib/python3.10/dist-packages (from gradio) (3.1.3)\n",
            "Requirement already satisfied: markupsafe~=2.0 in /usr/local/lib/python3.10/dist-packages (from gradio) (2.1.5)\n",
            "Requirement already satisfied: matplotlib~=3.0 in /usr/local/lib/python3.10/dist-packages (from gradio) (3.7.1)\n",
            "Requirement already satisfied: numpy~=1.0 in /usr/local/lib/python3.10/dist-packages (from gradio) (1.25.2)\n",
            "Requirement already satisfied: orjson~=3.0 in /usr/local/lib/python3.10/dist-packages (from gradio) (3.9.15)\n",
            "Requirement already satisfied: packaging in /usr/local/lib/python3.10/dist-packages (from gradio) (23.2)\n",
            "Requirement already satisfied: pandas<3.0,>=1.0 in /usr/local/lib/python3.10/dist-packages (from gradio) (1.5.3)\n",
            "Requirement already satisfied: pillow<11.0,>=8.0 in /usr/local/lib/python3.10/dist-packages (from gradio) (9.4.0)\n",
            "Requirement already satisfied: pydantic>=2.0 in /usr/local/lib/python3.10/dist-packages (from gradio) (2.6.3)\n",
            "Requirement already satisfied: pydub in /usr/local/lib/python3.10/dist-packages (from gradio) (0.25.1)\n",
            "Requirement already satisfied: python-multipart>=0.0.9 in /usr/local/lib/python3.10/dist-packages (from gradio) (0.0.9)\n",
            "Requirement already satisfied: pyyaml<7.0,>=5.0 in /usr/local/lib/python3.10/dist-packages (from gradio) (6.0.1)\n",
            "Requirement already satisfied: ruff>=0.2.2 in /usr/local/lib/python3.10/dist-packages (from gradio) (0.3.2)\n",
            "Requirement already satisfied: semantic-version~=2.0 in /usr/local/lib/python3.10/dist-packages (from gradio) (2.10.0)\n",
            "Requirement already satisfied: tomlkit==0.12.0 in /usr/local/lib/python3.10/dist-packages (from gradio) (0.12.0)\n",
            "Requirement already satisfied: typer[all]<1.0,>=0.9 in /usr/local/lib/python3.10/dist-packages (from gradio) (0.9.0)\n",
            "Requirement already satisfied: typing-extensions~=4.0 in /usr/local/lib/python3.10/dist-packages (from gradio) (4.10.0)\n",
            "Requirement already satisfied: uvicorn>=0.14.0 in /usr/local/lib/python3.10/dist-packages (from gradio) (0.28.0)\n",
            "Requirement already satisfied: fsspec in /usr/local/lib/python3.10/dist-packages (from gradio-client==0.12.0->gradio) (2023.6.0)\n",
            "Requirement already satisfied: websockets<12.0,>=10.0 in /usr/local/lib/python3.10/dist-packages (from gradio-client==0.12.0->gradio) (11.0.3)\n",
            "Requirement already satisfied: entrypoints in /usr/local/lib/python3.10/dist-packages (from altair<6.0,>=4.2.0->gradio) (0.4)\n",
            "Requirement already satisfied: jsonschema>=3.0 in /usr/local/lib/python3.10/dist-packages (from altair<6.0,>=4.2.0->gradio) (4.19.2)\n",
            "Requirement already satisfied: toolz in /usr/local/lib/python3.10/dist-packages (from altair<6.0,>=4.2.0->gradio) (0.12.1)\n",
            "Requirement already satisfied: anyio in /usr/local/lib/python3.10/dist-packages (from httpx>=0.24.1->gradio) (3.7.1)\n",
            "Requirement already satisfied: certifi in /usr/local/lib/python3.10/dist-packages (from httpx>=0.24.1->gradio) (2024.2.2)\n",
            "Requirement already satisfied: httpcore==1.* in /usr/local/lib/python3.10/dist-packages (from httpx>=0.24.1->gradio) (1.0.4)\n",
            "Requirement already satisfied: idna in /usr/local/lib/python3.10/dist-packages (from httpx>=0.24.1->gradio) (3.6)\n",
            "Requirement already satisfied: sniffio in /usr/local/lib/python3.10/dist-packages (from httpx>=0.24.1->gradio) (1.3.1)\n",
            "Requirement already satisfied: h11<0.15,>=0.13 in /usr/local/lib/python3.10/dist-packages (from httpcore==1.*->httpx>=0.24.1->gradio) (0.14.0)\n",
            "Requirement already satisfied: filelock in /usr/local/lib/python3.10/dist-packages (from huggingface-hub>=0.19.3->gradio) (3.13.1)\n",
            "Requirement already satisfied: requests in /usr/local/lib/python3.10/dist-packages (from huggingface-hub>=0.19.3->gradio) (2.31.0)\n",
            "Requirement already satisfied: tqdm>=4.42.1 in /usr/local/lib/python3.10/dist-packages (from huggingface-hub>=0.19.3->gradio) (4.66.2)\n",
            "Requirement already satisfied: contourpy>=1.0.1 in /usr/local/lib/python3.10/dist-packages (from matplotlib~=3.0->gradio) (1.2.0)\n",
            "Requirement already satisfied: cycler>=0.10 in /usr/local/lib/python3.10/dist-packages (from matplotlib~=3.0->gradio) (0.12.1)\n",
            "Requirement already satisfied: fonttools>=4.22.0 in /usr/local/lib/python3.10/dist-packages (from matplotlib~=3.0->gradio) (4.49.0)\n",
            "Requirement already satisfied: kiwisolver>=1.0.1 in /usr/local/lib/python3.10/dist-packages (from matplotlib~=3.0->gradio) (1.4.5)\n",
            "Requirement already satisfied: pyparsing>=2.3.1 in /usr/local/lib/python3.10/dist-packages (from matplotlib~=3.0->gradio) (3.1.1)\n",
            "Requirement already satisfied: python-dateutil>=2.7 in /usr/local/lib/python3.10/dist-packages (from matplotlib~=3.0->gradio) (2.8.2)\n",
            "Requirement already satisfied: pytz>=2020.1 in /usr/local/lib/python3.10/dist-packages (from pandas<3.0,>=1.0->gradio) (2023.4)\n",
            "Requirement already satisfied: annotated-types>=0.4.0 in /usr/local/lib/python3.10/dist-packages (from pydantic>=2.0->gradio) (0.6.0)\n",
            "Requirement already satisfied: pydantic-core==2.16.3 in /usr/local/lib/python3.10/dist-packages (from pydantic>=2.0->gradio) (2.16.3)\n",
            "Requirement already satisfied: click<9.0.0,>=7.1.1 in /usr/local/lib/python3.10/dist-packages (from typer[all]<1.0,>=0.9->gradio) (8.1.7)\n",
            "Requirement already satisfied: colorama<0.5.0,>=0.4.3 in /usr/local/lib/python3.10/dist-packages (from typer[all]<1.0,>=0.9->gradio) (0.4.6)\n",
            "Requirement already satisfied: shellingham<2.0.0,>=1.3.0 in /usr/local/lib/python3.10/dist-packages (from typer[all]<1.0,>=0.9->gradio) (1.5.4)\n",
            "Requirement already satisfied: rich<14.0.0,>=10.11.0 in /usr/local/lib/python3.10/dist-packages (from typer[all]<1.0,>=0.9->gradio) (13.7.1)\n",
            "Requirement already satisfied: starlette<0.37.0,>=0.36.3 in /usr/local/lib/python3.10/dist-packages (from fastapi->gradio) (0.36.3)\n",
            "Requirement already satisfied: attrs>=22.2.0 in /usr/local/lib/python3.10/dist-packages (from jsonschema>=3.0->altair<6.0,>=4.2.0->gradio) (23.2.0)\n",
            "Requirement already satisfied: jsonschema-specifications>=2023.03.6 in /usr/local/lib/python3.10/dist-packages (from jsonschema>=3.0->altair<6.0,>=4.2.0->gradio) (2023.12.1)\n",
            "Requirement already satisfied: referencing>=0.28.4 in /usr/local/lib/python3.10/dist-packages (from jsonschema>=3.0->altair<6.0,>=4.2.0->gradio) (0.33.0)\n",
            "Requirement already satisfied: rpds-py>=0.7.1 in /usr/local/lib/python3.10/dist-packages (from jsonschema>=3.0->altair<6.0,>=4.2.0->gradio) (0.18.0)\n",
            "Requirement already satisfied: six>=1.5 in /usr/local/lib/python3.10/dist-packages (from python-dateutil>=2.7->matplotlib~=3.0->gradio) (1.16.0)\n",
            "Requirement already satisfied: markdown-it-py>=2.2.0 in /usr/local/lib/python3.10/dist-packages (from rich<14.0.0,>=10.11.0->typer[all]<1.0,>=0.9->gradio) (3.0.0)\n",
            "Requirement already satisfied: pygments<3.0.0,>=2.13.0 in /usr/local/lib/python3.10/dist-packages (from rich<14.0.0,>=10.11.0->typer[all]<1.0,>=0.9->gradio) (2.16.1)\n",
            "Requirement already satisfied: exceptiongroup in /usr/local/lib/python3.10/dist-packages (from anyio->httpx>=0.24.1->gradio) (1.2.0)\n",
            "Requirement already satisfied: charset-normalizer<4,>=2 in /usr/local/lib/python3.10/dist-packages (from requests->huggingface-hub>=0.19.3->gradio) (3.3.2)\n",
            "Requirement already satisfied: urllib3<3,>=1.21.1 in /usr/local/lib/python3.10/dist-packages (from requests->huggingface-hub>=0.19.3->gradio) (2.0.7)\n",
            "Requirement already satisfied: mdurl~=0.1 in /usr/local/lib/python3.10/dist-packages (from markdown-it-py>=2.2.0->rich<14.0.0,>=10.11.0->typer[all]<1.0,>=0.9->gradio) (0.1.2)\n"
          ]
        }
      ],
      "source": [
        "!pip install gradio"
      ]
    },
    {
      "cell_type": "code",
      "source": [
        "from keras.models import load_model\n",
        "import gradio as gr  # Библиотека для создания веб-интерфейсов\n",
        "import pickle\n",
        "import cv2"
      ],
      "metadata": {
        "id": "IdqAgSoOrlod"
      },
      "execution_count": 106,
      "outputs": []
    },
    {
      "cell_type": "markdown",
      "source": [
        "#### 9.2. Реализуем функцию для предобработки входных данных в той же последовательности, что и при формировании обучающей выборки:"
      ],
      "metadata": {
        "id": "PM2dadCBwzES"
      }
    },
    {
      "cell_type": "code",
      "execution_count": 107,
      "metadata": {
        "id": "P4KLc85A3FkU"
      },
      "outputs": [],
      "source": [
        "def preprocess_image(img, compression_size = 32):\n",
        "\n",
        "    \"\"\"\n",
        "    Функция для изменения размера, \"выравнивания\" и масштабирования изображения.\n",
        "\n",
        "    Args:\n",
        "    img: Изображение.\n",
        "\n",
        "    Returns:\n",
        "    Предобработанное изображение.\n",
        "    \"\"\"\n",
        "\n",
        "    image = img.copy()  # Создаем копию изображения\n",
        "    # Изменяем размер изображения до compression_size x compression_size пикселей\n",
        "    image = cv2.resize(image, (compression_size, compression_size))\n",
        "    # Преобразуем изображение в одномерный массив (вектор)\n",
        "    image = image.flatten()\n",
        "    # Масштабируем значения пикселей к диапазону [0, 1]\n",
        "    image = image.astype(\"float\") / 255.0\n",
        "    # Преобразуем массив в формат, совместимый с нашей моделью Keras\n",
        "    image = image.reshape((1, image.shape[0]))\n",
        "\n",
        "    return image"
      ]
    },
    {
      "cell_type": "markdown",
      "source": [
        "#### 9.3. Определим функцию для осуществления прогноза по загруженной модели:"
      ],
      "metadata": {
        "id": "UXPI1dAIxvPz"
      }
    },
    {
      "cell_type": "code",
      "execution_count": 108,
      "metadata": {
        "id": "LO4Ty_t0anmv"
      },
      "outputs": [],
      "source": [
        "def predict_image(img, preprocess_func = preprocess_image, model_path = \"model.h5\", label_path = \"label_bin\"):\n",
        "\n",
        "    \"\"\"\n",
        "    Функция для выполнения предсказания класса, возвращает\n",
        "    словарь с вероятностями для каждого класса.\n",
        "\n",
        "    Args:\n",
        "    img: Изображение.\n",
        "    preprocess_funk: Функция для предобработки изображения.\n",
        "    model_path: Путь к файлу модели.\n",
        "    label_path: Путь к файлу с метками.\n",
        "\n",
        "    Returns:\n",
        "    Словарь с метками и вероятностями для каждого класса.\n",
        "    \"\"\"\n",
        "\n",
        "    # Загружаем модель и метки\n",
        "    model = load_model(model_path)  # Загрузка модели Keras\n",
        "    lb = pickle.loads(open(label_path, \"rb\").read())  # Загрузка словаря с метками\n",
        "\n",
        "    # Делаем предсказание на изображении\n",
        "    image = preprocess_func(img.copy())  # Предобработка изображения\n",
        "    preds = model.predict(image).flatten()  # Выполнение предсказания\n",
        "\n",
        "    # Возвращаем словарь с метками и вероятностями для каждого класса\n",
        "    confidences = {lb.classes_[i]: float(preds[i]) for i in range(len(preds))}\n",
        "\n",
        "    return confidences"
      ]
    },
    {
      "cell_type": "markdown",
      "source": [
        "### 10. Визуализируем интерфейс и произведем классификацию:"
      ],
      "metadata": {
        "id": "acXaOZ_z3dDq"
      }
    },
    {
      "cell_type": "code",
      "execution_count": null,
      "metadata": {
        "id": "5wW8xYEB3dDr",
        "colab": {
          "base_uri": "https://localhost:8080/",
          "height": 650
        },
        "outputId": "72bb0e09-a202-4932-d63f-4d3084db621d"
      },
      "outputs": [
        {
          "output_type": "stream",
          "name": "stdout",
          "text": [
            "Colab notebook detected. This cell will run indefinitely so that you can see errors and logs. To turn off, set debug=False in launch().\n",
            "Running on public URL: https://553a0daca045921c4c.gradio.live\n",
            "\n",
            "This share link expires in 72 hours. For free permanent hosting and GPU upgrades, run `gradio deploy` from Terminal to deploy to Spaces (https://huggingface.co/spaces)\n"
          ]
        },
        {
          "output_type": "display_data",
          "data": {
            "text/plain": [
              "<IPython.core.display.HTML object>"
            ],
            "text/html": [
              "<div><iframe src=\"https://553a0daca045921c4c.gradio.live\" width=\"100%\" height=\"500\" allow=\"autoplay; camera; microphone; clipboard-read; clipboard-write;\" frameborder=\"0\" allowfullscreen></iframe></div>"
            ]
          },
          "metadata": {}
        },
        {
          "output_type": "stream",
          "name": "stdout",
          "text": [
            "1/1 [==============================] - 0s 92ms/step\n",
            "1/1 [==============================] - 0s 60ms/step\n"
          ]
        }
      ],
      "source": [
        "interface = gr.Interface(\n",
        "    fn=predict_image,  # Функция, которая будет вызываться при загрузке изображения\n",
        "    inputs=gr.Image(label=\"Загрузите изображение\"),  # Входные данные: изображение\n",
        "    outputs= gr.Label(num_top_classes=len(lb.classes_)), # Выходные данные: топ-N классов с наибольшей вероятностью\n",
        "    examples=[\"/content/card.jpg\",\n",
        "              \"/content/proc.jpg\"\n",
        "              ])\n",
        "\n",
        "# Запускаем интерфейс\n",
        "interface.launch(debug=True, share=True)"
      ]
    }
  ]
}