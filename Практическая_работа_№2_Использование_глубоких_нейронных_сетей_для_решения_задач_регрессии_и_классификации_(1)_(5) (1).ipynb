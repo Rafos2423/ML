{
  "nbformat": 4,
  "nbformat_minor": 0,
  "metadata": {
    "colab": {
      "provenance": [],
      "gpuType": "T4"
    },
    "kernelspec": {
      "name": "python3",
      "display_name": "Python 3"
    },
    "language_info": {
      "name": "python"
    },
    "accelerator": "GPU"
  },
  "cells": [
    {
      "cell_type": "markdown",
      "source": [
        "# Практическая работа №2. Использование глубоких нейронных сетей для решения задач регрессии и классификации\n",
        "\n"
      ],
      "metadata": {
        "id": "jVOridAYaoD_"
      }
    },
    {
      "cell_type": "markdown",
      "source": [
        "**Ссылка на код с пары:**\n",
        "https://colab.research.google.com/drive/18EM8mrpURStkmbxWjZybWbWh23Si5b4A?usp=sharing\n"
      ],
      "metadata": {
        "id": "xfLS4L8wbf5M"
      }
    },
    {
      "cell_type": "markdown",
      "source": [
        "## Задание №1. Обучение модели ИНС для решения задачи регрессии\n",
        "\n"
      ],
      "metadata": {
        "id": "ChzaEMuFavMw"
      }
    },
    {
      "cell_type": "markdown",
      "source": [
        "Постройте глубокую нейронную сеть для предсказания цен на недвижимость в городе Бостон, используя датасет датасет boston_housing_price"
      ],
      "metadata": {
        "id": "_AW7ypoN3qSi"
      }
    },
    {
      "cell_type": "markdown",
      "source": [
        "[Описание датасета](https://www.hackersrealm.net/post/boston-house-price-prediction-analysis-using-python)"
      ],
      "metadata": {
        "id": "O1PDCog53nrg"
      }
    },
    {
      "cell_type": "markdown",
      "source": [
        "#### 1.1. Загружаем исходные данные:"
      ],
      "metadata": {
        "id": "QWLURy8z0u3k"
      }
    },
    {
      "cell_type": "code",
      "source": [
        "import pandas as pd\n",
        "import numpy as np\n",
        "\n",
        "from sklearn.model_selection import train_test_split\n",
        "\n",
        "data_url = \"http://lib.stat.cmu.edu/datasets/boston\"\n",
        "raw_df = pd.read_csv(data_url, sep=\"\\s+\", skiprows=22, header=None)\n",
        "data = np.hstack([raw_df.values[::2, :], raw_df.values[1::2, :2]])\n",
        "target = raw_df.values[1::2, 2]\n",
        "\n",
        "X_train, X_test, y_train, y_test = train_test_split(data, target, test_size=0.25, random_state=0)\n",
        "print(X_train[0], y_train[0])"
      ],
      "metadata": {
        "id": "vGAIXw8gzpLL",
        "colab": {
          "base_uri": "https://localhost:8080/"
        },
        "outputId": "ce063a39-bb96-4357-9c9b-7c7f253fd745"
      },
      "execution_count": 1,
      "outputs": [
        {
          "output_type": "stream",
          "name": "stdout",
          "text": [
            "[1.9133e-01 2.2000e+01 5.8600e+00 0.0000e+00 4.3100e-01 5.6050e+00\n",
            " 7.0200e+01 7.9549e+00 7.0000e+00 3.3000e+02 1.9100e+01 3.8913e+02\n",
            " 1.8460e+01] 18.5\n"
          ]
        }
      ]
    },
    {
      "cell_type": "markdown",
      "metadata": {
        "id": "815ut8JJTIM7"
      },
      "source": [
        "#### 1.2. Проектируем архитектуру для этой задачи"
      ]
    },
    {
      "cell_type": "code",
      "source": [
        "from keras.layers import Dense\n",
        "from keras.models import Sequential\n",
        "from sklearn.preprocessing import MinMaxScaler\n",
        "import pickle\n",
        "\n",
        "mms = MinMaxScaler()\n",
        "\n",
        "X_train_n = mms.fit_transform(X_train)\n",
        "X_test_n = mms.transform(X_test)\n",
        "\n",
        "with open(\"scaler.pkl\", \"wb\") as f:\n",
        "    pickle.dump(mms, f)\n",
        "\n",
        "model = Sequential([\n",
        "    Dense(256, input_shape=(13,), activation='relu'),\n",
        "    Dense(128, activation='relu'),\n",
        "    Dense(1, activation='relu')\n",
        "])\n",
        "\n",
        "model.summary()"
      ],
      "metadata": {
        "id": "alrRyjbs1c8s",
        "outputId": "6f0b5e2c-78b5-4868-969c-570431b593dd",
        "colab": {
          "base_uri": "https://localhost:8080/"
        }
      },
      "execution_count": 5,
      "outputs": [
        {
          "output_type": "stream",
          "name": "stdout",
          "text": [
            "Model: \"sequential_1\"\n",
            "_________________________________________________________________\n",
            " Layer (type)                Output Shape              Param #   \n",
            "=================================================================\n",
            " dense_3 (Dense)             (None, 256)               3584      \n",
            "                                                                 \n",
            " dense_4 (Dense)             (None, 128)               32896     \n",
            "                                                                 \n",
            " dense_5 (Dense)             (None, 1)                 129       \n",
            "                                                                 \n",
            "=================================================================\n",
            "Total params: 36609 (143.00 KB)\n",
            "Trainable params: 36609 (143.00 KB)\n",
            "Non-trainable params: 0 (0.00 Byte)\n",
            "_________________________________________________________________\n"
          ]
        }
      ]
    },
    {
      "cell_type": "markdown",
      "metadata": {
        "id": "F9E1W4yCT0YC"
      },
      "source": [
        "#### 1.3. Компилируем модель ИНС\n",
        "\n",
        "Подберите нужную функцию потерь и метрику."
      ]
    },
    {
      "cell_type": "code",
      "source": [
        "from keras.optimizers import Adam\n",
        "\n",
        "model.compile(Adam(learning_rate=0.001), loss='mse', metrics='mae')"
      ],
      "metadata": {
        "id": "Fu8VHdqV1gqy"
      },
      "execution_count": 6,
      "outputs": []
    },
    {
      "cell_type": "markdown",
      "metadata": {
        "id": "ebac-dNAUBtX"
      },
      "source": [
        "#### 1.4. Обучаем модель ИНС"
      ]
    },
    {
      "cell_type": "code",
      "source": [
        "from keras.callbacks import EarlyStopping, ModelCheckpoint\n",
        "early_stopping = EarlyStopping(patience=5)\n",
        "# checkpoint = ModelCheckpoint(filepath=\"best_model.h5\",\n",
        "#                              monitor=\"mae\",\n",
        "#                              save_best_only=True,\n",
        "#                              verbose=0)\n",
        "\n",
        "H = model.fit(X_train_n, y_train, epochs=200, validation_data=(X_test_n, y_test))"
      ],
      "metadata": {
        "id": "LcVz6t601hFI",
        "outputId": "dfc1615e-fd18-4d52-acff-5471eefc38b2",
        "colab": {
          "base_uri": "https://localhost:8080/"
        }
      },
      "execution_count": 7,
      "outputs": [
        {
          "output_type": "stream",
          "name": "stdout",
          "text": [
            "Epoch 1/200\n",
            "12/12 [==============================] - 1s 21ms/step - loss: 563.4601 - mae: 21.8375 - val_loss: 502.3306 - val_mae: 20.4716\n",
            "Epoch 2/200\n",
            "12/12 [==============================] - 0s 6ms/step - loss: 466.0151 - mae: 19.3615 - val_loss: 369.8078 - val_mae: 16.8238\n",
            "Epoch 3/200\n",
            "12/12 [==============================] - 0s 7ms/step - loss: 302.9601 - mae: 14.4007 - val_loss: 182.2870 - val_mae: 10.6592\n",
            "Epoch 4/200\n",
            "12/12 [==============================] - 0s 7ms/step - loss: 160.7555 - mae: 9.8626 - val_loss: 112.4772 - val_mae: 7.7900\n",
            "Epoch 5/200\n",
            "12/12 [==============================] - 0s 7ms/step - loss: 125.4416 - mae: 8.8198 - val_loss: 92.2863 - val_mae: 6.9397\n",
            "Epoch 6/200\n",
            "12/12 [==============================] - 0s 6ms/step - loss: 97.6815 - mae: 7.4960 - val_loss: 77.8867 - val_mae: 6.0759\n",
            "Epoch 7/200\n",
            "12/12 [==============================] - 0s 6ms/step - loss: 80.1188 - mae: 6.6330 - val_loss: 67.5559 - val_mae: 5.6559\n",
            "Epoch 8/200\n",
            "12/12 [==============================] - 0s 6ms/step - loss: 66.3632 - mae: 5.8980 - val_loss: 62.3802 - val_mae: 5.3901\n",
            "Epoch 9/200\n",
            "12/12 [==============================] - 0s 7ms/step - loss: 57.7688 - mae: 5.5183 - val_loss: 59.7223 - val_mae: 5.3224\n",
            "Epoch 10/200\n",
            "12/12 [==============================] - 0s 7ms/step - loss: 52.0047 - mae: 5.1398 - val_loss: 58.8126 - val_mae: 5.1213\n",
            "Epoch 11/200\n",
            "12/12 [==============================] - 0s 7ms/step - loss: 48.6086 - mae: 4.9114 - val_loss: 56.9016 - val_mae: 5.1641\n",
            "Epoch 12/200\n",
            "12/12 [==============================] - 0s 8ms/step - loss: 45.5857 - mae: 4.8261 - val_loss: 56.2809 - val_mae: 4.9925\n",
            "Epoch 13/200\n",
            "12/12 [==============================] - 0s 6ms/step - loss: 42.6204 - mae: 4.5853 - val_loss: 53.1536 - val_mae: 4.9864\n",
            "Epoch 14/200\n",
            "12/12 [==============================] - 0s 8ms/step - loss: 39.3493 - mae: 4.4298 - val_loss: 51.0737 - val_mae: 4.8370\n",
            "Epoch 15/200\n",
            "12/12 [==============================] - 0s 7ms/step - loss: 36.8256 - mae: 4.3066 - val_loss: 48.4428 - val_mae: 4.7524\n",
            "Epoch 16/200\n",
            "12/12 [==============================] - 0s 6ms/step - loss: 34.2347 - mae: 4.0862 - val_loss: 46.0554 - val_mae: 4.6280\n",
            "Epoch 17/200\n",
            "12/12 [==============================] - 0s 7ms/step - loss: 31.6073 - mae: 3.9929 - val_loss: 44.7543 - val_mae: 4.4985\n",
            "Epoch 18/200\n",
            "12/12 [==============================] - 0s 7ms/step - loss: 29.2797 - mae: 3.8181 - val_loss: 42.4784 - val_mae: 4.3776\n",
            "Epoch 19/200\n",
            "12/12 [==============================] - 0s 6ms/step - loss: 27.1694 - mae: 3.6721 - val_loss: 39.9502 - val_mae: 4.2662\n",
            "Epoch 20/200\n",
            "12/12 [==============================] - 0s 6ms/step - loss: 25.0100 - mae: 3.5016 - val_loss: 38.4843 - val_mae: 4.1329\n",
            "Epoch 21/200\n",
            "12/12 [==============================] - 0s 7ms/step - loss: 23.5557 - mae: 3.3299 - val_loss: 36.4005 - val_mae: 4.0423\n",
            "Epoch 22/200\n",
            "12/12 [==============================] - 0s 8ms/step - loss: 22.4242 - mae: 3.4022 - val_loss: 35.9740 - val_mae: 3.9910\n",
            "Epoch 23/200\n",
            "12/12 [==============================] - 0s 8ms/step - loss: 21.1706 - mae: 3.1549 - val_loss: 34.2629 - val_mae: 3.9237\n",
            "Epoch 24/200\n",
            "12/12 [==============================] - 0s 7ms/step - loss: 20.1230 - mae: 3.1111 - val_loss: 33.4516 - val_mae: 3.8491\n",
            "Epoch 25/200\n",
            "12/12 [==============================] - 0s 7ms/step - loss: 19.2947 - mae: 3.0228 - val_loss: 32.5910 - val_mae: 3.7625\n",
            "Epoch 26/200\n",
            "12/12 [==============================] - 0s 6ms/step - loss: 18.7197 - mae: 2.9675 - val_loss: 31.5457 - val_mae: 3.6898\n",
            "Epoch 27/200\n",
            "12/12 [==============================] - 0s 7ms/step - loss: 18.1653 - mae: 2.9349 - val_loss: 31.0925 - val_mae: 3.6777\n",
            "Epoch 28/200\n",
            "12/12 [==============================] - 0s 6ms/step - loss: 17.8019 - mae: 2.9061 - val_loss: 30.4594 - val_mae: 3.6039\n",
            "Epoch 29/200\n",
            "12/12 [==============================] - 0s 7ms/step - loss: 17.3029 - mae: 2.8392 - val_loss: 29.9527 - val_mae: 3.5793\n",
            "Epoch 30/200\n",
            "12/12 [==============================] - 0s 6ms/step - loss: 17.3493 - mae: 2.8915 - val_loss: 30.9351 - val_mae: 3.6186\n",
            "Epoch 31/200\n",
            "12/12 [==============================] - 0s 7ms/step - loss: 17.1438 - mae: 2.8044 - val_loss: 29.4273 - val_mae: 3.5247\n",
            "Epoch 32/200\n",
            "12/12 [==============================] - 0s 7ms/step - loss: 16.6637 - mae: 2.7582 - val_loss: 27.8604 - val_mae: 3.4778\n",
            "Epoch 33/200\n",
            "12/12 [==============================] - 0s 6ms/step - loss: 16.3632 - mae: 2.7347 - val_loss: 28.8170 - val_mae: 3.4604\n",
            "Epoch 34/200\n",
            "12/12 [==============================] - 0s 7ms/step - loss: 16.2676 - mae: 2.8456 - val_loss: 30.4040 - val_mae: 3.5532\n",
            "Epoch 35/200\n",
            "12/12 [==============================] - 0s 8ms/step - loss: 17.2951 - mae: 2.8202 - val_loss: 27.6857 - val_mae: 3.4574\n",
            "Epoch 36/200\n",
            "12/12 [==============================] - 0s 7ms/step - loss: 16.1054 - mae: 2.6566 - val_loss: 27.1329 - val_mae: 3.3752\n",
            "Epoch 37/200\n",
            "12/12 [==============================] - 0s 6ms/step - loss: 15.5692 - mae: 2.7896 - val_loss: 28.9073 - val_mae: 3.4435\n",
            "Epoch 38/200\n",
            "12/12 [==============================] - 0s 7ms/step - loss: 15.3265 - mae: 2.6246 - val_loss: 27.2441 - val_mae: 3.3551\n",
            "Epoch 39/200\n",
            "12/12 [==============================] - 0s 7ms/step - loss: 14.6795 - mae: 2.5747 - val_loss: 26.9908 - val_mae: 3.3377\n",
            "Epoch 40/200\n",
            "12/12 [==============================] - 0s 6ms/step - loss: 14.5867 - mae: 2.5798 - val_loss: 26.3142 - val_mae: 3.3072\n",
            "Epoch 41/200\n",
            "12/12 [==============================] - 0s 6ms/step - loss: 14.4708 - mae: 2.5997 - val_loss: 27.1075 - val_mae: 3.3398\n",
            "Epoch 42/200\n",
            "12/12 [==============================] - 0s 7ms/step - loss: 14.3997 - mae: 2.5377 - val_loss: 25.6848 - val_mae: 3.2946\n",
            "Epoch 43/200\n",
            "12/12 [==============================] - 0s 6ms/step - loss: 14.1840 - mae: 2.5256 - val_loss: 27.2567 - val_mae: 3.2789\n",
            "Epoch 44/200\n",
            "12/12 [==============================] - 0s 6ms/step - loss: 13.8756 - mae: 2.5098 - val_loss: 25.2725 - val_mae: 3.2398\n",
            "Epoch 45/200\n",
            "12/12 [==============================] - 0s 8ms/step - loss: 13.7685 - mae: 2.4819 - val_loss: 25.7675 - val_mae: 3.2297\n",
            "Epoch 46/200\n",
            "12/12 [==============================] - 0s 7ms/step - loss: 13.9831 - mae: 2.5020 - val_loss: 26.5356 - val_mae: 3.2564\n",
            "Epoch 47/200\n",
            "12/12 [==============================] - 0s 7ms/step - loss: 14.0511 - mae: 2.5701 - val_loss: 27.2561 - val_mae: 3.2723\n",
            "Epoch 48/200\n",
            "12/12 [==============================] - 0s 6ms/step - loss: 13.8603 - mae: 2.5427 - val_loss: 25.2063 - val_mae: 3.2142\n",
            "Epoch 49/200\n",
            "12/12 [==============================] - 0s 7ms/step - loss: 13.2568 - mae: 2.4386 - val_loss: 24.8488 - val_mae: 3.1706\n",
            "Epoch 50/200\n",
            "12/12 [==============================] - 0s 6ms/step - loss: 13.1051 - mae: 2.4122 - val_loss: 25.0818 - val_mae: 3.2018\n",
            "Epoch 51/200\n",
            "12/12 [==============================] - 0s 6ms/step - loss: 13.2820 - mae: 2.5267 - val_loss: 26.4373 - val_mae: 3.2225\n",
            "Epoch 52/200\n",
            "12/12 [==============================] - 0s 7ms/step - loss: 13.3814 - mae: 2.4717 - val_loss: 24.9204 - val_mae: 3.1575\n",
            "Epoch 53/200\n",
            "12/12 [==============================] - 0s 6ms/step - loss: 12.6072 - mae: 2.3478 - val_loss: 24.2812 - val_mae: 3.1404\n",
            "Epoch 54/200\n",
            "12/12 [==============================] - 0s 6ms/step - loss: 12.4075 - mae: 2.3618 - val_loss: 24.2759 - val_mae: 3.1191\n",
            "Epoch 55/200\n",
            "12/12 [==============================] - 0s 7ms/step - loss: 12.5002 - mae: 2.3776 - val_loss: 23.8628 - val_mae: 3.1441\n",
            "Epoch 56/200\n",
            "12/12 [==============================] - 0s 7ms/step - loss: 12.2840 - mae: 2.3513 - val_loss: 23.7934 - val_mae: 3.1185\n",
            "Epoch 57/200\n",
            "12/12 [==============================] - 0s 7ms/step - loss: 11.9490 - mae: 2.3223 - val_loss: 24.2391 - val_mae: 3.1059\n",
            "Epoch 58/200\n",
            "12/12 [==============================] - 0s 7ms/step - loss: 11.9723 - mae: 2.3222 - val_loss: 24.7224 - val_mae: 3.1213\n",
            "Epoch 59/200\n",
            "12/12 [==============================] - 0s 8ms/step - loss: 11.8310 - mae: 2.3284 - val_loss: 23.9052 - val_mae: 3.0633\n",
            "Epoch 60/200\n",
            "12/12 [==============================] - 0s 6ms/step - loss: 11.7188 - mae: 2.2975 - val_loss: 22.8085 - val_mae: 3.1074\n",
            "Epoch 61/200\n",
            "12/12 [==============================] - 0s 6ms/step - loss: 11.8441 - mae: 2.3211 - val_loss: 22.7930 - val_mae: 3.0463\n",
            "Epoch 62/200\n",
            "12/12 [==============================] - 0s 6ms/step - loss: 11.5245 - mae: 2.2990 - val_loss: 23.6863 - val_mae: 3.0661\n",
            "Epoch 63/200\n",
            "12/12 [==============================] - 0s 8ms/step - loss: 11.7005 - mae: 2.3597 - val_loss: 25.6980 - val_mae: 3.1638\n",
            "Epoch 64/200\n",
            "12/12 [==============================] - 0s 10ms/step - loss: 11.8020 - mae: 2.2965 - val_loss: 23.2670 - val_mae: 3.0357\n",
            "Epoch 65/200\n",
            "12/12 [==============================] - 0s 9ms/step - loss: 11.1054 - mae: 2.2474 - val_loss: 23.5606 - val_mae: 3.0323\n",
            "Epoch 66/200\n",
            "12/12 [==============================] - 0s 10ms/step - loss: 11.1138 - mae: 2.2647 - val_loss: 23.5561 - val_mae: 3.0392\n",
            "Epoch 67/200\n",
            "12/12 [==============================] - 0s 9ms/step - loss: 11.4646 - mae: 2.3206 - val_loss: 21.9489 - val_mae: 3.0574\n",
            "Epoch 68/200\n",
            "12/12 [==============================] - 0s 12ms/step - loss: 11.1057 - mae: 2.2516 - val_loss: 22.0275 - val_mae: 3.0234\n",
            "Epoch 69/200\n",
            "12/12 [==============================] - 0s 10ms/step - loss: 10.7635 - mae: 2.2183 - val_loss: 21.9333 - val_mae: 3.0020\n",
            "Epoch 70/200\n",
            "12/12 [==============================] - 0s 10ms/step - loss: 10.9636 - mae: 2.2241 - val_loss: 24.0202 - val_mae: 3.0361\n",
            "Epoch 71/200\n",
            "12/12 [==============================] - 0s 10ms/step - loss: 10.6655 - mae: 2.2751 - val_loss: 23.0021 - val_mae: 3.0105\n",
            "Epoch 72/200\n",
            "12/12 [==============================] - 0s 9ms/step - loss: 10.6776 - mae: 2.2404 - val_loss: 21.9673 - val_mae: 2.9897\n",
            "Epoch 73/200\n",
            "12/12 [==============================] - 0s 9ms/step - loss: 10.2755 - mae: 2.1807 - val_loss: 21.7258 - val_mae: 3.0166\n",
            "Epoch 74/200\n",
            "12/12 [==============================] - 0s 11ms/step - loss: 10.3086 - mae: 2.2117 - val_loss: 21.9395 - val_mae: 2.9848\n",
            "Epoch 75/200\n",
            "12/12 [==============================] - 0s 9ms/step - loss: 10.2504 - mae: 2.2019 - val_loss: 23.4166 - val_mae: 3.0290\n",
            "Epoch 76/200\n",
            "12/12 [==============================] - 0s 11ms/step - loss: 10.3208 - mae: 2.2325 - val_loss: 22.4354 - val_mae: 2.9810\n",
            "Epoch 77/200\n",
            "12/12 [==============================] - 0s 11ms/step - loss: 9.9337 - mae: 2.1416 - val_loss: 21.4663 - val_mae: 2.9550\n",
            "Epoch 78/200\n",
            "12/12 [==============================] - 0s 10ms/step - loss: 9.7948 - mae: 2.1317 - val_loss: 20.7728 - val_mae: 2.9903\n",
            "Epoch 79/200\n",
            "12/12 [==============================] - 0s 10ms/step - loss: 10.3969 - mae: 2.2073 - val_loss: 20.3692 - val_mae: 3.0039\n",
            "Epoch 80/200\n",
            "12/12 [==============================] - 0s 9ms/step - loss: 9.9645 - mae: 2.1517 - val_loss: 20.9542 - val_mae: 2.9593\n",
            "Epoch 81/200\n",
            "12/12 [==============================] - 0s 11ms/step - loss: 9.5564 - mae: 2.1521 - val_loss: 20.5424 - val_mae: 2.9655\n",
            "Epoch 82/200\n",
            "12/12 [==============================] - 0s 11ms/step - loss: 9.5163 - mae: 2.1133 - val_loss: 21.1777 - val_mae: 2.9511\n",
            "Epoch 83/200\n",
            "12/12 [==============================] - 0s 8ms/step - loss: 9.8244 - mae: 2.1992 - val_loss: 23.8015 - val_mae: 3.1413\n",
            "Epoch 84/200\n",
            "12/12 [==============================] - 0s 7ms/step - loss: 9.6599 - mae: 2.1749 - val_loss: 20.9847 - val_mae: 2.9420\n",
            "Epoch 85/200\n",
            "12/12 [==============================] - 0s 7ms/step - loss: 9.4463 - mae: 2.1278 - val_loss: 20.1390 - val_mae: 3.0572\n",
            "Epoch 86/200\n",
            "12/12 [==============================] - 0s 7ms/step - loss: 9.7201 - mae: 2.2113 - val_loss: 20.7077 - val_mae: 2.9146\n",
            "Epoch 87/200\n",
            "12/12 [==============================] - 0s 7ms/step - loss: 9.6400 - mae: 2.1901 - val_loss: 23.1153 - val_mae: 3.0768\n",
            "Epoch 88/200\n",
            "12/12 [==============================] - 0s 7ms/step - loss: 9.1487 - mae: 2.1316 - val_loss: 19.9420 - val_mae: 2.8950\n",
            "Epoch 89/200\n",
            "12/12 [==============================] - 0s 7ms/step - loss: 9.6752 - mae: 2.1080 - val_loss: 20.3650 - val_mae: 3.0663\n",
            "Epoch 90/200\n",
            "12/12 [==============================] - 0s 7ms/step - loss: 8.8416 - mae: 2.0727 - val_loss: 21.6015 - val_mae: 2.9882\n",
            "Epoch 91/200\n",
            "12/12 [==============================] - 0s 6ms/step - loss: 8.8614 - mae: 2.0787 - val_loss: 19.9892 - val_mae: 2.9621\n",
            "Epoch 92/200\n",
            "12/12 [==============================] - 0s 6ms/step - loss: 8.6116 - mae: 2.0537 - val_loss: 21.2372 - val_mae: 2.9763\n",
            "Epoch 93/200\n",
            "12/12 [==============================] - 0s 8ms/step - loss: 8.9762 - mae: 2.0977 - val_loss: 22.3145 - val_mae: 3.0106\n",
            "Epoch 94/200\n",
            "12/12 [==============================] - 0s 7ms/step - loss: 8.6461 - mae: 2.0424 - val_loss: 19.9297 - val_mae: 2.8924\n",
            "Epoch 95/200\n",
            "12/12 [==============================] - 0s 6ms/step - loss: 8.7192 - mae: 2.0727 - val_loss: 20.9857 - val_mae: 2.9504\n",
            "Epoch 96/200\n",
            "12/12 [==============================] - 0s 6ms/step - loss: 8.7605 - mae: 2.1118 - val_loss: 22.2044 - val_mae: 3.0198\n",
            "Epoch 97/200\n",
            "12/12 [==============================] - 0s 7ms/step - loss: 8.7012 - mae: 2.0678 - val_loss: 19.8215 - val_mae: 2.8952\n",
            "Epoch 98/200\n",
            "12/12 [==============================] - 0s 7ms/step - loss: 8.5550 - mae: 2.0521 - val_loss: 20.7790 - val_mae: 2.9250\n",
            "Epoch 99/200\n",
            "12/12 [==============================] - 0s 7ms/step - loss: 8.1706 - mae: 1.9971 - val_loss: 19.3454 - val_mae: 2.8725\n",
            "Epoch 100/200\n",
            "12/12 [==============================] - 0s 7ms/step - loss: 8.2616 - mae: 2.0183 - val_loss: 22.0648 - val_mae: 3.0299\n",
            "Epoch 101/200\n",
            "12/12 [==============================] - 0s 6ms/step - loss: 8.5355 - mae: 2.0349 - val_loss: 20.2587 - val_mae: 2.9011\n",
            "Epoch 102/200\n",
            "12/12 [==============================] - 0s 6ms/step - loss: 8.2186 - mae: 2.0066 - val_loss: 20.2130 - val_mae: 2.8987\n",
            "Epoch 103/200\n",
            "12/12 [==============================] - 0s 7ms/step - loss: 8.0905 - mae: 1.9989 - val_loss: 19.7216 - val_mae: 2.9059\n",
            "Epoch 104/200\n",
            "12/12 [==============================] - 0s 6ms/step - loss: 8.0566 - mae: 1.9805 - val_loss: 19.3043 - val_mae: 2.8612\n",
            "Epoch 105/200\n",
            "12/12 [==============================] - 0s 6ms/step - loss: 7.9270 - mae: 1.9740 - val_loss: 19.6393 - val_mae: 2.8923\n",
            "Epoch 106/200\n",
            "12/12 [==============================] - 0s 6ms/step - loss: 8.0062 - mae: 1.9959 - val_loss: 19.7955 - val_mae: 2.8951\n",
            "Epoch 107/200\n",
            "12/12 [==============================] - 0s 6ms/step - loss: 7.8215 - mae: 1.9709 - val_loss: 19.7629 - val_mae: 2.8966\n",
            "Epoch 108/200\n",
            "12/12 [==============================] - 0s 6ms/step - loss: 7.8924 - mae: 1.9851 - val_loss: 19.4718 - val_mae: 2.9209\n",
            "Epoch 109/200\n",
            "12/12 [==============================] - 0s 6ms/step - loss: 8.6595 - mae: 2.1463 - val_loss: 19.5016 - val_mae: 2.8883\n",
            "Epoch 110/200\n",
            "12/12 [==============================] - 0s 6ms/step - loss: 8.5019 - mae: 2.0874 - val_loss: 21.6527 - val_mae: 3.0207\n",
            "Epoch 111/200\n",
            "12/12 [==============================] - 0s 6ms/step - loss: 7.9155 - mae: 2.0193 - val_loss: 19.8190 - val_mae: 2.8890\n",
            "Epoch 112/200\n",
            "12/12 [==============================] - 0s 7ms/step - loss: 7.7236 - mae: 1.9849 - val_loss: 20.4885 - val_mae: 2.9312\n",
            "Epoch 113/200\n",
            "12/12 [==============================] - 0s 6ms/step - loss: 7.8474 - mae: 1.9786 - val_loss: 19.0972 - val_mae: 2.8967\n",
            "Epoch 114/200\n",
            "12/12 [==============================] - 0s 7ms/step - loss: 7.5121 - mae: 1.9596 - val_loss: 20.8031 - val_mae: 2.9534\n",
            "Epoch 115/200\n",
            "12/12 [==============================] - 0s 7ms/step - loss: 7.5896 - mae: 1.9702 - val_loss: 20.1486 - val_mae: 2.9065\n",
            "Epoch 116/200\n",
            "12/12 [==============================] - 0s 7ms/step - loss: 7.4609 - mae: 1.9600 - val_loss: 19.1043 - val_mae: 2.9007\n",
            "Epoch 117/200\n",
            "12/12 [==============================] - 0s 6ms/step - loss: 7.5948 - mae: 1.9403 - val_loss: 18.8747 - val_mae: 2.8713\n",
            "Epoch 118/200\n",
            "12/12 [==============================] - 0s 6ms/step - loss: 7.4363 - mae: 1.9374 - val_loss: 21.7615 - val_mae: 3.0386\n",
            "Epoch 119/200\n",
            "12/12 [==============================] - 0s 7ms/step - loss: 8.0425 - mae: 2.0125 - val_loss: 20.9938 - val_mae: 2.9794\n",
            "Epoch 120/200\n",
            "12/12 [==============================] - 0s 6ms/step - loss: 8.5769 - mae: 2.1465 - val_loss: 18.9676 - val_mae: 2.9100\n",
            "Epoch 121/200\n",
            "12/12 [==============================] - 0s 7ms/step - loss: 7.7280 - mae: 1.9834 - val_loss: 19.1024 - val_mae: 2.9626\n",
            "Epoch 122/200\n",
            "12/12 [==============================] - 0s 6ms/step - loss: 7.6592 - mae: 1.9724 - val_loss: 18.6205 - val_mae: 2.8400\n",
            "Epoch 123/200\n",
            "12/12 [==============================] - 0s 7ms/step - loss: 7.6297 - mae: 1.9878 - val_loss: 18.7717 - val_mae: 2.8593\n",
            "Epoch 124/200\n",
            "12/12 [==============================] - 0s 18ms/step - loss: 7.0449 - mae: 1.8944 - val_loss: 19.3232 - val_mae: 2.8884\n",
            "Epoch 125/200\n",
            "12/12 [==============================] - 0s 15ms/step - loss: 7.2095 - mae: 1.9086 - val_loss: 18.6519 - val_mae: 2.8723\n",
            "Epoch 126/200\n",
            "12/12 [==============================] - 0s 6ms/step - loss: 7.5454 - mae: 1.9729 - val_loss: 19.0800 - val_mae: 2.8773\n",
            "Epoch 127/200\n",
            "12/12 [==============================] - 0s 6ms/step - loss: 7.5699 - mae: 1.9914 - val_loss: 19.2086 - val_mae: 2.8850\n",
            "Epoch 128/200\n",
            "12/12 [==============================] - 0s 6ms/step - loss: 6.9007 - mae: 1.8726 - val_loss: 20.2451 - val_mae: 2.9131\n",
            "Epoch 129/200\n",
            "12/12 [==============================] - 0s 6ms/step - loss: 6.9836 - mae: 1.8756 - val_loss: 19.1203 - val_mae: 2.9409\n",
            "Epoch 130/200\n",
            "12/12 [==============================] - 0s 6ms/step - loss: 7.1755 - mae: 1.9508 - val_loss: 18.4706 - val_mae: 2.8340\n",
            "Epoch 131/200\n",
            "12/12 [==============================] - 0s 7ms/step - loss: 6.8996 - mae: 1.8776 - val_loss: 19.1279 - val_mae: 2.8747\n",
            "Epoch 132/200\n",
            "12/12 [==============================] - 0s 26ms/step - loss: 7.0750 - mae: 1.9011 - val_loss: 19.7866 - val_mae: 2.8879\n",
            "Epoch 133/200\n",
            "12/12 [==============================] - 0s 11ms/step - loss: 7.1108 - mae: 1.9357 - val_loss: 19.1488 - val_mae: 2.8668\n",
            "Epoch 134/200\n",
            "12/12 [==============================] - 0s 7ms/step - loss: 7.1318 - mae: 1.9187 - val_loss: 21.1168 - val_mae: 3.0169\n",
            "Epoch 135/200\n",
            "12/12 [==============================] - 0s 7ms/step - loss: 7.2668 - mae: 1.9500 - val_loss: 20.6333 - val_mae: 2.9694\n",
            "Epoch 136/200\n",
            "12/12 [==============================] - 0s 7ms/step - loss: 7.1390 - mae: 1.9563 - val_loss: 19.0106 - val_mae: 2.8851\n",
            "Epoch 137/200\n",
            "12/12 [==============================] - 0s 6ms/step - loss: 6.5957 - mae: 1.8461 - val_loss: 19.2276 - val_mae: 2.8774\n",
            "Epoch 138/200\n",
            "12/12 [==============================] - 0s 7ms/step - loss: 6.6827 - mae: 1.8483 - val_loss: 18.8581 - val_mae: 2.8498\n",
            "Epoch 139/200\n",
            "12/12 [==============================] - 0s 6ms/step - loss: 6.8420 - mae: 1.8975 - val_loss: 18.1457 - val_mae: 2.8375\n",
            "Epoch 140/200\n",
            "12/12 [==============================] - 0s 17ms/step - loss: 6.7074 - mae: 1.8474 - val_loss: 18.3981 - val_mae: 2.8529\n",
            "Epoch 141/200\n",
            "12/12 [==============================] - 0s 17ms/step - loss: 6.5356 - mae: 1.8439 - val_loss: 19.0701 - val_mae: 2.8544\n",
            "Epoch 142/200\n",
            "12/12 [==============================] - 0s 6ms/step - loss: 6.9092 - mae: 1.8915 - val_loss: 20.2699 - val_mae: 2.9242\n",
            "Epoch 143/200\n",
            "12/12 [==============================] - 0s 7ms/step - loss: 6.9837 - mae: 1.9067 - val_loss: 20.1384 - val_mae: 2.9134\n",
            "Epoch 144/200\n",
            "12/12 [==============================] - 0s 6ms/step - loss: 6.5667 - mae: 1.8624 - val_loss: 18.7065 - val_mae: 2.8444\n",
            "Epoch 145/200\n",
            "12/12 [==============================] - 0s 6ms/step - loss: 7.0141 - mae: 1.9332 - val_loss: 18.0720 - val_mae: 2.8559\n",
            "Epoch 146/200\n",
            "12/12 [==============================] - 0s 6ms/step - loss: 7.0645 - mae: 1.9405 - val_loss: 18.8727 - val_mae: 3.0446\n",
            "Epoch 147/200\n",
            "12/12 [==============================] - 0s 6ms/step - loss: 7.3019 - mae: 1.9604 - val_loss: 17.5756 - val_mae: 2.8065\n",
            "Epoch 148/200\n",
            "12/12 [==============================] - 0s 6ms/step - loss: 6.5207 - mae: 1.8344 - val_loss: 18.5114 - val_mae: 2.8664\n",
            "Epoch 149/200\n",
            "12/12 [==============================] - 0s 7ms/step - loss: 6.4980 - mae: 1.8573 - val_loss: 18.0828 - val_mae: 2.8082\n",
            "Epoch 150/200\n",
            "12/12 [==============================] - 0s 7ms/step - loss: 6.1875 - mae: 1.8000 - val_loss: 19.5650 - val_mae: 2.8842\n",
            "Epoch 151/200\n",
            "12/12 [==============================] - 0s 9ms/step - loss: 6.4117 - mae: 1.8289 - val_loss: 19.2590 - val_mae: 2.8557\n",
            "Epoch 152/200\n",
            "12/12 [==============================] - 0s 6ms/step - loss: 6.2294 - mae: 1.8307 - val_loss: 18.5690 - val_mae: 2.8180\n",
            "Epoch 153/200\n",
            "12/12 [==============================] - 0s 7ms/step - loss: 6.1986 - mae: 1.7957 - val_loss: 18.7991 - val_mae: 2.8459\n",
            "Epoch 154/200\n",
            "12/12 [==============================] - 0s 6ms/step - loss: 6.2589 - mae: 1.8013 - val_loss: 18.4826 - val_mae: 2.8095\n",
            "Epoch 155/200\n",
            "12/12 [==============================] - 0s 6ms/step - loss: 6.3077 - mae: 1.7942 - val_loss: 18.9714 - val_mae: 2.8520\n",
            "Epoch 156/200\n",
            "12/12 [==============================] - 0s 7ms/step - loss: 6.4135 - mae: 1.8300 - val_loss: 19.1672 - val_mae: 2.8567\n",
            "Epoch 157/200\n",
            "12/12 [==============================] - 0s 6ms/step - loss: 6.6890 - mae: 1.9240 - val_loss: 18.5353 - val_mae: 2.8416\n",
            "Epoch 158/200\n",
            "12/12 [==============================] - 0s 6ms/step - loss: 6.3462 - mae: 1.8250 - val_loss: 17.4256 - val_mae: 2.8578\n",
            "Epoch 159/200\n",
            "12/12 [==============================] - 0s 6ms/step - loss: 6.4876 - mae: 1.8895 - val_loss: 19.1153 - val_mae: 2.8672\n",
            "Epoch 160/200\n",
            "12/12 [==============================] - 0s 6ms/step - loss: 5.9913 - mae: 1.7821 - val_loss: 18.5277 - val_mae: 2.8082\n",
            "Epoch 161/200\n",
            "12/12 [==============================] - 0s 7ms/step - loss: 6.2579 - mae: 1.8126 - val_loss: 17.9197 - val_mae: 2.7992\n",
            "Epoch 162/200\n",
            "12/12 [==============================] - 0s 8ms/step - loss: 6.0640 - mae: 1.7913 - val_loss: 17.8157 - val_mae: 2.8055\n",
            "Epoch 163/200\n",
            "12/12 [==============================] - 0s 8ms/step - loss: 6.2453 - mae: 1.8284 - val_loss: 17.8234 - val_mae: 2.8016\n",
            "Epoch 164/200\n",
            "12/12 [==============================] - 0s 7ms/step - loss: 6.3204 - mae: 1.8420 - val_loss: 17.7909 - val_mae: 2.8389\n",
            "Epoch 165/200\n",
            "12/12 [==============================] - 0s 6ms/step - loss: 6.1259 - mae: 1.7906 - val_loss: 18.2727 - val_mae: 2.8063\n",
            "Epoch 166/200\n",
            "12/12 [==============================] - 0s 6ms/step - loss: 6.0791 - mae: 1.8102 - val_loss: 19.0316 - val_mae: 2.8404\n",
            "Epoch 167/200\n",
            "12/12 [==============================] - 0s 8ms/step - loss: 6.0315 - mae: 1.8042 - val_loss: 18.5857 - val_mae: 2.8105\n",
            "Epoch 168/200\n",
            "12/12 [==============================] - 0s 6ms/step - loss: 5.9636 - mae: 1.8030 - val_loss: 18.4556 - val_mae: 2.8076\n",
            "Epoch 169/200\n",
            "12/12 [==============================] - 0s 7ms/step - loss: 6.1164 - mae: 1.7959 - val_loss: 18.6968 - val_mae: 2.8224\n",
            "Epoch 170/200\n",
            "12/12 [==============================] - 0s 6ms/step - loss: 6.0501 - mae: 1.8031 - val_loss: 20.1006 - val_mae: 2.9077\n",
            "Epoch 171/200\n",
            "12/12 [==============================] - 0s 6ms/step - loss: 5.9436 - mae: 1.7777 - val_loss: 17.7919 - val_mae: 2.7780\n",
            "Epoch 172/200\n",
            "12/12 [==============================] - 0s 7ms/step - loss: 5.8037 - mae: 1.7621 - val_loss: 17.9075 - val_mae: 2.7959\n",
            "Epoch 173/200\n",
            "12/12 [==============================] - 0s 7ms/step - loss: 5.8311 - mae: 1.7637 - val_loss: 18.2983 - val_mae: 2.8035\n",
            "Epoch 174/200\n",
            "12/12 [==============================] - 0s 6ms/step - loss: 5.6889 - mae: 1.7574 - val_loss: 20.1330 - val_mae: 2.9121\n",
            "Epoch 175/200\n",
            "12/12 [==============================] - 0s 7ms/step - loss: 5.8683 - mae: 1.7837 - val_loss: 17.4449 - val_mae: 2.7759\n",
            "Epoch 176/200\n",
            "12/12 [==============================] - 0s 6ms/step - loss: 5.7452 - mae: 1.7583 - val_loss: 17.8218 - val_mae: 2.7868\n",
            "Epoch 177/200\n",
            "12/12 [==============================] - 0s 6ms/step - loss: 5.8383 - mae: 1.7765 - val_loss: 17.9148 - val_mae: 2.8443\n",
            "Epoch 178/200\n",
            "12/12 [==============================] - 0s 8ms/step - loss: 5.7542 - mae: 1.7959 - val_loss: 18.2605 - val_mae: 2.8049\n",
            "Epoch 179/200\n",
            "12/12 [==============================] - 0s 6ms/step - loss: 5.6203 - mae: 1.7432 - val_loss: 18.6066 - val_mae: 2.8153\n",
            "Epoch 180/200\n",
            "12/12 [==============================] - 0s 6ms/step - loss: 5.8465 - mae: 1.7589 - val_loss: 18.5889 - val_mae: 2.8105\n",
            "Epoch 181/200\n",
            "12/12 [==============================] - 0s 8ms/step - loss: 5.7424 - mae: 1.7478 - val_loss: 18.8039 - val_mae: 2.8135\n",
            "Epoch 182/200\n",
            "12/12 [==============================] - 0s 7ms/step - loss: 5.4962 - mae: 1.7330 - val_loss: 18.0690 - val_mae: 2.7790\n",
            "Epoch 183/200\n",
            "12/12 [==============================] - 0s 8ms/step - loss: 5.7599 - mae: 1.7619 - val_loss: 19.6135 - val_mae: 2.9317\n",
            "Epoch 184/200\n",
            "12/12 [==============================] - 0s 6ms/step - loss: 6.1936 - mae: 1.8723 - val_loss: 17.6200 - val_mae: 2.7553\n",
            "Epoch 185/200\n",
            "12/12 [==============================] - 0s 6ms/step - loss: 5.6659 - mae: 1.7372 - val_loss: 17.3048 - val_mae: 2.7434\n",
            "Epoch 186/200\n",
            "12/12 [==============================] - 0s 7ms/step - loss: 5.5008 - mae: 1.7124 - val_loss: 18.5400 - val_mae: 2.7992\n",
            "Epoch 187/200\n",
            "12/12 [==============================] - 0s 8ms/step - loss: 5.6486 - mae: 1.7362 - val_loss: 19.2160 - val_mae: 2.8656\n",
            "Epoch 188/200\n",
            "12/12 [==============================] - 0s 7ms/step - loss: 5.4178 - mae: 1.6995 - val_loss: 18.1326 - val_mae: 2.7909\n",
            "Epoch 189/200\n",
            "12/12 [==============================] - 0s 7ms/step - loss: 5.4538 - mae: 1.6983 - val_loss: 18.0901 - val_mae: 2.7755\n",
            "Epoch 190/200\n",
            "12/12 [==============================] - 0s 7ms/step - loss: 5.3987 - mae: 1.7058 - val_loss: 18.7617 - val_mae: 2.8153\n",
            "Epoch 191/200\n",
            "12/12 [==============================] - 0s 7ms/step - loss: 5.4353 - mae: 1.6985 - val_loss: 18.6620 - val_mae: 2.8174\n",
            "Epoch 192/200\n",
            "12/12 [==============================] - 0s 11ms/step - loss: 5.4970 - mae: 1.7296 - val_loss: 18.3718 - val_mae: 2.7914\n",
            "Epoch 193/200\n",
            "12/12 [==============================] - 0s 9ms/step - loss: 5.3250 - mae: 1.7037 - val_loss: 18.0809 - val_mae: 2.7682\n",
            "Epoch 194/200\n",
            "12/12 [==============================] - 0s 11ms/step - loss: 5.3514 - mae: 1.7024 - val_loss: 18.7395 - val_mae: 2.8358\n",
            "Epoch 195/200\n",
            "12/12 [==============================] - 0s 11ms/step - loss: 5.5662 - mae: 1.7413 - val_loss: 18.0828 - val_mae: 2.7718\n",
            "Epoch 196/200\n",
            "12/12 [==============================] - 0s 10ms/step - loss: 5.4038 - mae: 1.7022 - val_loss: 17.7310 - val_mae: 2.7668\n",
            "Epoch 197/200\n",
            "12/12 [==============================] - 0s 10ms/step - loss: 5.4955 - mae: 1.7457 - val_loss: 18.2038 - val_mae: 2.7739\n",
            "Epoch 198/200\n",
            "12/12 [==============================] - 0s 8ms/step - loss: 5.5823 - mae: 1.7592 - val_loss: 17.5884 - val_mae: 2.7582\n",
            "Epoch 199/200\n",
            "12/12 [==============================] - 0s 9ms/step - loss: 5.6402 - mae: 1.7582 - val_loss: 17.6971 - val_mae: 2.8382\n",
            "Epoch 200/200\n",
            "12/12 [==============================] - 0s 10ms/step - loss: 5.6054 - mae: 1.7365 - val_loss: 18.0157 - val_mae: 2.7729\n"
          ]
        }
      ]
    },
    {
      "cell_type": "markdown",
      "metadata": {
        "id": "mvlGXR3yVMYo"
      },
      "source": [
        "#### 1.6. Делаем предсказания на тестовых данных"
      ]
    },
    {
      "cell_type": "code",
      "source": [
        "preds = model.predict(X_test)\n",
        "X_test"
      ],
      "metadata": {
        "id": "Rui6kjT01jEA",
        "outputId": "9c7894e1-b4a9-4139-fe80-9fde64464ea9",
        "colab": {
          "base_uri": "https://localhost:8080/"
        }
      },
      "execution_count": 8,
      "outputs": [
        {
          "output_type": "stream",
          "name": "stdout",
          "text": [
            "4/4 [==============================] - 0s 3ms/step\n"
          ]
        },
        {
          "output_type": "execute_result",
          "data": {
            "text/plain": [
              "array([[6.7240e-02, 0.0000e+00, 3.2400e+00, ..., 1.6900e+01, 3.7521e+02,\n",
              "        7.3400e+00],\n",
              "       [9.2323e+00, 0.0000e+00, 1.8100e+01, ..., 2.0200e+01, 3.6615e+02,\n",
              "        9.5300e+00],\n",
              "       [1.1425e-01, 0.0000e+00, 1.3890e+01, ..., 1.6400e+01, 3.9374e+02,\n",
              "        1.0500e+01],\n",
              "       ...,\n",
              "       [3.4940e-01, 0.0000e+00, 9.9000e+00, ..., 1.8400e+01, 3.9624e+02,\n",
              "        9.9700e+00],\n",
              "       [9.8490e-02, 0.0000e+00, 2.5650e+01, ..., 1.9100e+01, 3.7938e+02,\n",
              "        1.7580e+01],\n",
              "       [7.5030e-02, 3.3000e+01, 2.1800e+00, ..., 1.8400e+01, 3.9690e+02,\n",
              "        6.4700e+00]])"
            ]
          },
          "metadata": {},
          "execution_count": 8
        }
      ]
    },
    {
      "cell_type": "markdown",
      "metadata": {
        "id": "NLsmmLVkVhkL"
      },
      "source": [
        "#### 1.7. Вычисляем метрику качества на тестовых данных"
      ]
    },
    {
      "cell_type": "code",
      "source": [
        "from sklearn.metrics import mean_absolute_error\n",
        "\n",
        "error = mean_absolute_error(preds, y_test)\n",
        "print(error)"
      ],
      "metadata": {
        "id": "V8cpkQnr1jcS",
        "outputId": "edd9831d-3e94-4b38-a834-fcd04bde570a",
        "colab": {
          "base_uri": "https://localhost:8080/"
        }
      },
      "execution_count": 9,
      "outputs": [
        {
          "output_type": "stream",
          "name": "stdout",
          "text": [
            "5647.924240664984\n"
          ]
        }
      ]
    },
    {
      "cell_type": "code",
      "source": [],
      "metadata": {
        "id": "4feSuVwqnNsw"
      },
      "execution_count": null,
      "outputs": []
    },
    {
      "cell_type": "markdown",
      "metadata": {
        "id": "d4eyitaoKx_E"
      },
      "source": [
        "#### 1.8. Строим график обучения"
      ]
    },
    {
      "cell_type": "code",
      "source": [
        "import matplotlib.pyplot as plt\n",
        "\n",
        "plt.plot(H.history[\"loss\"], label=\"loss\")\n",
        "plt.plot(H.history[\"val_loss\"], label=\"val_loss\")\n",
        "plt.legend()\n",
        "plt.show()"
      ],
      "metadata": {
        "id": "tw-JEpqm1jyK",
        "outputId": "2de8cea2-f426-4459-d1fd-2f0c87b6ec8c",
        "colab": {
          "base_uri": "https://localhost:8080/",
          "height": 430
        }
      },
      "execution_count": 10,
      "outputs": [
        {
          "output_type": "display_data",
          "data": {
            "text/plain": [
              "<Figure size 640x480 with 1 Axes>"
            ],
            "image/png": "[encoded data removed]"
          },
          "metadata": {}
        }
      ]
    },
    {
      "cell_type": "markdown",
      "metadata": {
        "id": "XYMsbjaoMEqT"
      },
      "source": [
        "#### 1.9. Построение графического интерфейса в Gradio Проверка обученной модели пользовательскими данными"
      ]
    },
    {
      "cell_type": "code",
      "source": [
        "!pip install gradio"
      ],
      "metadata": {
        "id": "x-dyoItx2JN_",
        "colab": {
          "base_uri": "https://localhost:8080/"
        },
        "outputId": "737388c4-ff6e-41ac-bb36-d11c414c59e3"
      },
      "execution_count": 11,
      "outputs": [
        {
          "output_type": "stream",
          "name": "stdout",
          "text": [
            "Collecting gradio\n",
            "  Downloading gradio-4.21.0-py3-none-any.whl (17.0 MB)\n",
            "\u001b[2K     \u001b[90m━━━━━━━━━━━━━━━━━━━━━━━━━━━━━━━━━━━━━━━━\u001b[0m \u001b[32m17.0/17.0 MB\u001b[0m \u001b[31m53.1 MB/s\u001b[0m eta \u001b[36m0:00:00\u001b[0m\n",
            "\u001b[?25hCollecting aiofiles<24.0,>=22.0 (from gradio)\n",
            "  Downloading aiofiles-23.2.1-py3-none-any.whl (15 kB)\n",
            "Requirement already satisfied: altair<6.0,>=4.2.0 in /usr/local/lib/python3.10/dist-packages (from gradio) (4.2.2)\n",
            "Collecting fastapi (from gradio)\n",
            "  Downloading fastapi-0.110.0-py3-none-any.whl (92 kB)\n",
            "\u001b[2K     \u001b[90m━━━━━━━━━━━━━━━━━━━━━━━━━━━━━━━━━━━━━━━━\u001b[0m \u001b[32m92.1/92.1 kB\u001b[0m \u001b[31m12.1 MB/s\u001b[0m eta \u001b[36m0:00:00\u001b[0m\n",
            "\u001b[?25hCollecting ffmpy (from gradio)\n",
            "  Downloading ffmpy-0.3.2.tar.gz (5.5 kB)\n",
            "  Preparing metadata (setup.py) ... \u001b[?25l\u001b[?25hdone\n",
            "Collecting gradio-client==0.12.0 (from gradio)\n",
            "  Downloading gradio_client-0.12.0-py3-none-any.whl (310 kB)\n",
            "\u001b[2K     \u001b[90m━━━━━━━━━━━━━━━━━━━━━━━━━━━━━━━━━━━━━━━━\u001b[0m \u001b[32m310.7/310.7 kB\u001b[0m \u001b[31m28.5 MB/s\u001b[0m eta \u001b[36m0:00:00\u001b[0m\n",
            "\u001b[?25hCollecting httpx>=0.24.1 (from gradio)\n",
            "  Downloading httpx-0.27.0-py3-none-any.whl (75 kB)\n",
            "\u001b[2K     \u001b[90m━━━━━━━━━━━━━━━━━━━━━━━━━━━━━━━━━━━━━━━━\u001b[0m \u001b[32m75.6/75.6 kB\u001b[0m \u001b[31m11.5 MB/s\u001b[0m eta \u001b[36m0:00:00\u001b[0m\n",
            "\u001b[?25hRequirement already satisfied: huggingface-hub>=0.19.3 in /usr/local/lib/python3.10/dist-packages (from gradio) (0.20.3)\n",
            "Requirement already satisfied: importlib-resources<7.0,>=1.3 in /usr/local/lib/python3.10/dist-packages (from gradio) (6.1.3)\n",
            "Requirement already satisfied: jinja2<4.0 in /usr/local/lib/python3.10/dist-packages (from gradio) (3.1.3)\n",
            "Requirement already satisfied: markupsafe~=2.0 in /usr/local/lib/python3.10/dist-packages (from gradio) (2.1.5)\n",
            "Requirement already satisfied: matplotlib~=3.0 in /usr/local/lib/python3.10/dist-packages (from gradio) (3.7.1)\n",
            "Requirement already satisfied: numpy~=1.0 in /usr/local/lib/python3.10/dist-packages (from gradio) (1.25.2)\n",
            "Collecting orjson~=3.0 (from gradio)\n",
            "  Downloading orjson-3.9.15-cp310-cp310-manylinux_2_17_x86_64.manylinux2014_x86_64.whl (138 kB)\n",
            "\u001b[2K     \u001b[90m━━━━━━━━━━━━━━━━━━━━━━━━━━━━━━━━━━━━━━━━\u001b[0m \u001b[32m138.5/138.5 kB\u001b[0m \u001b[31m20.8 MB/s\u001b[0m eta \u001b[36m0:00:00\u001b[0m\n",
            "\u001b[?25hRequirement already satisfied: packaging in /usr/local/lib/python3.10/dist-packages (from gradio) (23.2)\n",
            "Requirement already satisfied: pandas<3.0,>=1.0 in /usr/local/lib/python3.10/dist-packages (from gradio) (1.5.3)\n",
            "Requirement already satisfied: pillow<11.0,>=8.0 in /usr/local/lib/python3.10/dist-packages (from gradio) (9.4.0)\n",
            "Requirement already satisfied: pydantic>=2.0 in /usr/local/lib/python3.10/dist-packages (from gradio) (2.6.3)\n",
            "Collecting pydub (from gradio)\n",
            "  Downloading pydub-0.25.1-py2.py3-none-any.whl (32 kB)\n",
            "Collecting python-multipart>=0.0.9 (from gradio)\n",
            "  Downloading python_multipart-0.0.9-py3-none-any.whl (22 kB)\n",
            "Requirement already satisfied: pyyaml<7.0,>=5.0 in /usr/local/lib/python3.10/dist-packages (from gradio) (6.0.1)\n",
            "Collecting ruff>=0.2.2 (from gradio)\n",
            "  Downloading ruff-0.3.2-py3-none-manylinux_2_17_x86_64.manylinux2014_x86_64.whl (7.9 MB)\n",
            "\u001b[2K     \u001b[90m━━━━━━━━━━━━━━━━━━━━━━━━━━━━━━━━━━━━━━━━\u001b[0m \u001b[32m7.9/7.9 MB\u001b[0m \u001b[31m40.6 MB/s\u001b[0m eta \u001b[36m0:00:00\u001b[0m\n",
            "\u001b[?25hCollecting semantic-version~=2.0 (from gradio)\n",
            "  Downloading semantic_version-2.10.0-py2.py3-none-any.whl (15 kB)\n",
            "Collecting tomlkit==0.12.0 (from gradio)\n",
            "  Downloading tomlkit-0.12.0-py3-none-any.whl (37 kB)\n",
            "Requirement already satisfied: typer[all]<1.0,>=0.9 in /usr/local/lib/python3.10/dist-packages (from gradio) (0.9.0)\n",
            "Requirement already satisfied: typing-extensions~=4.0 in /usr/local/lib/python3.10/dist-packages (from gradio) (4.10.0)\n",
            "Collecting uvicorn>=0.14.0 (from gradio)\n",
            "  Downloading uvicorn-0.28.0-py3-none-any.whl (60 kB)\n",
            "\u001b[2K     \u001b[90m━━━━━━━━━━━━━━━━━━━━━━━━━━━━━━━━━━━━━━━━\u001b[0m \u001b[32m60.6/60.6 kB\u001b[0m \u001b[31m3.7 MB/s\u001b[0m eta \u001b[36m0:00:00\u001b[0m\n",
            "\u001b[?25hRequirement already satisfied: fsspec in /usr/local/lib/python3.10/dist-packages (from gradio-client==0.12.0->gradio) (2023.6.0)\n",
            "Collecting websockets<12.0,>=10.0 (from gradio-client==0.12.0->gradio)\n",
            "  Downloading websockets-11.0.3-cp310-cp310-manylinux_2_5_x86_64.manylinux1_x86_64.manylinux_2_17_x86_64.manylinux2014_x86_64.whl (129 kB)\n",
            "\u001b[2K     \u001b[90m━━━━━━━━━━━━━━━━━━━━━━━━━━━━━━━━━━━━━━━━\u001b[0m \u001b[32m129.9/129.9 kB\u001b[0m \u001b[31m11.6 MB/s\u001b[0m eta \u001b[36m0:00:00\u001b[0m\n",
            "\u001b[?25hRequirement already satisfied: entrypoints in /usr/local/lib/python3.10/dist-packages (from altair<6.0,>=4.2.0->gradio) (0.4)\n",
            "Requirement already satisfied: jsonschema>=3.0 in /usr/local/lib/python3.10/dist-packages (from altair<6.0,>=4.2.0->gradio) (4.19.2)\n",
            "Requirement already satisfied: toolz in /usr/local/lib/python3.10/dist-packages (from altair<6.0,>=4.2.0->gradio) (0.12.1)\n",
            "Requirement already satisfied: anyio in /usr/local/lib/python3.10/dist-packages (from httpx>=0.24.1->gradio) (3.7.1)\n",
            "Requirement already satisfied: certifi in /usr/local/lib/python3.10/dist-packages (from httpx>=0.24.1->gradio) (2024.2.2)\n",
            "Collecting httpcore==1.* (from httpx>=0.24.1->gradio)\n",
            "  Downloading httpcore-1.0.4-py3-none-any.whl (77 kB)\n",
            "\u001b[2K     \u001b[90m━━━━━━━━━━━━━━━━━━━━━━━━━━━━━━━━━━━━━━━━\u001b[0m \u001b[32m77.8/77.8 kB\u001b[0m \u001b[31m7.1 MB/s\u001b[0m eta \u001b[36m0:00:00\u001b[0m\n",
            "\u001b[?25hRequirement already satisfied: idna in /usr/local/lib/python3.10/dist-packages (from httpx>=0.24.1->gradio) (3.6)\n",
            "Requirement already satisfied: sniffio in /usr/local/lib/python3.10/dist-packages (from httpx>=0.24.1->gradio) (1.3.1)\n",
            "Collecting h11<0.15,>=0.13 (from httpcore==1.*->httpx>=0.24.1->gradio)\n",
            "  Downloading h11-0.14.0-py3-none-any.whl (58 kB)\n",
            "\u001b[2K     \u001b[90m━━━━━━━━━━━━━━━━━━━━━━━━━━━━━━━━━━━━━━━━\u001b[0m \u001b[32m58.3/58.3 kB\u001b[0m \u001b[31m6.1 MB/s\u001b[0m eta \u001b[36m0:00:00\u001b[0m\n",
            "\u001b[?25hRequirement already satisfied: filelock in /usr/local/lib/python3.10/dist-packages (from huggingface-hub>=0.19.3->gradio) (3.13.1)\n",
            "Requirement already satisfied: requests in /usr/local/lib/python3.10/dist-packages (from huggingface-hub>=0.19.3->gradio) (2.31.0)\n",
            "Requirement already satisfied: tqdm>=4.42.1 in /usr/local/lib/python3.10/dist-packages (from huggingface-hub>=0.19.3->gradio) (4.66.2)\n",
            "Requirement already satisfied: contourpy>=1.0.1 in /usr/local/lib/python3.10/dist-packages (from matplotlib~=3.0->gradio) (1.2.0)\n",
            "Requirement already satisfied: cycler>=0.10 in /usr/local/lib/python3.10/dist-packages (from matplotlib~=3.0->gradio) (0.12.1)\n",
            "Requirement already satisfied: fonttools>=4.22.0 in /usr/local/lib/python3.10/dist-packages (from matplotlib~=3.0->gradio) (4.49.0)\n",
            "Requirement already satisfied: kiwisolver>=1.0.1 in /usr/local/lib/python3.10/dist-packages (from matplotlib~=3.0->gradio) (1.4.5)\n",
            "Requirement already satisfied: pyparsing>=2.3.1 in /usr/local/lib/python3.10/dist-packages (from matplotlib~=3.0->gradio) (3.1.2)\n",
            "Requirement already satisfied: python-dateutil>=2.7 in /usr/local/lib/python3.10/dist-packages (from matplotlib~=3.0->gradio) (2.8.2)\n",
            "Requirement already satisfied: pytz>=2020.1 in /usr/local/lib/python3.10/dist-packages (from pandas<3.0,>=1.0->gradio) (2023.4)\n",
            "Requirement already satisfied: annotated-types>=0.4.0 in /usr/local/lib/python3.10/dist-packages (from pydantic>=2.0->gradio) (0.6.0)\n",
            "Requirement already satisfied: pydantic-core==2.16.3 in /usr/local/lib/python3.10/dist-packages (from pydantic>=2.0->gradio) (2.16.3)\n",
            "Requirement already satisfied: click<9.0.0,>=7.1.1 in /usr/local/lib/python3.10/dist-packages (from typer[all]<1.0,>=0.9->gradio) (8.1.7)\n",
            "Collecting colorama<0.5.0,>=0.4.3 (from typer[all]<1.0,>=0.9->gradio)\n",
            "  Downloading colorama-0.4.6-py2.py3-none-any.whl (25 kB)\n",
            "Collecting shellingham<2.0.0,>=1.3.0 (from typer[all]<1.0,>=0.9->gradio)\n",
            "  Downloading shellingham-1.5.4-py2.py3-none-any.whl (9.8 kB)\n",
            "Requirement already satisfied: rich<14.0.0,>=10.11.0 in /usr/local/lib/python3.10/dist-packages (from typer[all]<1.0,>=0.9->gradio) (13.7.1)\n",
            "Collecting starlette<0.37.0,>=0.36.3 (from fastapi->gradio)\n",
            "  Downloading starlette-0.36.3-py3-none-any.whl (71 kB)\n",
            "\u001b[2K     \u001b[90m━━━━━━━━━━━━━━━━━━━━━━━━━━━━━━━━━━━━━━━━\u001b[0m \u001b[32m71.5/71.5 kB\u001b[0m \u001b[31m9.6 MB/s\u001b[0m eta \u001b[36m0:00:00\u001b[0m\n",
            "\u001b[?25hRequirement already satisfied: attrs>=22.2.0 in /usr/local/lib/python3.10/dist-packages (from jsonschema>=3.0->altair<6.0,>=4.2.0->gradio) (23.2.0)\n",
            "Requirement already satisfied: jsonschema-specifications>=2023.03.6 in /usr/local/lib/python3.10/dist-packages (from jsonschema>=3.0->altair<6.0,>=4.2.0->gradio) (2023.12.1)\n",
            "Requirement already satisfied: referencing>=0.28.4 in /usr/local/lib/python3.10/dist-packages (from jsonschema>=3.0->altair<6.0,>=4.2.0->gradio) (0.33.0)\n",
            "Requirement already satisfied: rpds-py>=0.7.1 in /usr/local/lib/python3.10/dist-packages (from jsonschema>=3.0->altair<6.0,>=4.2.0->gradio) (0.18.0)\n",
            "Requirement already satisfied: six>=1.5 in /usr/local/lib/python3.10/dist-packages (from python-dateutil>=2.7->matplotlib~=3.0->gradio) (1.16.0)\n",
            "Requirement already satisfied: markdown-it-py>=2.2.0 in /usr/local/lib/python3.10/dist-packages (from rich<14.0.0,>=10.11.0->typer[all]<1.0,>=0.9->gradio) (3.0.0)\n",
            "Requirement already satisfied: pygments<3.0.0,>=2.13.0 in /usr/local/lib/python3.10/dist-packages (from rich<14.0.0,>=10.11.0->typer[all]<1.0,>=0.9->gradio) (2.16.1)\n",
            "Requirement already satisfied: exceptiongroup in /usr/local/lib/python3.10/dist-packages (from anyio->httpx>=0.24.1->gradio) (1.2.0)\n",
            "Requirement already satisfied: charset-normalizer<4,>=2 in /usr/local/lib/python3.10/dist-packages (from requests->huggingface-hub>=0.19.3->gradio) (3.3.2)\n",
            "Requirement already satisfied: urllib3<3,>=1.21.1 in /usr/local/lib/python3.10/dist-packages (from requests->huggingface-hub>=0.19.3->gradio) (2.0.7)\n",
            "Requirement already satisfied: mdurl~=0.1 in /usr/local/lib/python3.10/dist-packages (from markdown-it-py>=2.2.0->rich<14.0.0,>=10.11.0->typer[all]<1.0,>=0.9->gradio) (0.1.2)\n",
            "Building wheels for collected packages: ffmpy\n",
            "  Building wheel for ffmpy (setup.py) ... \u001b[?25l\u001b[?25hdone\n",
            "  Created wheel for ffmpy: filename=ffmpy-0.3.2-py3-none-any.whl size=5584 sha256=3aa361d43e1356aa26ab8092b419596af82bdae2080874a95788978b1ce2f978\n",
            "  Stored in directory: /root/.cache/pip/wheels/bd/65/9a/671fc6dcde07d4418df0c592f8df512b26d7a0029c2a23dd81\n",
            "Successfully built ffmpy\n",
            "Installing collected packages: pydub, ffmpy, websockets, tomlkit, shellingham, semantic-version, ruff, python-multipart, orjson, h11, colorama, aiofiles, uvicorn, starlette, httpcore, httpx, fastapi, gradio-client, gradio\n",
            "Successfully installed aiofiles-23.2.1 colorama-0.4.6 fastapi-0.110.0 ffmpy-0.3.2 gradio-4.21.0 gradio-client-0.12.0 h11-0.14.0 httpcore-1.0.4 httpx-0.27.0 orjson-3.9.15 pydub-0.25.1 python-multipart-0.0.9 ruff-0.3.2 semantic-version-2.10.0 shellingham-1.5.4 starlette-0.36.3 tomlkit-0.12.0 uvicorn-0.28.0 websockets-11.0.3\n"
          ]
        }
      ]
    },
    {
      "cell_type": "markdown",
      "source": [
        "#### 2. Проверка обученной модели пользовательскими данными"
      ],
      "metadata": {
        "id": "8UQpi9te2D4J"
      }
    },
    {
      "cell_type": "code",
      "source": [
        "import gradio as gr\n",
        "\n",
        "def preprocess_input(features, scale_model=\"scaler.pkl\"):\n",
        "  try:\n",
        "    # Преобразование в NumPy массив\n",
        "    features = np.array(features)\n",
        "\n",
        "    # Проверка на пустой массив\n",
        "    if not features.size:\n",
        "      raise ValueError(\"Пустой массив признаков!\")\n",
        "\n",
        "    # Изменение размерности массива (8,) -> (1, 8)\n",
        "    features = features.reshape(1, -1)\n",
        "\n",
        "    # Загрузка модели масштабирования\n",
        "    with open(scale_model, \"rb\") as f:\n",
        "      scaler = pickle.load(f)\n",
        "\n",
        "    # Масштабирование признаков\n",
        "    features = scaler.transform(features)\n",
        "\n",
        "  except Exception as e:\n",
        "    raise ValueError(f\"Ошибка при предобработке: {e}\")\n",
        "\n",
        "  return features\n",
        "\n",
        "def predict_price(*features):\n",
        "  try:\n",
        "    features = preprocess_input(features)\n",
        "\n",
        "    prediction = model.predict(features, verbose=0)\n",
        "\n",
        "    # Проверка на ошибки прогнозирования\n",
        "    if np.isnan(prediction).any():\n",
        "      raise ValueError(\"Ошибка при прогнозировании: NaN\")\n",
        "\n",
        "  except Exception as e:\n",
        "    raise ValueError(f\"Ошибка при прогнозировании: {e}\")\n",
        "\n",
        "  # Возвращение прогнозируемой цены\n",
        "  # (умножение на 1000 для отображения в тысячах долларов)\n",
        "  return prediction[0][0]\n",
        "\n",
        "# Интерфейс Gradio\n",
        "interface = gr.Interface(\n",
        "    fn=predict_price,\n",
        "    inputs=[\n",
        "        gr.Slider(label=\"CRIM\", minimum=0, maximum=100, step=0.1, value=X_train[0][0]),\n",
        "        gr.Slider(label=\"ZN\", minimum=0, maximum=100, step=0.1, value=X_train[0][1]),\n",
        "        gr.Slider(label=\"INDUS\", minimum=0, maximum=100, step=0.1, value=X_train[0][2]),\n",
        "        gr.Slider(label=\"CHAS\", minimum=0, maximum=1, step=1, value=X_train[0][3]),\n",
        "        gr.Slider(label=\"NOX\", minimum=0, maximum=10, step=0.1, value=X_train[0][4]),\n",
        "        gr.Slider(label=\"RM\", minimum=0, maximum=50, step=0.001, value=X_train[0][5]),\n",
        "        gr.Slider(label=\"AGE\", minimum=0, maximum=100, step=0.1, value=X_train[0][6]),\n",
        "        gr.Slider(label=\"DIS\", minimum=0, maximum=1000, step=0.10, value=X_train[0][7]),\n",
        "        gr.Slider(label=\"RAD\", minimum=0, maximum=1000, step=0.10, value=X_train[0][8]),\n",
        "        gr.Slider(label=\"TAX\", minimum=0, maximum=10000, step=1, value=X_train[0][9]),\n",
        "        gr.Slider(label=\"PTRATIO\", minimum=0, maximum=100, step=1, value=X_train[0][10]),\n",
        "        gr.Slider(label=\"B\", minimum=0, maximum=1000, step=0.1, value=X_train[0][11]),\n",
        "        gr.Slider(label=\"LSTAT\", minimum=0, maximum=1000, step=0.1, value=X_train[0][12])\n",
        "    ],\n",
        "    # Обновление при каждом изменении\n",
        "    live=True,\n",
        "    outputs=gr.Text(label=\"Predicted Price ($)\"),\n",
        ")\n",
        "\n",
        "# Запуск интерфейса\n",
        "interface.launch(debug=False, share=True)"
      ],
      "metadata": {
        "id": "hBprX1YaxRXT",
        "colab": {
          "base_uri": "https://localhost:8080/",
          "height": 594
        },
        "outputId": "3ef6bf36-7eac-4f4b-f25c-f66e0c303f2d"
      },
      "execution_count": 16,
      "outputs": [
        {
          "output_type": "stream",
          "name": "stdout",
          "text": [
            "Colab notebook detected. To show errors in colab notebook, set debug=True in launch()\n",
            "Running on public URL: https://84d99b96c7f393956b.gradio.live\n",
            "\n",
            "This share link expires in 72 hours. For free permanent hosting and GPU upgrades, run `gradio deploy` from Terminal to deploy to Spaces (https://huggingface.co/spaces)\n"
          ]
        },
        {
          "output_type": "display_data",
          "data": {
            "text/plain": [
              "<IPython.core.display.HTML object>"
            ],
            "text/html": [
              "<div><iframe src=\"https://84d99b96c7f393956b.gradio.live\" width=\"100%\" height=\"500\" allow=\"autoplay; camera; microphone; clipboard-read; clipboard-write;\" frameborder=\"0\" allowfullscreen></iframe></div>"
            ]
          },
          "metadata": {}
        },
        {
          "output_type": "execute_result",
          "data": {
            "text/plain": []
          },
          "metadata": {},
          "execution_count": 16
        }
      ]
    },
    {
      "cell_type": "markdown",
      "source": [
        "## Задание №2.Обучение модели ИНС для решения задачи классификации\n",
        "\n"
      ],
      "metadata": {
        "id": "DQQMXC8garr3"
      }
    },
    {
      "cell_type": "markdown",
      "source": [
        "Порядок работы:"
      ],
      "metadata": {
        "id": "1OAwSdaG36Ip"
      }
    },
    {
      "cell_type": "markdown",
      "source": [
        "* 1. Собрать датасет из изображений, соответствующих не менее, чем 3 классам объектов (в\n",
        "примере с пары были кошки, собаки и панды).\n"
      ],
      "metadata": {
        "id": "q8COT3YubK-X"
      }
    },
    {
      "cell_type": "markdown",
      "source": [
        "- 2. Для каждого класса должно быть собрано не менее 1000 изображений. Количество\n",
        "изображений для каждого класса должно быть одинаковым.\n",
        "Готовые датасеты можно скачать отсюда: https://www.kaggle.com/\n"
      ],
      "metadata": {
        "id": "YstDH7J2bM5F"
      }
    },
    {
      "cell_type": "markdown",
      "source": [
        "- 3. Обучить модель глубокой нейронной сети для решения задачи классификации\n",
        "изображений, по выбранным Вами классам. (В качестве примера приведён код с пары)\n",
        "В конечном итоге Вы должны сохранить обученную модель для классификации\n",
        "изображений, соответствующих тем классам, которые Вы выбрали, а затем воспользоваться этой моделью для предсказания классов на пользовательских изображениях.\n",
        "\n"
      ],
      "metadata": {
        "id": "9aTvc3A4bN_h"
      }
    },
    {
      "cell_type": "markdown",
      "source": [
        "> При выполнении заданий пробуйте использовать разные функции потерь,\n",
        "методы оптимизации, функции активации и метрики ошибок."
      ],
      "metadata": {
        "id": "yKU34aHabUfp"
      }
    },
    {
      "cell_type": "markdown",
      "source": [
        "### 1. Устанавливаем зависимости:"
      ],
      "metadata": {
        "id": "l8zEG_g8O-Ge"
      }
    },
    {
      "cell_type": "code",
      "execution_count": 32,
      "metadata": {
        "id": "sh6kN7IMO8de"
      },
      "outputs": [],
      "source": [
        "# Импортируем LabelBinarizer для преобразования текстовых меток в векторы\n",
        "# (например, \"кошка\" -> [1, 0, 0], \"собака\" -> [0, 1, 0], \"панда\" -> [0, 0, 1])\n",
        "from sklearn.preprocessing import LabelBinarizer\n",
        "\n",
        "# Импортируем train_test_split для разделения данных на обучающую и тестовую выборки\n",
        "from sklearn.model_selection import train_test_split\n",
        "\n",
        "# Импортируем classification_report для оценки качества классификации\n",
        "from sklearn.metrics import classification_report\n",
        "\n",
        "# Импортируем Sequential для создания последовательной модели нейронной сети\n",
        "from keras.models import Sequential\n",
        "\n",
        "# Импортируем Dense для создания плотных слоев нейронной сети\n",
        "from keras.layers import Dense\n",
        "\n",
        "# Импортируем SGD и Adam для оптимизации обучения нейронной сети\n",
        "from keras.optimizers import SGD, Adam\n",
        "\n",
        "# Импортируем paths из imutils для удобной работы с путями к изображениям\n",
        "from imutils import paths\n",
        "\n",
        "# Импортируем pyplot из matplotlib для визуализации данных\n",
        "import matplotlib.pyplot as plt\n",
        "\n",
        "# Импортируем numpy для работы с массивами данных\n",
        "import numpy as np\n",
        "\n",
        "# Импортируем random для генерации случайных чисел\n",
        "import random\n",
        "\n",
        "# Импортируем pickle для сериализации и десериализации данных\n",
        "import pickle\n",
        "\n",
        "# Импортируем cv2 для работы с изображениями\n",
        "import cv2\n",
        "\n",
        "# Импортируем os для работы с файловой системой\n",
        "import os\n",
        "\n",
        "# Импортируем cv2_imshow из google.colab.patches для отображения изображений в Colab\n",
        "from google.colab.patches import cv2_imshow"
      ]
    },
    {
      "cell_type": "markdown",
      "source": [
        "### 2. Загружаем набор данных:"
      ],
      "metadata": {
        "id": "aJextk3pO8Ko"
      }
    },
    {
      "cell_type": "code",
      "execution_count": 86,
      "metadata": {
        "id": "ZQOhPesK2-J8",
        "colab": {
          "base_uri": "https://localhost:8080/"
        },
        "outputId": "43558349-b220-4f9c-a801-a4962ca22700"
      },
      "outputs": [
        {
          "output_type": "stream",
          "name": "stdout",
          "text": [
            "Requirement already satisfied: wldhx.yadisk-direct in /usr/local/lib/python3.10/dist-packages (0.0.6)\n",
            "Requirement already satisfied: requests in /usr/local/lib/python3.10/dist-packages (from wldhx.yadisk-direct) (2.31.0)\n",
            "Requirement already satisfied: charset-normalizer<4,>=2 in /usr/local/lib/python3.10/dist-packages (from requests->wldhx.yadisk-direct) (3.3.2)\n",
            "Requirement already satisfied: idna<4,>=2.5 in /usr/local/lib/python3.10/dist-packages (from requests->wldhx.yadisk-direct) (3.6)\n",
            "Requirement already satisfied: urllib3<3,>=1.21.1 in /usr/local/lib/python3.10/dist-packages (from requests->wldhx.yadisk-direct) (2.0.7)\n",
            "Requirement already satisfied: certifi>=2017.4.17 in /usr/local/lib/python3.10/dist-packages (from requests->wldhx.yadisk-direct) (2024.2.2)\n",
            "  % Total    % Received % Xferd  Average Speed   Time    Time     Time  Current\n",
            "                                 Dload  Upload   Total   Spent    Left  Speed\n",
            "  0     0    0     0    0     0      0      0 --:--:-- --:--:-- --:--:--     0\n",
            "100 58.2M  100 58.2M    0     0  10.9M      0  0:00:05  0:00:05 --:--:-- 14.6M\n"
          ]
        }
      ],
      "source": [
        "#https://www.kaggle.com/models/google/gemma/frameworks/keras\n",
        "\n",
        "! pip install wldhx.yadisk-direct\n",
        "! curl -L $(yadisk-direct https://disk.yandex.ru/d/H2qeMxdyQE0mgQ) -o raw-img.zip\n",
        "! unzip -o -qq raw-img.zip"
      ]
    },
    {
      "cell_type": "markdown",
      "source": [
        "### 3. Указываем путь к набору данных:"
      ],
      "metadata": {
        "id": "pX1km_kyV2Ka"
      }
    },
    {
      "cell_type": "markdown",
      "source": [],
      "metadata": {
        "id": "L7asOZeJDdSF"
      }
    },
    {
      "cell_type": "code",
      "execution_count": 125,
      "metadata": {
        "id": "hAqtXKu62-bU",
        "colab": {
          "base_uri": "https://localhost:8080/"
        },
        "outputId": "071b8883-acb9-4678-9674-b71961a7ce63"
      },
      "outputs": [
        {
          "output_type": "execute_result",
          "data": {
            "text/plain": [
              "4507"
            ]
          },
          "metadata": {},
          "execution_count": 125
        }
      ],
      "source": [
        "import glob\n",
        "\n",
        "image_paths = []\n",
        "for folder_path in glob.glob('/content/raw-img/*'):\n",
        "    image_paths.extend(glob.glob(folder_path + '/*.jpeg'))\n",
        "\n",
        "random.shuffle(sorted(image_paths))\n",
        "len(image_paths)"
      ]
    },
    {
      "cell_type": "markdown",
      "source": [
        "### 4. Загружаем набор данных и формируем общую выборку:"
      ],
      "metadata": {
        "id": "sAYZPzKSVobq"
      }
    },
    {
      "cell_type": "code",
      "execution_count": 126,
      "metadata": {
        "id": "1dqs5r-92-x7"
      },
      "outputs": [],
      "source": [
        "def load_images(imagePaths, compression_size = 32):\n",
        "\n",
        "  data = []\n",
        "  labels = []\n",
        "\n",
        "  for imagePath in imagePaths:\n",
        "    # Загрузка изображения\n",
        "    image = cv2.imread(imagePath)\n",
        "\n",
        "    # Изменение разрешения изображения (по умолчанию 32х32х3 -> 3072,)\n",
        "    image = cv2.resize(image, (compression_size, compression_size)).flatten()\n",
        "\n",
        "    # Добавление изображения в список\n",
        "    data.append(image)\n",
        "\n",
        "    # Извлечение метки класса из пути к изображению\n",
        "    label = imagePath.split(os.path.sep)[-2]\n",
        "\n",
        "    # Добавление метки в список\n",
        "    labels.append(label)\n",
        "\n",
        "  return data, labels"
      ]
    },
    {
      "cell_type": "code",
      "source": [
        "compression_size = 32\n",
        "data, labels = load_images(image_paths,  32)"
      ],
      "metadata": {
        "id": "sC_ApsH9eFti"
      },
      "execution_count": 127,
      "outputs": []
    },
    {
      "cell_type": "markdown",
      "source": [
        "#### 4.1. Нормализуем данные:"
      ],
      "metadata": {
        "id": "yeiILoUSXn4c"
      }
    },
    {
      "cell_type": "markdown",
      "source": [
        "Масштабируем интенсивности пикселей в диапазон [0, 1], а также преобразуем данные в массивы NumPy для повышения производительности\n"
      ],
      "metadata": {
        "id": "PceSnJBEZDPm"
      }
    },
    {
      "cell_type": "code",
      "execution_count": 128,
      "metadata": {
        "id": "wejqgr9U2_hf"
      },
      "outputs": [],
      "source": [
        "data = np.array(data, dtype=\"float\") / 255.0\n",
        "labels = np.array(labels)"
      ]
    },
    {
      "cell_type": "markdown",
      "source": [
        "#### 4.2. Формируем обучающую и валидационную выборки:"
      ],
      "metadata": {
        "id": "lREm4zIRaSsx"
      }
    },
    {
      "cell_type": "markdown",
      "source": [
        "Разделяем данные на обучающую и валидационную выборки, используя 75% данных для обучения и оставшиеся 25% для валидации"
      ],
      "metadata": {
        "id": "lwTSSQkPa9oI"
      }
    },
    {
      "cell_type": "code",
      "execution_count": 129,
      "metadata": {
        "id": "R23UTovQ3A7R"
      },
      "outputs": [],
      "source": [
        "(X_train, X_val, Y_train, Y_val) = train_test_split(data, labels, test_size=0.25, random_state=42)"
      ]
    },
    {
      "cell_type": "code",
      "source": [
        "lb = LabelBinarizer()\n",
        "Y_train = lb.fit_transform(Y_train)\n",
        "Y_val = lb.transform(Y_val)\n",
        "\n",
        "print(Y_train.shape, Y_val.shape)\n",
        "print(X_train.shape, X_val.shape)"
      ],
      "metadata": {
        "id": "eLaUOXYRfjFc",
        "colab": {
          "base_uri": "https://localhost:8080/"
        },
        "outputId": "ab836e8f-7563-417b-b026-c9734409a74c"
      },
      "execution_count": 130,
      "outputs": [
        {
          "output_type": "stream",
          "name": "stdout",
          "text": [
            "(3380, 3) (1127, 3)\n",
            "(3380, 3072) (1127, 3072)\n"
          ]
        }
      ]
    },
    {
      "cell_type": "markdown",
      "source": [
        "### 5. Создание модели:"
      ],
      "metadata": {
        "id": "Sz33nCuvc3Pk"
      }
    },
    {
      "cell_type": "markdown",
      "source": [
        "#### 5.1. Определим архитектуру модели с помощью Keras:"
      ],
      "metadata": {
        "id": "r2mcOGxEc-uB"
      }
    },
    {
      "cell_type": "markdown",
      "source": [],
      "metadata": {
        "id": "lBvC9Hhcw6N7"
      }
    },
    {
      "cell_type": "code",
      "execution_count": 131,
      "metadata": {
        "id": "nj_bAWxv3B0B"
      },
      "outputs": [],
      "source": [
        "input_shape = (compression_size * compression_size * 3,)"
      ]
    },
    {
      "cell_type": "markdown",
      "source": [
        "#### 5.2. Установим значение параметров скорости обучения и общего числа эпох\n"
      ],
      "metadata": {
        "id": "HHFTdcCkg1Wr"
      }
    },
    {
      "cell_type": "code",
      "execution_count": 132,
      "metadata": {
        "id": "pzlpLmGm3CMU"
      },
      "outputs": [],
      "source": [
        "model = Sequential()\n",
        "model.add(Dense(32396, input_shape=input_shape, activation=\"relu\"))\n",
        "model.add(Dense(1024, activation=\"relu\"))\n",
        "model.add(Dense(len(lb.classes_), activation=\"softmax\"))"
      ]
    },
    {
      "cell_type": "markdown",
      "source": [
        "#### 5.3. Компилируем модель:"
      ],
      "metadata": {
        "id": "YaDdd2wphXLv"
      }
    },
    {
      "cell_type": "code",
      "execution_count": 133,
      "metadata": {
        "id": "3mxDQXSc3Cc5"
      },
      "outputs": [],
      "source": [
        "INIT_LR = 0.000001\n",
        "EPOCHS = 10\n",
        "\n",
        "opt = Adam(learning_rate=INIT_LR)\n",
        "\n",
        "model.compile(loss=\"categorical_crossentropy\", optimizer=opt, metrics=[\"accuracy\"])"
      ]
    },
    {
      "cell_type": "markdown",
      "source": [
        "### 6. Обучение модели искусственной нейронной сети:"
      ],
      "metadata": {
        "id": "EaJdxfw4hwjN"
      }
    },
    {
      "cell_type": "markdown",
      "source": [
        "#### 6.1. Добавим колбэки для сохранения лучшей модели по валидационной точности и остановки обучения, в случае, если модель перестала обучаться:"
      ],
      "metadata": {
        "id": "KAzlK96zi0dy"
      }
    },
    {
      "cell_type": "code",
      "execution_count": 134,
      "metadata": {
        "id": "2d6HT9jU3C3E"
      },
      "outputs": [],
      "source": [
        "from keras.callbacks import EarlyStopping, ModelCheckpoint\n",
        "\n",
        "early_stopping = EarlyStopping(patience=5,\n",
        "                             verbose=1) # Остановка обучения, если\n",
        "                                             # валидационная точность не\n",
        "                                             # улучшается в течение 5 эпох\n",
        "checkpoint = ModelCheckpoint(filepath=\"best_model.h5\",\n",
        "                             monitor=\"val_accuracy\",\n",
        "                             save_best_only=True,\n",
        "                             verbose=1) # Сохранение модели\n",
        "                                         # только при улучшении\n",
        "                                         # валидационной точности\n"
      ]
    },
    {
      "cell_type": "markdown",
      "source": [
        "#### 6.2. Запустим процесс обучения модели:"
      ],
      "metadata": {
        "id": "IgakM035jDPi"
      }
    },
    {
      "cell_type": "code",
      "execution_count": 135,
      "metadata": {
        "id": "YNloZiKH3DMV",
        "colab": {
          "base_uri": "https://localhost:8080/"
        },
        "outputId": "98c77143-f42b-4e71-decd-f2754765d1fe"
      },
      "outputs": [
        {
          "output_type": "stream",
          "name": "stdout",
          "text": [
            "Epoch 1/10\n",
            "34/34 [==============================] - 3s 55ms/step - loss: 1.0751 - accuracy: 0.3976 - val_loss: 1.0516 - val_accuracy: 0.4658\n",
            "Epoch 2/10\n",
            "34/34 [==============================] - 2s 47ms/step - loss: 1.0221 - accuracy: 0.5038 - val_loss: 1.0280 - val_accuracy: 0.4907\n",
            "Epoch 3/10\n",
            "34/34 [==============================] - 2s 47ms/step - loss: 0.9889 - accuracy: 0.5393 - val_loss: 1.0076 - val_accuracy: 0.5084\n",
            "Epoch 4/10\n",
            "34/34 [==============================] - 2s 47ms/step - loss: 0.9640 - accuracy: 0.5642 - val_loss: 0.9934 - val_accuracy: 0.5235\n",
            "Epoch 5/10\n",
            "34/34 [==============================] - 2s 50ms/step - loss: 0.9435 - accuracy: 0.5843 - val_loss: 0.9822 - val_accuracy: 0.5439\n",
            "Epoch 6/10\n",
            "34/34 [==============================] - 2s 55ms/step - loss: 0.9235 - accuracy: 0.5997 - val_loss: 0.9794 - val_accuracy: 0.5350\n",
            "Epoch 7/10\n",
            "34/34 [==============================] - 2s 47ms/step - loss: 0.9081 - accuracy: 0.6068 - val_loss: 0.9650 - val_accuracy: 0.5537\n",
            "Epoch 8/10\n",
            "34/34 [==============================] - 2s 47ms/step - loss: 0.8954 - accuracy: 0.6118 - val_loss: 0.9608 - val_accuracy: 0.5528\n",
            "Epoch 9/10\n",
            "34/34 [==============================] - 2s 47ms/step - loss: 0.8806 - accuracy: 0.6243 - val_loss: 0.9547 - val_accuracy: 0.5555\n",
            "Epoch 10/10\n",
            "34/34 [==============================] - 2s 48ms/step - loss: 0.8715 - accuracy: 0.6317 - val_loss: 0.9394 - val_accuracy: 0.5528\n"
          ]
        }
      ],
      "source": [
        "H = model.fit(X_train, Y_train,\n",
        "              validation_data=(X_val, Y_val),\n",
        "              epochs=EPOCHS,\n",
        "              batch_size=100,\n",
        "              # callbacks=[early_stopping, checkpoint]\n",
        "              )"
      ]
    },
    {
      "cell_type": "markdown",
      "source": [
        "#### 6.3. Загружаем лучшую модель:"
      ],
      "metadata": {
        "id": "-dESH383noKz"
      }
    },
    {
      "cell_type": "code",
      "execution_count": 136,
      "metadata": {
        "id": "_ZOMBkJk3Dgk",
        "colab": {
          "base_uri": "https://localhost:8080/",
          "height": 335
        },
        "outputId": "abf20402-1b8f-4b3d-b07b-17b2d997a612"
      },
      "outputs": [
        {
          "output_type": "error",
          "ename": "OSError",
          "evalue": "No file or directory found at /content/best_model.h5",
          "traceback": [
            "\u001b[0;31m---------------------------------------------------------------------------\u001b[0m",
            "\u001b[0;31mOSError\u001b[0m                                   Traceback (most recent call last)",
            "\u001b[0;32m<ipython-input-136-7c1065163716>\u001b[0m in \u001b[0;36m<cell line: 3>\u001b[0;34m()\u001b[0m\n\u001b[1;32m      1\u001b[0m \u001b[0;32mfrom\u001b[0m \u001b[0mkeras\u001b[0m\u001b[0;34m.\u001b[0m\u001b[0mmodels\u001b[0m \u001b[0;32mimport\u001b[0m \u001b[0mload_model\u001b[0m\u001b[0;34m\u001b[0m\u001b[0;34m\u001b[0m\u001b[0m\n\u001b[1;32m      2\u001b[0m \u001b[0;34m\u001b[0m\u001b[0m\n\u001b[0;32m----> 3\u001b[0;31m \u001b[0mmodel\u001b[0m \u001b[0;34m=\u001b[0m \u001b[0mload_model\u001b[0m\u001b[0;34m(\u001b[0m\u001b[0;34m\"/content/best_model.h5\"\u001b[0m\u001b[0;34m)\u001b[0m\u001b[0;34m\u001b[0m\u001b[0;34m\u001b[0m\u001b[0m\n\u001b[0m",
            "\u001b[0;32m/usr/local/lib/python3.10/dist-packages/keras/src/saving/saving_api.py\u001b[0m in \u001b[0;36mload_model\u001b[0;34m(filepath, custom_objects, compile, safe_mode, **kwargs)\u001b[0m\n\u001b[1;32m    260\u001b[0m \u001b[0;34m\u001b[0m\u001b[0m\n\u001b[1;32m    261\u001b[0m     \u001b[0;31m# Legacy case.\u001b[0m\u001b[0;34m\u001b[0m\u001b[0;34m\u001b[0m\u001b[0m\n\u001b[0;32m--> 262\u001b[0;31m     return legacy_sm_saving_lib.load_model(\n\u001b[0m\u001b[1;32m    263\u001b[0m         \u001b[0mfilepath\u001b[0m\u001b[0;34m,\u001b[0m \u001b[0mcustom_objects\u001b[0m\u001b[0;34m=\u001b[0m\u001b[0mcustom_objects\u001b[0m\u001b[0;34m,\u001b[0m \u001b[0mcompile\u001b[0m\u001b[0;34m=\u001b[0m\u001b[0mcompile\u001b[0m\u001b[0;34m,\u001b[0m \u001b[0;34m**\u001b[0m\u001b[0mkwargs\u001b[0m\u001b[0;34m\u001b[0m\u001b[0;34m\u001b[0m\u001b[0m\n\u001b[1;32m    264\u001b[0m     )\n",
            "\u001b[0;32m/usr/local/lib/python3.10/dist-packages/keras/src/utils/traceback_utils.py\u001b[0m in \u001b[0;36merror_handler\u001b[0;34m(*args, **kwargs)\u001b[0m\n\u001b[1;32m     68\u001b[0m             \u001b[0;31m# To get the full stack trace, call:\u001b[0m\u001b[0;34m\u001b[0m\u001b[0;34m\u001b[0m\u001b[0m\n\u001b[1;32m     69\u001b[0m             \u001b[0;31m# `tf.debugging.disable_traceback_filtering()`\u001b[0m\u001b[0;34m\u001b[0m\u001b[0;34m\u001b[0m\u001b[0m\n\u001b[0;32m---> 70\u001b[0;31m             \u001b[0;32mraise\u001b[0m \u001b[0me\u001b[0m\u001b[0;34m.\u001b[0m\u001b[0mwith_traceback\u001b[0m\u001b[0;34m(\u001b[0m\u001b[0mfiltered_tb\u001b[0m\u001b[0;34m)\u001b[0m \u001b[0;32mfrom\u001b[0m \u001b[0;32mNone\u001b[0m\u001b[0;34m\u001b[0m\u001b[0;34m\u001b[0m\u001b[0m\n\u001b[0m\u001b[1;32m     71\u001b[0m         \u001b[0;32mfinally\u001b[0m\u001b[0;34m:\u001b[0m\u001b[0;34m\u001b[0m\u001b[0;34m\u001b[0m\u001b[0m\n\u001b[1;32m     72\u001b[0m             \u001b[0;32mdel\u001b[0m \u001b[0mfiltered_tb\u001b[0m\u001b[0;34m\u001b[0m\u001b[0;34m\u001b[0m\u001b[0m\n",
            "\u001b[0;32m/usr/local/lib/python3.10/dist-packages/keras/src/saving/legacy/save.py\u001b[0m in \u001b[0;36mload_model\u001b[0;34m(filepath, custom_objects, compile, options)\u001b[0m\n\u001b[1;32m    232\u001b[0m                     \u001b[0;32mif\u001b[0m \u001b[0misinstance\u001b[0m\u001b[0;34m(\u001b[0m\u001b[0mfilepath_str\u001b[0m\u001b[0;34m,\u001b[0m \u001b[0mstr\u001b[0m\u001b[0;34m)\u001b[0m\u001b[0;34m:\u001b[0m\u001b[0;34m\u001b[0m\u001b[0;34m\u001b[0m\u001b[0m\n\u001b[1;32m    233\u001b[0m                         \u001b[0;32mif\u001b[0m \u001b[0;32mnot\u001b[0m \u001b[0mtf\u001b[0m\u001b[0;34m.\u001b[0m\u001b[0mio\u001b[0m\u001b[0;34m.\u001b[0m\u001b[0mgfile\u001b[0m\u001b[0;34m.\u001b[0m\u001b[0mexists\u001b[0m\u001b[0;34m(\u001b[0m\u001b[0mfilepath_str\u001b[0m\u001b[0;34m)\u001b[0m\u001b[0;34m:\u001b[0m\u001b[0;34m\u001b[0m\u001b[0;34m\u001b[0m\u001b[0m\n\u001b[0;32m--> 234\u001b[0;31m                             raise IOError(\n\u001b[0m\u001b[1;32m    235\u001b[0m                                 \u001b[0;34mf\"No file or directory found at {filepath_str}\"\u001b[0m\u001b[0;34m\u001b[0m\u001b[0;34m\u001b[0m\u001b[0m\n\u001b[1;32m    236\u001b[0m                             )\n",
            "\u001b[0;31mOSError\u001b[0m: No file or directory found at /content/best_model.h5"
          ]
        }
      ],
      "source": [
        "from keras.models import load_model\n",
        "\n",
        "model = load_model(\"/content/best_model.h5\")"
      ]
    },
    {
      "cell_type": "markdown",
      "source": [
        "### 7. Оценка точности:"
      ],
      "metadata": {
        "id": "CLv-TknOoQ8l"
      }
    },
    {
      "cell_type": "markdown",
      "source": [
        "#### 7.1. Выведем отчет классификации"
      ],
      "metadata": {
        "id": "J16c8i49o2Kq"
      }
    },
    {
      "cell_type": "code",
      "execution_count": 137,
      "metadata": {
        "id": "cqmQz4mO3D5s",
        "colab": {
          "base_uri": "https://localhost:8080/"
        },
        "outputId": "0b833750-5626-4594-c5ab-c9eb182c169d"
      },
      "outputs": [
        {
          "output_type": "stream",
          "name": "stdout",
          "text": [
            "36/36 [==============================] - 0s 9ms/step\n",
            "              precision    recall  f1-score   support\n",
            "\n",
            "        cane       0.58      0.61      0.60       347\n",
            "     cavallo       0.54      0.51      0.52       402\n",
            "       mucca       0.54      0.54      0.54       378\n",
            "\n",
            "    accuracy                           0.55      1127\n",
            "   macro avg       0.55      0.56      0.55      1127\n",
            "weighted avg       0.55      0.55      0.55      1127\n",
            "\n"
          ]
        }
      ],
      "source": [
        "predictions = model.predict(X_val, batch_size=32)\n",
        "print(classification_report(Y_val.argmax(axis=1),\n",
        "\tpredictions.argmax(axis=1), target_names=lb.classes_))"
      ]
    },
    {
      "cell_type": "markdown",
      "source": [
        "#### 7.2. Выведем матрицу ошибок"
      ],
      "metadata": {
        "id": "YwbFnynjpKYS"
      }
    },
    {
      "cell_type": "code",
      "execution_count": 138,
      "metadata": {
        "id": "77_vkdSk3EOd",
        "colab": {
          "base_uri": "https://localhost:8080/",
          "height": 448
        },
        "outputId": "51164a60-43fa-4c00-f320-a031b084906e"
      },
      "outputs": [
        {
          "output_type": "stream",
          "name": "stdout",
          "text": [
            "36/36 [==============================] - 0s 10ms/step\n"
          ]
        },
        {
          "output_type": "display_data",
          "data": {
            "text/plain": [
              "<Figure size 640x480 with 2 Axes>"
            ],
            "image/png": "[encoded data removed]"
          },
          "metadata": {}
        }
      ],
      "source": [
        "from sklearn.metrics import confusion_matrix\n",
        "import seaborn as sns\n",
        "\n",
        "# Получим прогнозы по валидационным даннным\n",
        "Y_pred = model.predict(X_val, batch_size=32)\n",
        "\n",
        "# Преобразуем вероятности в метки классов\n",
        "Y_pred = Y_pred.argmax(axis=1)\n",
        "Y_val = Y_val.argmax(axis=1)\n",
        "\n",
        "# Вычисляем матрицу ошибок\n",
        "conf_mat = confusion_matrix(Y_val, Y_pred)\n",
        "\n",
        "# Визуализируем матрицу ошибок\n",
        "sns.heatmap(conf_mat, annot=True, fmt=\"d\", cmap=\"YlGnBu\")\n",
        "plt.show()"
      ]
    },
    {
      "cell_type": "markdown",
      "source": [
        "#### 7.3. Отобразим график обучения"
      ],
      "metadata": {
        "id": "oqoaYCciugwi"
      }
    },
    {
      "cell_type": "code",
      "execution_count": 139,
      "metadata": {
        "id": "ALa4XomM3EmL",
        "colab": {
          "base_uri": "https://localhost:8080/",
          "height": 477
        },
        "outputId": "59f82e5b-0474-4538-90c5-3d8a77be35c6"
      },
      "outputs": [
        {
          "output_type": "display_data",
          "data": {
            "text/plain": [
              "<Figure size 640x480 with 1 Axes>"
            ],
            "image/png": "[encoded data removed]"
          },
          "metadata": {}
        }
      ],
      "source": [
        "N = np.arange(0, 10)\n",
        "plt.style.use(\"ggplot\")\n",
        "plt.figure()\n",
        "plt.plot(N, H.history[\"loss\"], label=\"train_loss\")\n",
        "plt.plot(N, H.history[\"val_loss\"], label=\"val_loss\")\n",
        "plt.plot(N, H.history[\"accuracy\"], label=\"train_acc\")\n",
        "plt.plot(N, H.history[\"val_accuracy\"], label=\"val_acc\")\n",
        "plt.title(\"Training Loss and Accuracy (Simple NN)\")\n",
        "plt.xlabel(\"Epoch #\")\n",
        "plt.ylabel(\"Loss/Accuracy\")\n",
        "plt.legend()\n",
        "plt.savefig('plot.png')"
      ]
    },
    {
      "cell_type": "markdown",
      "source": [
        "### 8. Сохранение модели и меток классов:"
      ],
      "metadata": {
        "id": "RZfpw-xQu3Q8"
      }
    },
    {
      "cell_type": "code",
      "execution_count": 140,
      "metadata": {
        "id": "mGlt9K8N3E7D"
      },
      "outputs": [],
      "source": [
        "def save_model_and_labels(model, lb, model_path = \"model.h5\", labels_path = \"label_bin\"):\n",
        "\n",
        "    # Сохранение модели\n",
        "    model.save(model_path, save_format=\"h5\")\n",
        "\n",
        "    # Сохранение меток\n",
        "    with open(labels_path, \"wb\") as f:\n",
        "        f.write(pickle.dumps(lb))"
      ]
    },
    {
      "cell_type": "code",
      "source": [
        "model_path = \"model.h5\"\n",
        "labels_path = \"label_bin\"\n",
        "\n",
        "save_model_and_labels(model, lb, model_path, labels_path)"
      ],
      "metadata": {
        "colab": {
          "base_uri": "https://localhost:8080/"
        },
        "id": "2tlrdKo4riRF",
        "outputId": "58497431-33c3-40a9-c3bc-3d6ed39e3a7d"
      },
      "execution_count": 141,
      "outputs": [
        {
          "output_type": "stream",
          "name": "stderr",
          "text": [
            "/usr/local/lib/python3.10/dist-packages/keras/src/engine/training.py:3103: UserWarning: You are saving your model as an HDF5 file via `model.save()`. This file format is considered legacy. We recommend using instead the native Keras format, e.g. `model.save('my_model.keras')`.\n",
            "  saving_api.save_model(\n"
          ]
        }
      ]
    },
    {
      "cell_type": "markdown",
      "metadata": {
        "id": "YjyCuhw1aeti"
      },
      "source": [
        "### 9. Проверка обученной модели пользовательскими данными:"
      ]
    },
    {
      "cell_type": "markdown",
      "source": [
        "#### 9.1. Импортируем необходимые библиотеки"
      ],
      "metadata": {
        "id": "yfUIW800wuyu"
      }
    },
    {
      "cell_type": "code",
      "execution_count": 142,
      "metadata": {
        "id": "wk1qihbS3FR1",
        "colab": {
          "base_uri": "https://localhost:8080/"
        },
        "outputId": "b8ee326c-ea00-45a6-f48e-cacf93b0dc63"
      },
      "outputs": [
        {
          "output_type": "stream",
          "name": "stdout",
          "text": [
            "Requirement already satisfied: gradio in /usr/local/lib/python3.10/dist-packages (4.21.0)\n",
            "Requirement already satisfied: aiofiles<24.0,>=22.0 in /usr/local/lib/python3.10/dist-packages (from gradio) (23.2.1)\n",
            "Requirement already satisfied: altair<6.0,>=4.2.0 in /usr/local/lib/python3.10/dist-packages (from gradio) (4.2.2)\n",
            "Requirement already satisfied: fastapi in /usr/local/lib/python3.10/dist-packages (from gradio) (0.110.0)\n",
            "Requirement already satisfied: ffmpy in /usr/local/lib/python3.10/dist-packages (from gradio) (0.3.2)\n",
            "Requirement already satisfied: gradio-client==0.12.0 in /usr/local/lib/python3.10/dist-packages (from gradio) (0.12.0)\n",
            "Requirement already satisfied: httpx>=0.24.1 in /usr/local/lib/python3.10/dist-packages (from gradio) (0.27.0)\n",
            "Requirement already satisfied: huggingface-hub>=0.19.3 in /usr/local/lib/python3.10/dist-packages (from gradio) (0.20.3)\n",
            "Requirement already satisfied: importlib-resources<7.0,>=1.3 in /usr/local/lib/python3.10/dist-packages (from gradio) (6.1.3)\n",
            "Requirement already satisfied: jinja2<4.0 in /usr/local/lib/python3.10/dist-packages (from gradio) (3.1.3)\n",
            "Requirement already satisfied: markupsafe~=2.0 in /usr/local/lib/python3.10/dist-packages (from gradio) (2.1.5)\n",
            "Requirement already satisfied: matplotlib~=3.0 in /usr/local/lib/python3.10/dist-packages (from gradio) (3.7.1)\n",
            "Requirement already satisfied: numpy~=1.0 in /usr/local/lib/python3.10/dist-packages (from gradio) (1.25.2)\n",
            "Requirement already satisfied: orjson~=3.0 in /usr/local/lib/python3.10/dist-packages (from gradio) (3.9.15)\n",
            "Requirement already satisfied: packaging in /usr/local/lib/python3.10/dist-packages (from gradio) (23.2)\n",
            "Requirement already satisfied: pandas<3.0,>=1.0 in /usr/local/lib/python3.10/dist-packages (from gradio) (1.5.3)\n",
            "Requirement already satisfied: pillow<11.0,>=8.0 in /usr/local/lib/python3.10/dist-packages (from gradio) (9.4.0)\n",
            "Requirement already satisfied: pydantic>=2.0 in /usr/local/lib/python3.10/dist-packages (from gradio) (2.6.3)\n",
            "Requirement already satisfied: pydub in /usr/local/lib/python3.10/dist-packages (from gradio) (0.25.1)\n",
            "Requirement already satisfied: python-multipart>=0.0.9 in /usr/local/lib/python3.10/dist-packages (from gradio) (0.0.9)\n",
            "Requirement already satisfied: pyyaml<7.0,>=5.0 in /usr/local/lib/python3.10/dist-packages (from gradio) (6.0.1)\n",
            "Requirement already satisfied: ruff>=0.2.2 in /usr/local/lib/python3.10/dist-packages (from gradio) (0.3.2)\n",
            "Requirement already satisfied: semantic-version~=2.0 in /usr/local/lib/python3.10/dist-packages (from gradio) (2.10.0)\n",
            "Requirement already satisfied: tomlkit==0.12.0 in /usr/local/lib/python3.10/dist-packages (from gradio) (0.12.0)\n",
            "Requirement already satisfied: typer[all]<1.0,>=0.9 in /usr/local/lib/python3.10/dist-packages (from gradio) (0.9.0)\n",
            "Requirement already satisfied: typing-extensions~=4.0 in /usr/local/lib/python3.10/dist-packages (from gradio) (4.10.0)\n",
            "Requirement already satisfied: uvicorn>=0.14.0 in /usr/local/lib/python3.10/dist-packages (from gradio) (0.28.0)\n",
            "Requirement already satisfied: fsspec in /usr/local/lib/python3.10/dist-packages (from gradio-client==0.12.0->gradio) (2023.6.0)\n",
            "Requirement already satisfied: websockets<12.0,>=10.0 in /usr/local/lib/python3.10/dist-packages (from gradio-client==0.12.0->gradio) (11.0.3)\n",
            "Requirement already satisfied: entrypoints in /usr/local/lib/python3.10/dist-packages (from altair<6.0,>=4.2.0->gradio) (0.4)\n",
            "Requirement already satisfied: jsonschema>=3.0 in /usr/local/lib/python3.10/dist-packages (from altair<6.0,>=4.2.0->gradio) (4.19.2)\n",
            "Requirement already satisfied: toolz in /usr/local/lib/python3.10/dist-packages (from altair<6.0,>=4.2.0->gradio) (0.12.1)\n",
            "Requirement already satisfied: anyio in /usr/local/lib/python3.10/dist-packages (from httpx>=0.24.1->gradio) (3.7.1)\n",
            "Requirement already satisfied: certifi in /usr/local/lib/python3.10/dist-packages (from httpx>=0.24.1->gradio) (2024.2.2)\n",
            "Requirement already satisfied: httpcore==1.* in /usr/local/lib/python3.10/dist-packages (from httpx>=0.24.1->gradio) (1.0.4)\n",
            "Requirement already satisfied: idna in /usr/local/lib/python3.10/dist-packages (from httpx>=0.24.1->gradio) (3.6)\n",
            "Requirement already satisfied: sniffio in /usr/local/lib/python3.10/dist-packages (from httpx>=0.24.1->gradio) (1.3.1)\n",
            "Requirement already satisfied: h11<0.15,>=0.13 in /usr/local/lib/python3.10/dist-packages (from httpcore==1.*->httpx>=0.24.1->gradio) (0.14.0)\n",
            "Requirement already satisfied: filelock in /usr/local/lib/python3.10/dist-packages (from huggingface-hub>=0.19.3->gradio) (3.13.1)\n",
            "Requirement already satisfied: requests in /usr/local/lib/python3.10/dist-packages (from huggingface-hub>=0.19.3->gradio) (2.31.0)\n",
            "Requirement already satisfied: tqdm>=4.42.1 in /usr/local/lib/python3.10/dist-packages (from huggingface-hub>=0.19.3->gradio) (4.66.2)\n",
            "Requirement already satisfied: contourpy>=1.0.1 in /usr/local/lib/python3.10/dist-packages (from matplotlib~=3.0->gradio) (1.2.0)\n",
            "Requirement already satisfied: cycler>=0.10 in /usr/local/lib/python3.10/dist-packages (from matplotlib~=3.0->gradio) (0.12.1)\n",
            "Requirement already satisfied: fonttools>=4.22.0 in /usr/local/lib/python3.10/dist-packages (from matplotlib~=3.0->gradio) (4.49.0)\n",
            "Requirement already satisfied: kiwisolver>=1.0.1 in /usr/local/lib/python3.10/dist-packages (from matplotlib~=3.0->gradio) (1.4.5)\n",
            "Requirement already satisfied: pyparsing>=2.3.1 in /usr/local/lib/python3.10/dist-packages (from matplotlib~=3.0->gradio) (3.1.2)\n",
            "Requirement already satisfied: python-dateutil>=2.7 in /usr/local/lib/python3.10/dist-packages (from matplotlib~=3.0->gradio) (2.8.2)\n",
            "Requirement already satisfied: pytz>=2020.1 in /usr/local/lib/python3.10/dist-packages (from pandas<3.0,>=1.0->gradio) (2023.4)\n",
            "Requirement already satisfied: annotated-types>=0.4.0 in /usr/local/lib/python3.10/dist-packages (from pydantic>=2.0->gradio) (0.6.0)\n",
            "Requirement already satisfied: pydantic-core==2.16.3 in /usr/local/lib/python3.10/dist-packages (from pydantic>=2.0->gradio) (2.16.3)\n",
            "Requirement already satisfied: click<9.0.0,>=7.1.1 in /usr/local/lib/python3.10/dist-packages (from typer[all]<1.0,>=0.9->gradio) (8.1.7)\n",
            "Requirement already satisfied: colorama<0.5.0,>=0.4.3 in /usr/local/lib/python3.10/dist-packages (from typer[all]<1.0,>=0.9->gradio) (0.4.6)\n",
            "Requirement already satisfied: shellingham<2.0.0,>=1.3.0 in /usr/local/lib/python3.10/dist-packages (from typer[all]<1.0,>=0.9->gradio) (1.5.4)\n",
            "Requirement already satisfied: rich<14.0.0,>=10.11.0 in /usr/local/lib/python3.10/dist-packages (from typer[all]<1.0,>=0.9->gradio) (13.7.1)\n",
            "Requirement already satisfied: starlette<0.37.0,>=0.36.3 in /usr/local/lib/python3.10/dist-packages (from fastapi->gradio) (0.36.3)\n",
            "Requirement already satisfied: attrs>=22.2.0 in /usr/local/lib/python3.10/dist-packages (from jsonschema>=3.0->altair<6.0,>=4.2.0->gradio) (23.2.0)\n",
            "Requirement already satisfied: jsonschema-specifications>=2023.03.6 in /usr/local/lib/python3.10/dist-packages (from jsonschema>=3.0->altair<6.0,>=4.2.0->gradio) (2023.12.1)\n",
            "Requirement already satisfied: referencing>=0.28.4 in /usr/local/lib/python3.10/dist-packages (from jsonschema>=3.0->altair<6.0,>=4.2.0->gradio) (0.33.0)\n",
            "Requirement already satisfied: rpds-py>=0.7.1 in /usr/local/lib/python3.10/dist-packages (from jsonschema>=3.0->altair<6.0,>=4.2.0->gradio) (0.18.0)\n",
            "Requirement already satisfied: six>=1.5 in /usr/local/lib/python3.10/dist-packages (from python-dateutil>=2.7->matplotlib~=3.0->gradio) (1.16.0)\n",
            "Requirement already satisfied: markdown-it-py>=2.2.0 in /usr/local/lib/python3.10/dist-packages (from rich<14.0.0,>=10.11.0->typer[all]<1.0,>=0.9->gradio) (3.0.0)\n",
            "Requirement already satisfied: pygments<3.0.0,>=2.13.0 in /usr/local/lib/python3.10/dist-packages (from rich<14.0.0,>=10.11.0->typer[all]<1.0,>=0.9->gradio) (2.16.1)\n",
            "Requirement already satisfied: exceptiongroup in /usr/local/lib/python3.10/dist-packages (from anyio->httpx>=0.24.1->gradio) (1.2.0)\n",
            "Requirement already satisfied: charset-normalizer<4,>=2 in /usr/local/lib/python3.10/dist-packages (from requests->huggingface-hub>=0.19.3->gradio) (3.3.2)\n",
            "Requirement already satisfied: urllib3<3,>=1.21.1 in /usr/local/lib/python3.10/dist-packages (from requests->huggingface-hub>=0.19.3->gradio) (2.0.7)\n",
            "Requirement already satisfied: mdurl~=0.1 in /usr/local/lib/python3.10/dist-packages (from markdown-it-py>=2.2.0->rich<14.0.0,>=10.11.0->typer[all]<1.0,>=0.9->gradio) (0.1.2)\n"
          ]
        }
      ],
      "source": [
        "!pip install gradio"
      ]
    },
    {
      "cell_type": "code",
      "source": [
        "from keras.models import load_model\n",
        "import gradio as gr  # Библиотека для создания веб-интерфейсов\n",
        "import pickle\n",
        "import cv2"
      ],
      "metadata": {
        "id": "IdqAgSoOrlod"
      },
      "execution_count": 143,
      "outputs": []
    },
    {
      "cell_type": "markdown",
      "source": [
        "#### 9.2. Реализуем функцию для предобработки входных данных в той же последовательности, что и при формировании обучающей выборки:"
      ],
      "metadata": {
        "id": "PM2dadCBwzES"
      }
    },
    {
      "cell_type": "code",
      "execution_count": 144,
      "metadata": {
        "id": "P4KLc85A3FkU"
      },
      "outputs": [],
      "source": [
        "def preprocess_image(img, compression_size = 32):\n",
        "\n",
        "    \"\"\"\n",
        "    Функция для изменения размера, \"выравнивания\" и масштабирования изображения.\n",
        "\n",
        "    Args:\n",
        "    img: Изображение.\n",
        "\n",
        "    Returns:\n",
        "    Предобработанное изображение.\n",
        "    \"\"\"\n",
        "\n",
        "    image = img.copy()  # Создаем копию изображения\n",
        "    # Изменяем размер изображения до compression_size x compression_size пикселей\n",
        "    image = cv2.resize(image, (compression_size, compression_size))\n",
        "    # Преобразуем изображение в одномерный массив (вектор)\n",
        "    image = image.flatten()\n",
        "    # Масштабируем значения пикселей к диапазону [0, 1]\n",
        "    image = image.astype(\"float\") / 255.0\n",
        "    # Преобразуем массив в формат, совместимый с нашей моделью Keras\n",
        "    image = image.reshape((1, image.shape[0]))\n",
        "\n",
        "    return image"
      ]
    },
    {
      "cell_type": "markdown",
      "source": [
        "#### 9.3. Определим функцию для осуществления прогноза по загруженной модели:"
      ],
      "metadata": {
        "id": "UXPI1dAIxvPz"
      }
    },
    {
      "cell_type": "code",
      "execution_count": 145,
      "metadata": {
        "id": "LO4Ty_t0anmv"
      },
      "outputs": [],
      "source": [
        "def predict_image(img, preprocess_func = preprocess_image, model_path = \"model.h5\", label_path = \"label_bin\"):\n",
        "\n",
        "    \"\"\"\n",
        "    Функция для выполнения предсказания класса, возвращает\n",
        "    словарь с вероятностями для каждого класса.\n",
        "\n",
        "    Args:\n",
        "    img: Изображение.\n",
        "    preprocess_funk: Функция для предобработки изображения.\n",
        "    model_path: Путь к файлу модели.\n",
        "    label_path: Путь к файлу с метками.\n",
        "\n",
        "    Returns:\n",
        "    Словарь с метками и вероятностями для каждого класса.\n",
        "    \"\"\"\n",
        "\n",
        "    # Загружаем модель и метки\n",
        "    model = load_model(model_path)  # Загрузка модели Keras\n",
        "    lb = pickle.loads(open(label_path, \"rb\").read())  # Загрузка словаря с метками\n",
        "\n",
        "    # Делаем предсказание на изображении\n",
        "    image = preprocess_func(img.copy())  # Предобработка изображения\n",
        "    preds = model.predict(image).flatten()  # Выполнение предсказания\n",
        "\n",
        "    # Возвращаем словарь с метками и вероятностями для каждого класса\n",
        "    confidences = {lb.classes_[i]: float(preds[i]) for i in range(len(preds))}\n",
        "\n",
        "    return confidences"
      ]
    },
    {
      "cell_type": "markdown",
      "source": [
        "### 10. Визуализируем интерфейс и произведем классификацию:"
      ],
      "metadata": {
        "id": "acXaOZ_z3dDq"
      }
    },
    {
      "cell_type": "code",
      "execution_count": null,
      "metadata": {
        "id": "5wW8xYEB3dDr",
        "colab": {
          "base_uri": "https://localhost:8080/",
          "height": 685
        },
        "outputId": "97868dd8-90c9-438a-b95a-8417843a76f7"
      },
      "outputs": [
        {
          "output_type": "stream",
          "name": "stdout",
          "text": [
            "Colab notebook detected. This cell will run indefinitely so that you can see errors and logs. To turn off, set debug=False in launch().\n",
            "Running on public URL: https://771a2c4febaab723ec.gradio.live\n",
            "\n",
            "This share link expires in 72 hours. For free permanent hosting and GPU upgrades, run `gradio deploy` from Terminal to deploy to Spaces (https://huggingface.co/spaces)\n"
          ]
        },
        {
          "output_type": "display_data",
          "data": {
            "text/plain": [
              "<IPython.core.display.HTML object>"
            ],
            "text/html": [
              "<div><iframe src=\"https://771a2c4febaab723ec.gradio.live\" width=\"100%\" height=\"500\" allow=\"autoplay; camera; microphone; clipboard-read; clipboard-write;\" frameborder=\"0\" allowfullscreen></iframe></div>"
            ]
          },
          "metadata": {}
        },
        {
          "output_type": "stream",
          "name": "stdout",
          "text": [
            "1/1 [==============================] - 0s 156ms/step\n",
            "1/1 [==============================] - 0s 50ms/step\n",
            "1/1 [==============================] - 0s 52ms/step\n",
            "1/1 [==============================] - 0s 56ms/step\n",
            "1/1 [==============================] - 0s 49ms/step\n"
          ]
        }
      ],
      "source": [
        "interface = gr.Interface(\n",
        "    fn=predict_image,  # Функция, которая будет вызываться при загрузке изображения\n",
        "    inputs=gr.Image(label=\"Загрузите изображение\"),  # Входные данные: изображение\n",
        "    outputs= gr.Label(num_top_classes=len(lb.classes_)), # Выходные данные: топ-N классов с наибольшей вероятностью\n",
        "    examples=[\"https://terra.vet/wp-content/uploads/55-11.jpg\",\n",
        "              \"https://avatars.dzeninfra.ru/get-zen_doc/5130440/pub_60e31e172f1be51987b57040_60e31eb045d24303ec0c513b/scale_1200\",\n",
        "              \"https://s0.rbk.ru/v6_top_pics/media/img/2/89/347019461947892.webp\",\n",
        "              \"https://rg.ru/uploads/images/2023/08/30/2p_new_sboku_enot_1000_9fd.jpg\"\n",
        "              ])\n",
        "\n",
        "# Запускаем интерфейс\n",
        "interface.launch(debug=True, share=True)"
      ]
    }
  ]
}