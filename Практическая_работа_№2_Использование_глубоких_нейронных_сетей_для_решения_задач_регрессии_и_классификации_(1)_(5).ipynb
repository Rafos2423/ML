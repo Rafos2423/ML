{
  "nbformat": 4,
  "nbformat_minor": 0,
  "metadata": {
    "colab": {
      "provenance": [],
      "gpuType": "T4"
    },
    "kernelspec": {
      "name": "python3",
      "display_name": "Python 3"
    },
    "language_info": {
      "name": "python"
    },
    "accelerator": "GPU"
  },
  "cells": [
    {
      "cell_type": "markdown",
      "source": [
        "# Практическая работа №2. Использование глубоких нейронных сетей для решения задач регрессии и классификации\n",
        "\n"
      ],
      "metadata": {
        "id": "jVOridAYaoD_"
      }
    },
    {
      "cell_type": "markdown",
      "source": [
        "**Ссылка на код с пары:**\n",
        "https://colab.research.google.com/drive/18EM8mrpURStkmbxWjZybWbWh23Si5b4A?usp=sharing\n"
      ],
      "metadata": {
        "id": "xfLS4L8wbf5M"
      }
    },
    {
      "cell_type": "markdown",
      "source": [
        "## Задание №1. Обучение модели ИНС для решения задачи регрессии\n",
        "\n"
      ],
      "metadata": {
        "id": "ChzaEMuFavMw"
      }
    },
    {
      "cell_type": "markdown",
      "source": [
        "Постройте глубокую нейронную сеть для предсказания цен на недвижимость в городе Бостон, используя датасет датасет boston_housing_price"
      ],
      "metadata": {
        "id": "_AW7ypoN3qSi"
      }
    },
    {
      "cell_type": "markdown",
      "source": [
        "[Описание датасета](https://www.hackersrealm.net/post/boston-house-price-prediction-analysis-using-python)"
      ],
      "metadata": {
        "id": "O1PDCog53nrg"
      }
    },
    {
      "cell_type": "markdown",
      "source": [
        "#### 1.1. Загружаем исходные данные:"
      ],
      "metadata": {
        "id": "QWLURy8z0u3k"
      }
    },
    {
      "cell_type": "code",
      "source": [
        "import pandas as pd\n",
        "import numpy as np\n",
        "\n",
        "from sklearn.model_selection import train_test_split\n",
        "\n",
        "data_url = \"http://lib.stat.cmu.edu/datasets/boston\"\n",
        "raw_df = pd.read_csv(data_url, sep=\"\\s+\", skiprows=22, header=None)\n",
        "data = np.hstack([raw_df.values[::2, :], raw_df.values[1::2, :2]])\n",
        "target = raw_df.values[1::2, 2]\n",
        "\n",
        "X_train, X_test, y_train, y_test = train_test_split(data, target, test_size=0.25, random_state=0)\n",
        "print(X_train[0], y_train[0])"
      ],
      "metadata": {
        "id": "vGAIXw8gzpLL",
        "colab": {
          "base_uri": "https://localhost:8080/"
        },
        "outputId": "71c3aff0-d307-4d2e-8f67-6e6254d1e9ec"
      },
      "execution_count": 79,
      "outputs": [
        {
          "output_type": "stream",
          "name": "stdout",
          "text": [
            "[1.9133e-01 2.2000e+01 5.8600e+00 0.0000e+00 4.3100e-01 5.6050e+00\n",
            " 7.0200e+01 7.9549e+00 7.0000e+00 3.3000e+02 1.9100e+01 3.8913e+02\n",
            " 1.8460e+01] 18.5\n"
          ]
        }
      ]
    },
    {
      "cell_type": "markdown",
      "metadata": {
        "id": "815ut8JJTIM7"
      },
      "source": [
        "#### 1.2. Проектируем архитектуру для этой задачи"
      ]
    },
    {
      "cell_type": "code",
      "source": [
        "from keras.layers import Dense\n",
        "from keras.models import Sequential\n",
        "from sklearn.preprocessing import MinMaxScaler\n",
        "import pickle\n",
        "\n",
        "mms = MinMaxScaler()\n",
        "\n",
        "X_train_n = mms.fit_transform(X_train)\n",
        "X_test_n = mms.transform(X_test)\n",
        "\n",
        "with open(\"scaler.pkl\", \"wb\") as f:\n",
        "    pickle.dump(mms, f)\n",
        "\n",
        "model = Sequential([\n",
        "    Dense(256, input_shape=(13,), activation='relu'),\n",
        "    Dense(128, activation='relu'),\n",
        "    Dense(1, activation='relu')\n",
        "])\n",
        "\n",
        "model.summary()"
      ],
      "metadata": {
        "id": "alrRyjbs1c8s",
        "outputId": "3ebc5c46-dace-4347-ee2a-79486b02283d",
        "colab": {
          "base_uri": "https://localhost:8080/",
          "height": 221
        }
      },
      "execution_count": 3,
      "outputs": [
        {
          "output_type": "error",
          "ename": "NameError",
          "evalue": "name 'X_train' is not defined",
          "traceback": [
            "\u001b[0;31m---------------------------------------------------------------------------\u001b[0m",
            "\u001b[0;31mNameError\u001b[0m                                 Traceback (most recent call last)",
            "\u001b[0;32m<ipython-input-3-aa89a40d8316>\u001b[0m in \u001b[0;36m<cell line: 8>\u001b[0;34m()\u001b[0m\n\u001b[1;32m      6\u001b[0m \u001b[0mmms\u001b[0m \u001b[0;34m=\u001b[0m \u001b[0mMinMaxScaler\u001b[0m\u001b[0;34m(\u001b[0m\u001b[0;34m)\u001b[0m\u001b[0;34m\u001b[0m\u001b[0;34m\u001b[0m\u001b[0m\n\u001b[1;32m      7\u001b[0m \u001b[0;34m\u001b[0m\u001b[0m\n\u001b[0;32m----> 8\u001b[0;31m \u001b[0mX_train_n\u001b[0m \u001b[0;34m=\u001b[0m \u001b[0mmms\u001b[0m\u001b[0;34m.\u001b[0m\u001b[0mfit_transform\u001b[0m\u001b[0;34m(\u001b[0m\u001b[0mX_train\u001b[0m\u001b[0;34m)\u001b[0m\u001b[0;34m\u001b[0m\u001b[0;34m\u001b[0m\u001b[0m\n\u001b[0m\u001b[1;32m      9\u001b[0m \u001b[0mX_test_n\u001b[0m \u001b[0;34m=\u001b[0m \u001b[0mmms\u001b[0m\u001b[0;34m.\u001b[0m\u001b[0mtransform\u001b[0m\u001b[0;34m(\u001b[0m\u001b[0mX_test\u001b[0m\u001b[0;34m)\u001b[0m\u001b[0;34m\u001b[0m\u001b[0;34m\u001b[0m\u001b[0m\n\u001b[1;32m     10\u001b[0m \u001b[0;34m\u001b[0m\u001b[0m\n",
            "\u001b[0;31mNameError\u001b[0m: name 'X_train' is not defined"
          ]
        }
      ]
    },
    {
      "cell_type": "markdown",
      "metadata": {
        "id": "F9E1W4yCT0YC"
      },
      "source": [
        "#### 1.3. Компилируем модель ИНС\n",
        "\n",
        "Подберите нужную функцию потерь и метрику."
      ]
    },
    {
      "cell_type": "code",
      "source": [
        "from keras.optimizers import Adam\n",
        "\n",
        "model.compile(Adam(learning_rate=0.001), loss='mse', metrics='mae')"
      ],
      "metadata": {
        "id": "Fu8VHdqV1gqy"
      },
      "execution_count": 23,
      "outputs": []
    },
    {
      "cell_type": "markdown",
      "metadata": {
        "id": "ebac-dNAUBtX"
      },
      "source": [
        "#### 1.4. Обучаем модель ИНС"
      ]
    },
    {
      "cell_type": "code",
      "source": [
        "from keras.callbacks import EarlyStopping, ModelCheckpoint\n",
        "early_stopping = EarlyStopping(patience=5)\n",
        "# checkpoint = ModelCheckpoint(filepath=\"best_model.h5\",\n",
        "#                              monitor=\"mae\",\n",
        "#                              save_best_only=True,\n",
        "#                              verbose=0)\n",
        "\n",
        "H = model.fit(X_train_n, y_train, epochs=200, validation_data=(X_test_n, y_test))"
      ],
      "metadata": {
        "id": "LcVz6t601hFI",
        "outputId": "9b49b660-b1e0-4e6a-f434-e24bcd627dc3",
        "colab": {
          "base_uri": "https://localhost:8080/"
        }
      },
      "execution_count": 24,
      "outputs": [
        {
          "output_type": "stream",
          "name": "stdout",
          "text": [
            "Epoch 1/200\n",
            "12/12 [==============================] - 1s 20ms/step - loss: 559.0735 - mae: 21.7346 - val_loss: 493.4139 - val_mae: 20.2312\n",
            "Epoch 2/200\n",
            "12/12 [==============================] - 0s 7ms/step - loss: 451.4793 - mae: 18.9051 - val_loss: 347.5223 - val_mae: 16.1114\n",
            "Epoch 3/200\n",
            "12/12 [==============================] - 0s 9ms/step - loss: 282.8550 - mae: 13.7417 - val_loss: 163.6431 - val_mae: 9.9489\n",
            "Epoch 4/200\n",
            "12/12 [==============================] - 0s 8ms/step - loss: 150.0355 - mae: 9.5139 - val_loss: 113.0317 - val_mae: 7.8838\n",
            "Epoch 5/200\n",
            "12/12 [==============================] - 0s 6ms/step - loss: 122.3348 - mae: 8.7702 - val_loss: 90.3764 - val_mae: 6.8767\n",
            "Epoch 6/200\n",
            "12/12 [==============================] - 0s 7ms/step - loss: 91.9211 - mae: 7.3159 - val_loss: 76.6205 - val_mae: 5.9972\n",
            "Epoch 7/200\n",
            "12/12 [==============================] - 0s 5ms/step - loss: 74.4784 - mae: 6.3084 - val_loss: 64.7510 - val_mae: 5.6043\n",
            "Epoch 8/200\n",
            "12/12 [==============================] - 0s 5ms/step - loss: 60.5332 - mae: 5.7294 - val_loss: 60.5813 - val_mae: 5.3848\n",
            "Epoch 9/200\n",
            "12/12 [==============================] - 0s 6ms/step - loss: 52.5954 - mae: 5.2577 - val_loss: 58.5611 - val_mae: 5.3331\n",
            "Epoch 10/200\n",
            "12/12 [==============================] - 0s 5ms/step - loss: 47.9255 - mae: 4.9639 - val_loss: 57.8094 - val_mae: 5.1927\n",
            "Epoch 11/200\n",
            "12/12 [==============================] - 0s 6ms/step - loss: 44.3986 - mae: 4.7878 - val_loss: 55.6395 - val_mae: 5.1410\n",
            "Epoch 12/200\n",
            "12/12 [==============================] - 0s 6ms/step - loss: 41.6828 - mae: 4.6389 - val_loss: 54.2054 - val_mae: 5.0607\n",
            "Epoch 13/200\n",
            "12/12 [==============================] - 0s 6ms/step - loss: 39.0311 - mae: 4.4241 - val_loss: 51.2640 - val_mae: 4.9248\n",
            "Epoch 14/200\n",
            "12/12 [==============================] - 0s 5ms/step - loss: 36.0653 - mae: 4.3147 - val_loss: 49.1103 - val_mae: 4.8131\n",
            "Epoch 15/200\n",
            "12/12 [==============================] - 0s 5ms/step - loss: 33.6000 - mae: 4.1511 - val_loss: 46.7620 - val_mae: 4.6893\n",
            "Epoch 16/200\n",
            "12/12 [==============================] - 0s 6ms/step - loss: 31.4364 - mae: 3.9831 - val_loss: 44.4702 - val_mae: 4.5889\n",
            "Epoch 17/200\n",
            "12/12 [==============================] - 0s 5ms/step - loss: 29.2417 - mae: 3.8581 - val_loss: 43.1529 - val_mae: 4.4512\n",
            "Epoch 18/200\n",
            "12/12 [==============================] - 0s 6ms/step - loss: 27.2803 - mae: 3.7478 - val_loss: 40.4814 - val_mae: 4.3703\n",
            "Epoch 19/200\n",
            "12/12 [==============================] - 0s 5ms/step - loss: 25.4273 - mae: 3.5712 - val_loss: 39.6648 - val_mae: 4.2060\n",
            "Epoch 20/200\n",
            "12/12 [==============================] - 0s 7ms/step - loss: 24.4315 - mae: 3.4738 - val_loss: 37.0640 - val_mae: 4.1581\n",
            "Epoch 21/200\n",
            "12/12 [==============================] - 0s 6ms/step - loss: 22.7523 - mae: 3.3538 - val_loss: 36.4532 - val_mae: 4.0001\n",
            "Epoch 22/200\n",
            "12/12 [==============================] - 0s 8ms/step - loss: 21.8300 - mae: 3.2776 - val_loss: 34.7409 - val_mae: 3.9076\n",
            "Epoch 23/200\n",
            "12/12 [==============================] - 0s 7ms/step - loss: 20.8551 - mae: 3.1145 - val_loss: 34.1241 - val_mae: 3.8598\n",
            "Epoch 24/200\n",
            "12/12 [==============================] - 0s 7ms/step - loss: 20.0176 - mae: 3.2052 - val_loss: 33.0817 - val_mae: 3.7905\n",
            "Epoch 25/200\n",
            "12/12 [==============================] - 0s 6ms/step - loss: 19.6437 - mae: 3.0477 - val_loss: 31.8022 - val_mae: 3.7416\n",
            "Epoch 26/200\n",
            "12/12 [==============================] - 0s 7ms/step - loss: 18.6638 - mae: 3.0425 - val_loss: 32.2918 - val_mae: 3.6948\n",
            "Epoch 27/200\n",
            "12/12 [==============================] - 0s 6ms/step - loss: 17.9732 - mae: 2.9046 - val_loss: 30.5492 - val_mae: 3.6514\n",
            "Epoch 28/200\n",
            "12/12 [==============================] - 0s 7ms/step - loss: 17.8501 - mae: 2.9448 - val_loss: 30.7433 - val_mae: 3.5855\n",
            "Epoch 29/200\n",
            "12/12 [==============================] - 0s 6ms/step - loss: 17.1915 - mae: 2.8602 - val_loss: 29.5241 - val_mae: 3.5381\n",
            "Epoch 30/200\n",
            "12/12 [==============================] - 0s 6ms/step - loss: 16.7850 - mae: 2.8205 - val_loss: 28.8948 - val_mae: 3.5065\n",
            "Epoch 31/200\n",
            "12/12 [==============================] - 0s 5ms/step - loss: 16.5578 - mae: 2.8210 - val_loss: 29.6853 - val_mae: 3.5321\n",
            "Epoch 32/200\n",
            "12/12 [==============================] - 0s 7ms/step - loss: 16.4995 - mae: 2.7787 - val_loss: 27.8154 - val_mae: 3.4330\n",
            "Epoch 33/200\n",
            "12/12 [==============================] - 0s 5ms/step - loss: 16.0479 - mae: 2.7077 - val_loss: 28.3524 - val_mae: 3.4389\n",
            "Epoch 34/200\n",
            "12/12 [==============================] - 0s 6ms/step - loss: 15.8317 - mae: 2.7026 - val_loss: 26.8622 - val_mae: 3.3822\n",
            "Epoch 35/200\n",
            "12/12 [==============================] - 0s 6ms/step - loss: 15.5080 - mae: 2.7217 - val_loss: 28.3437 - val_mae: 3.4301\n",
            "Epoch 36/200\n",
            "12/12 [==============================] - 0s 5ms/step - loss: 15.4193 - mae: 2.6454 - val_loss: 26.5295 - val_mae: 3.3917\n",
            "Epoch 37/200\n",
            "12/12 [==============================] - 0s 5ms/step - loss: 15.6151 - mae: 2.8055 - val_loss: 29.2604 - val_mae: 3.5078\n",
            "Epoch 38/200\n",
            "12/12 [==============================] - 0s 5ms/step - loss: 15.7988 - mae: 2.7031 - val_loss: 26.3160 - val_mae: 3.4510\n",
            "Epoch 39/200\n",
            "12/12 [==============================] - 0s 8ms/step - loss: 15.6775 - mae: 2.7789 - val_loss: 29.2637 - val_mae: 3.4490\n",
            "Epoch 40/200\n",
            "12/12 [==============================] - 0s 8ms/step - loss: 14.5529 - mae: 2.6019 - val_loss: 25.0815 - val_mae: 3.2775\n",
            "Epoch 41/200\n",
            "12/12 [==============================] - 0s 10ms/step - loss: 14.3322 - mae: 2.5815 - val_loss: 26.0027 - val_mae: 3.2650\n",
            "Epoch 42/200\n",
            "12/12 [==============================] - 0s 7ms/step - loss: 13.9813 - mae: 2.5368 - val_loss: 25.8632 - val_mae: 3.2545\n",
            "Epoch 43/200\n",
            "12/12 [==============================] - 0s 7ms/step - loss: 13.8362 - mae: 2.4957 - val_loss: 25.3339 - val_mae: 3.2159\n",
            "Epoch 44/200\n",
            "12/12 [==============================] - 0s 6ms/step - loss: 13.7375 - mae: 2.5314 - val_loss: 26.1619 - val_mae: 3.2485\n",
            "Epoch 45/200\n",
            "12/12 [==============================] - 0s 5ms/step - loss: 13.8709 - mae: 2.4946 - val_loss: 24.3391 - val_mae: 3.1836\n",
            "Epoch 46/200\n",
            "12/12 [==============================] - 0s 7ms/step - loss: 13.3987 - mae: 2.4803 - val_loss: 25.1544 - val_mae: 3.1764\n",
            "Epoch 47/200\n",
            "12/12 [==============================] - 0s 7ms/step - loss: 13.2841 - mae: 2.4343 - val_loss: 24.4352 - val_mae: 3.1383\n",
            "Epoch 48/200\n",
            "12/12 [==============================] - 0s 6ms/step - loss: 13.1272 - mae: 2.4228 - val_loss: 24.2561 - val_mae: 3.1775\n",
            "Epoch 49/200\n",
            "12/12 [==============================] - 0s 7ms/step - loss: 12.9590 - mae: 2.4387 - val_loss: 25.4788 - val_mae: 3.1591\n",
            "Epoch 50/200\n",
            "12/12 [==============================] - 0s 6ms/step - loss: 12.5476 - mae: 2.3592 - val_loss: 23.2224 - val_mae: 3.1061\n",
            "Epoch 51/200\n",
            "12/12 [==============================] - 0s 7ms/step - loss: 12.6286 - mae: 2.4675 - val_loss: 25.3672 - val_mae: 3.1509\n",
            "Epoch 52/200\n",
            "12/12 [==============================] - 0s 7ms/step - loss: 12.4550 - mae: 2.3679 - val_loss: 23.5446 - val_mae: 3.1017\n",
            "Epoch 53/200\n",
            "12/12 [==============================] - 0s 7ms/step - loss: 12.1725 - mae: 2.3578 - val_loss: 23.7595 - val_mae: 3.0705\n",
            "Epoch 54/200\n",
            "12/12 [==============================] - 0s 7ms/step - loss: 12.1538 - mae: 2.3600 - val_loss: 23.1889 - val_mae: 3.0328\n",
            "Epoch 55/200\n",
            "12/12 [==============================] - 0s 6ms/step - loss: 11.9988 - mae: 2.3010 - val_loss: 23.9044 - val_mae: 3.1032\n",
            "Epoch 56/200\n",
            "12/12 [==============================] - 0s 6ms/step - loss: 11.8707 - mae: 2.3668 - val_loss: 23.7431 - val_mae: 3.0308\n",
            "Epoch 57/200\n",
            "12/12 [==============================] - 0s 7ms/step - loss: 11.9655 - mae: 2.2978 - val_loss: 22.8489 - val_mae: 3.1385\n",
            "Epoch 58/200\n",
            "12/12 [==============================] - 0s 6ms/step - loss: 11.7901 - mae: 2.3748 - val_loss: 24.5449 - val_mae: 3.0870\n",
            "Epoch 59/200\n",
            "12/12 [==============================] - 0s 5ms/step - loss: 11.6779 - mae: 2.3206 - val_loss: 22.8457 - val_mae: 3.0074\n",
            "Epoch 60/200\n",
            "12/12 [==============================] - 0s 6ms/step - loss: 11.2039 - mae: 2.2510 - val_loss: 23.2769 - val_mae: 3.0408\n",
            "Epoch 61/200\n",
            "12/12 [==============================] - 0s 5ms/step - loss: 11.1897 - mae: 2.3215 - val_loss: 24.3633 - val_mae: 3.0781\n",
            "Epoch 62/200\n",
            "12/12 [==============================] - 0s 7ms/step - loss: 11.6154 - mae: 2.3416 - val_loss: 21.5149 - val_mae: 3.1032\n",
            "Epoch 63/200\n",
            "12/12 [==============================] - 0s 6ms/step - loss: 10.9526 - mae: 2.2586 - val_loss: 24.2389 - val_mae: 3.0551\n",
            "Epoch 64/200\n",
            "12/12 [==============================] - 0s 6ms/step - loss: 10.9048 - mae: 2.2957 - val_loss: 22.0386 - val_mae: 2.9862\n",
            "Epoch 65/200\n",
            "12/12 [==============================] - 0s 5ms/step - loss: 10.4590 - mae: 2.1880 - val_loss: 22.2065 - val_mae: 2.9839\n",
            "Epoch 66/200\n",
            "12/12 [==============================] - 0s 5ms/step - loss: 10.6569 - mae: 2.2329 - val_loss: 21.8544 - val_mae: 2.9869\n",
            "Epoch 67/200\n",
            "12/12 [==============================] - 0s 6ms/step - loss: 10.2416 - mae: 2.1608 - val_loss: 21.4041 - val_mae: 2.9502\n",
            "Epoch 68/200\n",
            "12/12 [==============================] - 0s 6ms/step - loss: 10.5020 - mae: 2.2069 - val_loss: 22.7067 - val_mae: 2.9822\n",
            "Epoch 69/200\n",
            "12/12 [==============================] - 0s 7ms/step - loss: 10.1118 - mae: 2.1799 - val_loss: 20.7461 - val_mae: 2.9692\n",
            "Epoch 70/200\n",
            "12/12 [==============================] - 0s 6ms/step - loss: 9.9386 - mae: 2.1675 - val_loss: 21.3130 - val_mae: 2.9418\n",
            "Epoch 71/200\n",
            "12/12 [==============================] - 0s 5ms/step - loss: 9.9375 - mae: 2.1629 - val_loss: 22.2711 - val_mae: 2.9831\n",
            "Epoch 72/200\n",
            "12/12 [==============================] - 0s 5ms/step - loss: 9.8633 - mae: 2.1325 - val_loss: 20.9086 - val_mae: 2.9407\n",
            "Epoch 73/200\n",
            "12/12 [==============================] - 0s 6ms/step - loss: 9.7414 - mae: 2.1530 - val_loss: 21.8073 - val_mae: 2.9571\n",
            "Epoch 74/200\n",
            "12/12 [==============================] - 0s 6ms/step - loss: 9.4786 - mae: 2.0948 - val_loss: 21.5885 - val_mae: 2.9896\n",
            "Epoch 75/200\n",
            "12/12 [==============================] - 0s 7ms/step - loss: 9.4795 - mae: 2.1294 - val_loss: 20.9220 - val_mae: 2.9294\n",
            "Epoch 76/200\n",
            "12/12 [==============================] - 0s 6ms/step - loss: 9.4443 - mae: 2.0973 - val_loss: 20.8852 - val_mae: 2.9558\n",
            "Epoch 77/200\n",
            "12/12 [==============================] - 0s 6ms/step - loss: 9.8572 - mae: 2.1855 - val_loss: 22.3739 - val_mae: 2.9802\n",
            "Epoch 78/200\n",
            "12/12 [==============================] - 0s 7ms/step - loss: 9.2897 - mae: 2.1230 - val_loss: 20.3092 - val_mae: 2.9094\n",
            "Epoch 79/200\n",
            "12/12 [==============================] - 0s 5ms/step - loss: 9.1839 - mae: 2.0738 - val_loss: 21.6718 - val_mae: 2.9521\n",
            "Epoch 80/200\n",
            "12/12 [==============================] - 0s 5ms/step - loss: 8.9347 - mae: 2.0688 - val_loss: 20.3962 - val_mae: 2.9199\n",
            "Epoch 81/200\n",
            "12/12 [==============================] - 0s 7ms/step - loss: 9.1002 - mae: 2.0672 - val_loss: 20.1077 - val_mae: 2.9373\n",
            "Epoch 82/200\n",
            "12/12 [==============================] - 0s 5ms/step - loss: 8.8429 - mae: 2.0585 - val_loss: 20.8599 - val_mae: 2.9281\n",
            "Epoch 83/200\n",
            "12/12 [==============================] - 0s 6ms/step - loss: 8.7958 - mae: 2.0588 - val_loss: 20.5549 - val_mae: 2.9253\n",
            "Epoch 84/200\n",
            "12/12 [==============================] - 0s 7ms/step - loss: 8.6564 - mae: 2.0350 - val_loss: 20.7238 - val_mae: 2.9140\n",
            "Epoch 85/200\n",
            "12/12 [==============================] - 0s 5ms/step - loss: 8.5925 - mae: 2.0216 - val_loss: 20.6655 - val_mae: 2.9080\n",
            "Epoch 86/200\n",
            "12/12 [==============================] - 0s 6ms/step - loss: 8.5506 - mae: 2.0053 - val_loss: 19.4471 - val_mae: 2.9033\n",
            "Epoch 87/200\n",
            "12/12 [==============================] - 0s 7ms/step - loss: 8.4464 - mae: 2.0262 - val_loss: 20.9408 - val_mae: 2.9386\n",
            "Epoch 88/200\n",
            "12/12 [==============================] - 0s 7ms/step - loss: 9.2705 - mae: 2.1128 - val_loss: 20.2855 - val_mae: 3.0900\n",
            "Epoch 89/200\n",
            "12/12 [==============================] - 0s 6ms/step - loss: 8.8416 - mae: 2.0894 - val_loss: 20.0468 - val_mae: 2.8821\n",
            "Epoch 90/200\n",
            "12/12 [==============================] - 0s 6ms/step - loss: 8.4165 - mae: 2.0175 - val_loss: 21.1507 - val_mae: 2.9395\n",
            "Epoch 91/200\n",
            "12/12 [==============================] - 0s 7ms/step - loss: 8.5046 - mae: 2.0283 - val_loss: 19.2379 - val_mae: 2.8491\n",
            "Epoch 92/200\n",
            "12/12 [==============================] - 0s 7ms/step - loss: 8.3234 - mae: 1.9987 - val_loss: 19.9320 - val_mae: 2.9799\n",
            "Epoch 93/200\n",
            "12/12 [==============================] - 0s 7ms/step - loss: 8.5455 - mae: 2.0714 - val_loss: 20.0493 - val_mae: 2.8964\n",
            "Epoch 94/200\n",
            "12/12 [==============================] - 0s 5ms/step - loss: 8.0133 - mae: 1.9721 - val_loss: 20.4478 - val_mae: 2.9032\n",
            "Epoch 95/200\n",
            "12/12 [==============================] - 0s 5ms/step - loss: 8.1245 - mae: 1.9988 - val_loss: 20.1050 - val_mae: 2.8794\n",
            "Epoch 96/200\n",
            "12/12 [==============================] - 0s 7ms/step - loss: 8.0012 - mae: 1.9855 - val_loss: 19.5280 - val_mae: 2.8975\n",
            "Epoch 97/200\n",
            "12/12 [==============================] - 0s 5ms/step - loss: 7.8899 - mae: 1.9634 - val_loss: 20.4955 - val_mae: 2.9067\n",
            "Epoch 98/200\n",
            "12/12 [==============================] - 0s 6ms/step - loss: 7.7784 - mae: 1.9454 - val_loss: 19.5628 - val_mae: 2.8556\n",
            "Epoch 99/200\n",
            "12/12 [==============================] - 0s 6ms/step - loss: 7.7328 - mae: 1.9406 - val_loss: 20.1472 - val_mae: 2.9032\n",
            "Epoch 100/200\n",
            "12/12 [==============================] - 0s 6ms/step - loss: 7.5817 - mae: 1.9220 - val_loss: 19.7450 - val_mae: 2.9078\n",
            "Epoch 101/200\n",
            "12/12 [==============================] - 0s 5ms/step - loss: 7.5571 - mae: 1.9122 - val_loss: 19.7065 - val_mae: 2.8788\n",
            "Epoch 102/200\n",
            "12/12 [==============================] - 0s 6ms/step - loss: 7.9825 - mae: 1.9544 - val_loss: 19.4577 - val_mae: 2.8693\n",
            "Epoch 103/200\n",
            "12/12 [==============================] - 0s 9ms/step - loss: 7.4713 - mae: 1.9215 - val_loss: 21.0833 - val_mae: 2.9626\n",
            "Epoch 104/200\n",
            "12/12 [==============================] - 0s 10ms/step - loss: 7.6822 - mae: 1.9463 - val_loss: 19.8674 - val_mae: 2.8802\n",
            "Epoch 105/200\n",
            "12/12 [==============================] - 0s 8ms/step - loss: 7.5955 - mae: 1.9217 - val_loss: 19.2615 - val_mae: 2.9908\n",
            "Epoch 106/200\n",
            "12/12 [==============================] - 0s 7ms/step - loss: 8.2302 - mae: 2.0435 - val_loss: 20.1420 - val_mae: 2.9177\n",
            "Epoch 107/200\n",
            "12/12 [==============================] - 0s 9ms/step - loss: 7.4717 - mae: 1.9251 - val_loss: 20.6111 - val_mae: 2.9271\n",
            "Epoch 108/200\n",
            "12/12 [==============================] - 0s 8ms/step - loss: 7.4210 - mae: 1.9196 - val_loss: 19.5343 - val_mae: 2.8559\n",
            "Epoch 109/200\n",
            "12/12 [==============================] - 0s 11ms/step - loss: 7.2827 - mae: 1.8976 - val_loss: 19.2678 - val_mae: 2.8512\n",
            "Epoch 110/200\n",
            "12/12 [==============================] - 0s 11ms/step - loss: 7.1049 - mae: 1.8867 - val_loss: 20.9960 - val_mae: 2.9655\n",
            "Epoch 111/200\n",
            "12/12 [==============================] - 0s 10ms/step - loss: 7.2397 - mae: 1.8961 - val_loss: 18.9406 - val_mae: 2.8784\n",
            "Epoch 112/200\n",
            "12/12 [==============================] - 0s 10ms/step - loss: 7.0847 - mae: 1.8856 - val_loss: 19.7129 - val_mae: 2.8813\n",
            "Epoch 113/200\n",
            "12/12 [==============================] - 0s 11ms/step - loss: 7.0074 - mae: 1.8530 - val_loss: 18.7483 - val_mae: 2.9425\n",
            "Epoch 114/200\n",
            "12/12 [==============================] - 0s 9ms/step - loss: 7.1896 - mae: 1.8985 - val_loss: 18.9596 - val_mae: 2.8417\n",
            "Epoch 115/200\n",
            "12/12 [==============================] - 0s 8ms/step - loss: 7.2303 - mae: 1.9080 - val_loss: 21.2721 - val_mae: 3.0105\n",
            "Epoch 116/200\n",
            "12/12 [==============================] - 0s 9ms/step - loss: 7.3867 - mae: 1.9242 - val_loss: 20.5365 - val_mae: 2.9245\n",
            "Epoch 117/200\n",
            "12/12 [==============================] - 0s 8ms/step - loss: 6.8323 - mae: 1.8244 - val_loss: 18.6258 - val_mae: 2.8698\n",
            "Epoch 118/200\n",
            "12/12 [==============================] - 0s 7ms/step - loss: 6.8866 - mae: 1.8543 - val_loss: 19.3705 - val_mae: 2.8857\n",
            "Epoch 119/200\n",
            "12/12 [==============================] - 0s 9ms/step - loss: 6.8149 - mae: 1.8570 - val_loss: 19.1903 - val_mae: 2.8554\n",
            "Epoch 120/200\n",
            "12/12 [==============================] - 0s 9ms/step - loss: 6.8306 - mae: 1.8591 - val_loss: 18.8214 - val_mae: 2.8624\n",
            "Epoch 121/200\n",
            "12/12 [==============================] - 0s 9ms/step - loss: 7.1081 - mae: 1.9130 - val_loss: 20.1109 - val_mae: 2.9474\n",
            "Epoch 122/200\n",
            "12/12 [==============================] - 0s 11ms/step - loss: 7.1182 - mae: 1.9159 - val_loss: 20.1656 - val_mae: 2.9347\n",
            "Epoch 123/200\n",
            "12/12 [==============================] - 0s 10ms/step - loss: 6.5958 - mae: 1.8351 - val_loss: 18.4645 - val_mae: 2.8606\n",
            "Epoch 124/200\n",
            "12/12 [==============================] - 0s 9ms/step - loss: 7.3115 - mae: 1.9316 - val_loss: 18.7639 - val_mae: 2.8959\n",
            "Epoch 125/200\n",
            "12/12 [==============================] - 0s 14ms/step - loss: 6.8085 - mae: 1.8995 - val_loss: 19.8046 - val_mae: 2.9373\n",
            "Epoch 126/200\n",
            "12/12 [==============================] - 0s 10ms/step - loss: 6.6944 - mae: 1.8476 - val_loss: 19.0404 - val_mae: 2.8757\n",
            "Epoch 127/200\n",
            "12/12 [==============================] - 0s 9ms/step - loss: 6.8247 - mae: 1.8509 - val_loss: 20.6338 - val_mae: 2.9654\n",
            "Epoch 128/200\n",
            "12/12 [==============================] - 0s 9ms/step - loss: 6.6206 - mae: 1.8733 - val_loss: 18.5643 - val_mae: 2.8307\n",
            "Epoch 129/200\n",
            "12/12 [==============================] - 0s 8ms/step - loss: 6.8450 - mae: 1.8925 - val_loss: 18.7346 - val_mae: 2.9408\n",
            "Epoch 130/200\n",
            "12/12 [==============================] - 0s 9ms/step - loss: 6.7089 - mae: 1.8658 - val_loss: 18.0514 - val_mae: 2.9018\n",
            "Epoch 131/200\n",
            "12/12 [==============================] - 0s 7ms/step - loss: 7.3589 - mae: 1.9587 - val_loss: 18.9429 - val_mae: 2.8720\n",
            "Epoch 132/200\n",
            "12/12 [==============================] - 0s 6ms/step - loss: 6.4933 - mae: 1.8277 - val_loss: 20.2392 - val_mae: 2.9246\n",
            "Epoch 133/200\n",
            "12/12 [==============================] - 0s 7ms/step - loss: 6.3604 - mae: 1.8232 - val_loss: 18.3620 - val_mae: 2.8439\n",
            "Epoch 134/200\n",
            "12/12 [==============================] - 0s 6ms/step - loss: 6.4000 - mae: 1.8344 - val_loss: 18.3043 - val_mae: 2.8671\n",
            "Epoch 135/200\n",
            "12/12 [==============================] - 0s 6ms/step - loss: 6.2657 - mae: 1.7877 - val_loss: 18.4487 - val_mae: 2.8510\n",
            "Epoch 136/200\n",
            "12/12 [==============================] - 0s 6ms/step - loss: 6.1551 - mae: 1.7714 - val_loss: 18.3630 - val_mae: 2.8389\n",
            "Epoch 137/200\n",
            "12/12 [==============================] - 0s 6ms/step - loss: 6.6040 - mae: 1.8433 - val_loss: 19.4864 - val_mae: 2.8730\n",
            "Epoch 138/200\n",
            "12/12 [==============================] - 0s 6ms/step - loss: 6.4221 - mae: 1.8219 - val_loss: 20.1221 - val_mae: 2.9410\n",
            "Epoch 139/200\n",
            "12/12 [==============================] - 0s 7ms/step - loss: 6.6143 - mae: 1.8576 - val_loss: 18.1701 - val_mae: 2.8414\n",
            "Epoch 140/200\n",
            "12/12 [==============================] - 0s 6ms/step - loss: 6.4221 - mae: 1.8074 - val_loss: 17.8595 - val_mae: 2.8179\n",
            "Epoch 141/200\n",
            "12/12 [==============================] - 0s 6ms/step - loss: 6.0097 - mae: 1.7504 - val_loss: 18.5544 - val_mae: 2.8592\n",
            "Epoch 142/200\n",
            "12/12 [==============================] - 0s 7ms/step - loss: 6.1449 - mae: 1.7816 - val_loss: 18.3974 - val_mae: 2.8956\n",
            "Epoch 143/200\n",
            "12/12 [==============================] - 0s 5ms/step - loss: 6.0193 - mae: 1.7656 - val_loss: 18.2861 - val_mae: 2.8334\n",
            "Epoch 144/200\n",
            "12/12 [==============================] - 0s 7ms/step - loss: 5.9733 - mae: 1.7417 - val_loss: 18.5360 - val_mae: 2.8475\n",
            "Epoch 145/200\n",
            "12/12 [==============================] - 0s 6ms/step - loss: 6.2783 - mae: 1.8036 - val_loss: 19.0032 - val_mae: 2.8728\n",
            "Epoch 146/200\n",
            "12/12 [==============================] - 0s 6ms/step - loss: 5.8914 - mae: 1.7362 - val_loss: 19.4757 - val_mae: 2.9072\n",
            "Epoch 147/200\n",
            "12/12 [==============================] - 0s 5ms/step - loss: 6.0191 - mae: 1.7811 - val_loss: 18.1673 - val_mae: 2.8248\n",
            "Epoch 148/200\n",
            "12/12 [==============================] - 0s 6ms/step - loss: 6.1117 - mae: 1.7812 - val_loss: 18.1871 - val_mae: 2.8373\n",
            "Epoch 149/200\n",
            "12/12 [==============================] - 0s 7ms/step - loss: 5.8627 - mae: 1.7358 - val_loss: 18.1821 - val_mae: 2.8268\n",
            "Epoch 150/200\n",
            "12/12 [==============================] - 0s 5ms/step - loss: 5.8077 - mae: 1.7254 - val_loss: 18.2065 - val_mae: 2.8422\n",
            "Epoch 151/200\n",
            "12/12 [==============================] - 0s 6ms/step - loss: 5.9366 - mae: 1.7597 - val_loss: 20.3424 - val_mae: 2.9347\n",
            "Epoch 152/200\n",
            "12/12 [==============================] - 0s 6ms/step - loss: 6.6013 - mae: 1.8804 - val_loss: 21.1455 - val_mae: 3.0280\n",
            "Epoch 153/200\n",
            "12/12 [==============================] - 0s 6ms/step - loss: 6.3038 - mae: 1.8525 - val_loss: 18.2181 - val_mae: 2.8309\n",
            "Epoch 154/200\n",
            "12/12 [==============================] - 0s 7ms/step - loss: 5.6641 - mae: 1.7101 - val_loss: 17.8208 - val_mae: 2.8059\n",
            "Epoch 155/200\n",
            "12/12 [==============================] - 0s 5ms/step - loss: 5.7329 - mae: 1.7361 - val_loss: 18.2647 - val_mae: 2.8378\n",
            "Epoch 156/200\n",
            "12/12 [==============================] - 0s 7ms/step - loss: 5.5813 - mae: 1.7121 - val_loss: 18.4747 - val_mae: 2.8399\n",
            "Epoch 157/200\n",
            "12/12 [==============================] - 0s 7ms/step - loss: 5.6921 - mae: 1.7206 - val_loss: 18.5918 - val_mae: 2.8502\n",
            "Epoch 158/200\n",
            "12/12 [==============================] - 0s 7ms/step - loss: 5.5907 - mae: 1.7084 - val_loss: 17.8202 - val_mae: 2.8011\n",
            "Epoch 159/200\n",
            "12/12 [==============================] - 0s 7ms/step - loss: 5.5767 - mae: 1.6989 - val_loss: 17.7391 - val_mae: 2.8235\n",
            "Epoch 160/200\n",
            "12/12 [==============================] - 0s 7ms/step - loss: 5.4910 - mae: 1.6932 - val_loss: 17.9986 - val_mae: 2.8312\n",
            "Epoch 161/200\n",
            "12/12 [==============================] - 0s 5ms/step - loss: 5.5264 - mae: 1.7199 - val_loss: 18.9206 - val_mae: 2.8552\n",
            "Epoch 162/200\n",
            "12/12 [==============================] - 0s 7ms/step - loss: 5.7599 - mae: 1.7689 - val_loss: 18.1228 - val_mae: 2.8130\n",
            "Epoch 163/200\n",
            "12/12 [==============================] - 0s 8ms/step - loss: 5.4408 - mae: 1.6849 - val_loss: 17.3445 - val_mae: 2.8318\n",
            "Epoch 164/200\n",
            "12/12 [==============================] - 0s 6ms/step - loss: 5.8033 - mae: 1.7392 - val_loss: 18.0169 - val_mae: 2.8146\n",
            "Epoch 165/200\n",
            "12/12 [==============================] - 0s 6ms/step - loss: 5.5719 - mae: 1.7294 - val_loss: 17.9685 - val_mae: 2.8329\n",
            "Epoch 166/200\n",
            "12/12 [==============================] - 0s 7ms/step - loss: 5.5120 - mae: 1.7082 - val_loss: 17.5539 - val_mae: 2.7878\n",
            "Epoch 167/200\n",
            "12/12 [==============================] - 0s 5ms/step - loss: 5.2625 - mae: 1.6757 - val_loss: 18.5887 - val_mae: 2.8547\n",
            "Epoch 168/200\n",
            "12/12 [==============================] - 0s 6ms/step - loss: 5.4428 - mae: 1.7069 - val_loss: 18.2869 - val_mae: 2.8256\n",
            "Epoch 169/200\n",
            "12/12 [==============================] - 0s 6ms/step - loss: 5.2828 - mae: 1.6969 - val_loss: 17.4402 - val_mae: 2.8393\n",
            "Epoch 170/200\n",
            "12/12 [==============================] - 0s 6ms/step - loss: 5.3542 - mae: 1.6771 - val_loss: 17.7895 - val_mae: 2.7983\n",
            "Epoch 171/200\n",
            "12/12 [==============================] - 0s 7ms/step - loss: 5.2738 - mae: 1.6774 - val_loss: 18.6314 - val_mae: 2.8385\n",
            "Epoch 172/200\n",
            "12/12 [==============================] - 0s 8ms/step - loss: 5.3580 - mae: 1.6937 - val_loss: 17.7905 - val_mae: 2.7775\n",
            "Epoch 173/200\n",
            "12/12 [==============================] - 0s 8ms/step - loss: 5.2424 - mae: 1.6568 - val_loss: 17.8019 - val_mae: 2.7842\n",
            "Epoch 174/200\n",
            "12/12 [==============================] - 0s 8ms/step - loss: 5.3540 - mae: 1.6970 - val_loss: 17.5492 - val_mae: 2.7989\n",
            "Epoch 175/200\n",
            "12/12 [==============================] - 0s 9ms/step - loss: 5.2887 - mae: 1.6814 - val_loss: 18.2788 - val_mae: 2.8050\n",
            "Epoch 176/200\n",
            "12/12 [==============================] - 0s 7ms/step - loss: 5.3088 - mae: 1.6789 - val_loss: 18.6331 - val_mae: 2.8021\n",
            "Epoch 177/200\n",
            "12/12 [==============================] - 0s 8ms/step - loss: 5.4043 - mae: 1.6749 - val_loss: 17.4189 - val_mae: 2.7532\n",
            "Epoch 178/200\n",
            "12/12 [==============================] - 0s 9ms/step - loss: 5.3272 - mae: 1.6855 - val_loss: 17.9619 - val_mae: 2.8447\n",
            "Epoch 179/200\n",
            "12/12 [==============================] - 0s 10ms/step - loss: 5.2953 - mae: 1.7075 - val_loss: 17.0643 - val_mae: 2.7689\n",
            "Epoch 180/200\n",
            "12/12 [==============================] - 0s 9ms/step - loss: 5.3351 - mae: 1.6918 - val_loss: 17.3602 - val_mae: 2.8377\n",
            "Epoch 181/200\n",
            "12/12 [==============================] - 0s 8ms/step - loss: 5.2538 - mae: 1.6675 - val_loss: 17.2272 - val_mae: 2.7554\n",
            "Epoch 182/200\n",
            "12/12 [==============================] - 0s 7ms/step - loss: 5.0210 - mae: 1.6392 - val_loss: 17.4506 - val_mae: 2.7663\n",
            "Epoch 183/200\n",
            "12/12 [==============================] - 0s 10ms/step - loss: 4.9968 - mae: 1.6274 - val_loss: 17.9453 - val_mae: 2.7646\n",
            "Epoch 184/200\n",
            "12/12 [==============================] - 0s 10ms/step - loss: 4.7981 - mae: 1.5894 - val_loss: 17.5661 - val_mae: 2.7771\n",
            "Epoch 185/200\n",
            "12/12 [==============================] - 0s 8ms/step - loss: 5.1226 - mae: 1.6389 - val_loss: 17.4563 - val_mae: 2.7520\n",
            "Epoch 186/200\n",
            "12/12 [==============================] - 0s 6ms/step - loss: 4.8854 - mae: 1.5997 - val_loss: 16.9345 - val_mae: 2.7367\n",
            "Epoch 187/200\n",
            "12/12 [==============================] - 0s 7ms/step - loss: 4.8187 - mae: 1.6025 - val_loss: 17.9596 - val_mae: 2.7788\n",
            "Epoch 188/200\n",
            "12/12 [==============================] - 0s 6ms/step - loss: 4.7505 - mae: 1.6031 - val_loss: 17.0871 - val_mae: 2.7380\n",
            "Epoch 189/200\n",
            "12/12 [==============================] - 0s 6ms/step - loss: 4.8432 - mae: 1.6220 - val_loss: 17.2294 - val_mae: 2.7625\n",
            "Epoch 190/200\n",
            "12/12 [==============================] - 0s 7ms/step - loss: 4.9104 - mae: 1.6181 - val_loss: 17.3307 - val_mae: 2.7208\n",
            "Epoch 191/200\n",
            "12/12 [==============================] - 0s 7ms/step - loss: 4.7010 - mae: 1.5824 - val_loss: 17.4502 - val_mae: 2.7795\n",
            "Epoch 192/200\n",
            "12/12 [==============================] - 0s 6ms/step - loss: 5.2123 - mae: 1.7126 - val_loss: 16.9569 - val_mae: 2.7298\n",
            "Epoch 193/200\n",
            "12/12 [==============================] - 0s 6ms/step - loss: 4.7473 - mae: 1.5818 - val_loss: 17.6501 - val_mae: 2.7486\n",
            "Epoch 194/200\n",
            "12/12 [==============================] - 0s 7ms/step - loss: 4.8966 - mae: 1.6319 - val_loss: 17.1197 - val_mae: 2.7594\n",
            "Epoch 195/200\n",
            "12/12 [==============================] - 0s 7ms/step - loss: 4.8302 - mae: 1.6113 - val_loss: 16.7168 - val_mae: 2.7080\n",
            "Epoch 196/200\n",
            "12/12 [==============================] - 0s 7ms/step - loss: 4.6944 - mae: 1.5703 - val_loss: 17.3962 - val_mae: 2.7544\n",
            "Epoch 197/200\n",
            "12/12 [==============================] - 0s 6ms/step - loss: 4.6775 - mae: 1.5788 - val_loss: 17.1624 - val_mae: 2.6931\n",
            "Epoch 198/200\n",
            "12/12 [==============================] - 0s 7ms/step - loss: 4.5597 - mae: 1.5591 - val_loss: 17.3725 - val_mae: 2.7674\n",
            "Epoch 199/200\n",
            "12/12 [==============================] - 0s 5ms/step - loss: 4.7333 - mae: 1.6295 - val_loss: 16.8746 - val_mae: 2.7231\n",
            "Epoch 200/200\n",
            "12/12 [==============================] - 0s 5ms/step - loss: 4.7266 - mae: 1.6070 - val_loss: 17.0712 - val_mae: 2.7283\n"
          ]
        }
      ]
    },
    {
      "cell_type": "markdown",
      "metadata": {
        "id": "mvlGXR3yVMYo"
      },
      "source": [
        "#### 1.6. Делаем предсказания на тестовых данных"
      ]
    },
    {
      "cell_type": "code",
      "source": [
        "preds = model.predict(X_test)\n",
        "X_test"
      ],
      "metadata": {
        "id": "Rui6kjT01jEA",
        "outputId": "8916a189-5e09-4d6c-f6f1-33dfe3cbbd7b",
        "colab": {
          "base_uri": "https://localhost:8080/"
        }
      },
      "execution_count": 25,
      "outputs": [
        {
          "output_type": "stream",
          "name": "stdout",
          "text": [
            "4/4 [==============================] - 0s 3ms/step\n"
          ]
        },
        {
          "output_type": "execute_result",
          "data": {
            "text/plain": [
              "array([[6.7240e-02, 0.0000e+00, 3.2400e+00, ..., 1.6900e+01, 3.7521e+02,\n",
              "        7.3400e+00],\n",
              "       [9.2323e+00, 0.0000e+00, 1.8100e+01, ..., 2.0200e+01, 3.6615e+02,\n",
              "        9.5300e+00],\n",
              "       [1.1425e-01, 0.0000e+00, 1.3890e+01, ..., 1.6400e+01, 3.9374e+02,\n",
              "        1.0500e+01],\n",
              "       ...,\n",
              "       [3.4940e-01, 0.0000e+00, 9.9000e+00, ..., 1.8400e+01, 3.9624e+02,\n",
              "        9.9700e+00],\n",
              "       [9.8490e-02, 0.0000e+00, 2.5650e+01, ..., 1.9100e+01, 3.7938e+02,\n",
              "        1.7580e+01],\n",
              "       [7.5030e-02, 3.3000e+01, 2.1800e+00, ..., 1.8400e+01, 3.9690e+02,\n",
              "        6.4700e+00]])"
            ]
          },
          "metadata": {},
          "execution_count": 25
        }
      ]
    },
    {
      "cell_type": "markdown",
      "metadata": {
        "id": "NLsmmLVkVhkL"
      },
      "source": [
        "#### 1.7. Вычисляем метрику качества на тестовых данных"
      ]
    },
    {
      "cell_type": "code",
      "source": [
        "from sklearn.metrics import mean_absolute_error\n",
        "\n",
        "error = mean_absolute_error(preds, y_test)\n",
        "print(error)"
      ],
      "metadata": {
        "id": "V8cpkQnr1jcS",
        "outputId": "8c2a4693-eddc-4b52-e4d6-0e90af06022e",
        "colab": {
          "base_uri": "https://localhost:8080/"
        }
      },
      "execution_count": 26,
      "outputs": [
        {
          "output_type": "stream",
          "name": "stdout",
          "text": [
            "5121.455563714935\n"
          ]
        }
      ]
    },
    {
      "cell_type": "code",
      "source": [],
      "metadata": {
        "id": "4feSuVwqnNsw"
      },
      "execution_count": null,
      "outputs": []
    },
    {
      "cell_type": "markdown",
      "metadata": {
        "id": "d4eyitaoKx_E"
      },
      "source": [
        "#### 1.8. Строим график обучения"
      ]
    },
    {
      "cell_type": "code",
      "source": [
        "import matplotlib.pyplot as plt\n",
        "\n",
        "plt.plot(H.history[\"loss\"], label=\"loss\")\n",
        "plt.plot(H.history[\"val_loss\"], label=\"val_loss\")\n",
        "plt.legend()\n",
        "plt.show()"
      ],
      "metadata": {
        "id": "tw-JEpqm1jyK",
        "outputId": "67e48186-1b88-41b3-ae84-f153c44d8afe",
        "colab": {
          "base_uri": "https://localhost:8080/",
          "height": 430
        }
      },
      "execution_count": 28,
      "outputs": [
        {
          "output_type": "display_data",
          "data": {
            "text/plain": [
              "<Figure size 640x480 with 1 Axes>"
            ],
            "image/png": "[encoded data removed]"
          },
          "metadata": {}
        }
      ]
    },
    {
      "cell_type": "markdown",
      "metadata": {
        "id": "XYMsbjaoMEqT"
      },
      "source": [
        "#### 1.9. Построение графического интерфейса в Gradio Проверка обученной модели пользовательскими данными"
      ]
    },
    {
      "cell_type": "code",
      "source": [
        "!pip install gradio"
      ],
      "metadata": {
        "id": "x-dyoItx2JN_",
        "colab": {
          "base_uri": "https://localhost:8080/"
        },
        "outputId": "d5f297ba-1511-41d4-c648-68fda0f3bb62"
      },
      "execution_count": 8,
      "outputs": [
        {
          "output_type": "stream",
          "name": "stdout",
          "text": [
            "Collecting gradio\n",
            "  Downloading gradio-4.21.0-py3-none-any.whl (17.0 MB)\n",
            "\u001b[2K     \u001b[90m━━━━━━━━━━━━━━━━━━━━━━━━━━━━━━━━━━━━━━━━\u001b[0m \u001b[32m17.0/17.0 MB\u001b[0m \u001b[31m54.6 MB/s\u001b[0m eta \u001b[36m0:00:00\u001b[0m\n",
            "\u001b[?25hCollecting aiofiles<24.0,>=22.0 (from gradio)\n",
            "  Downloading aiofiles-23.2.1-py3-none-any.whl (15 kB)\n",
            "Requirement already satisfied: altair<6.0,>=4.2.0 in /usr/local/lib/python3.10/dist-packages (from gradio) (4.2.2)\n",
            "Collecting fastapi (from gradio)\n",
            "  Downloading fastapi-0.110.0-py3-none-any.whl (92 kB)\n",
            "\u001b[2K     \u001b[90m━━━━━━━━━━━━━━━━━━━━━━━━━━━━━━━━━━━━━━━━\u001b[0m \u001b[32m92.1/92.1 kB\u001b[0m \u001b[31m11.2 MB/s\u001b[0m eta \u001b[36m0:00:00\u001b[0m\n",
            "\u001b[?25hCollecting ffmpy (from gradio)\n",
            "  Downloading ffmpy-0.3.2.tar.gz (5.5 kB)\n",
            "  Preparing metadata (setup.py) ... \u001b[?25l\u001b[?25hdone\n",
            "Collecting gradio-client==0.12.0 (from gradio)\n",
            "  Downloading gradio_client-0.12.0-py3-none-any.whl (310 kB)\n",
            "\u001b[2K     \u001b[90m━━━━━━━━━━━━━━━━━━━━━━━━━━━━━━━━━━━━━━━━\u001b[0m \u001b[32m310.7/310.7 kB\u001b[0m \u001b[31m35.9 MB/s\u001b[0m eta \u001b[36m0:00:00\u001b[0m\n",
            "\u001b[?25hCollecting httpx>=0.24.1 (from gradio)\n",
            "  Downloading httpx-0.27.0-py3-none-any.whl (75 kB)\n",
            "\u001b[2K     \u001b[90m━━━━━━━━━━━━━━━━━━━━━━━━━━━━━━━━━━━━━━━━\u001b[0m \u001b[32m75.6/75.6 kB\u001b[0m \u001b[31m9.6 MB/s\u001b[0m eta \u001b[36m0:00:00\u001b[0m\n",
            "\u001b[?25hRequirement already satisfied: huggingface-hub>=0.19.3 in /usr/local/lib/python3.10/dist-packages (from gradio) (0.20.3)\n",
            "Requirement already satisfied: importlib-resources<7.0,>=1.3 in /usr/local/lib/python3.10/dist-packages (from gradio) (6.1.2)\n",
            "Requirement already satisfied: jinja2<4.0 in /usr/local/lib/python3.10/dist-packages (from gradio) (3.1.3)\n",
            "Requirement already satisfied: markupsafe~=2.0 in /usr/local/lib/python3.10/dist-packages (from gradio) (2.1.5)\n",
            "Requirement already satisfied: matplotlib~=3.0 in /usr/local/lib/python3.10/dist-packages (from gradio) (3.7.1)\n",
            "Requirement already satisfied: numpy~=1.0 in /usr/local/lib/python3.10/dist-packages (from gradio) (1.25.2)\n",
            "Collecting orjson~=3.0 (from gradio)\n",
            "  Downloading orjson-3.9.15-cp310-cp310-manylinux_2_17_x86_64.manylinux2014_x86_64.whl (138 kB)\n",
            "\u001b[2K     \u001b[90m━━━━━━━━━━━━━━━━━━━━━━━━━━━━━━━━━━━━━━━━\u001b[0m \u001b[32m138.5/138.5 kB\u001b[0m \u001b[31m19.5 MB/s\u001b[0m eta \u001b[36m0:00:00\u001b[0m\n",
            "\u001b[?25hRequirement already satisfied: packaging in /usr/local/lib/python3.10/dist-packages (from gradio) (23.2)\n",
            "Requirement already satisfied: pandas<3.0,>=1.0 in /usr/local/lib/python3.10/dist-packages (from gradio) (1.5.3)\n",
            "Requirement already satisfied: pillow<11.0,>=8.0 in /usr/local/lib/python3.10/dist-packages (from gradio) (9.4.0)\n",
            "Requirement already satisfied: pydantic>=2.0 in /usr/local/lib/python3.10/dist-packages (from gradio) (2.6.3)\n",
            "Collecting pydub (from gradio)\n",
            "  Downloading pydub-0.25.1-py2.py3-none-any.whl (32 kB)\n",
            "Collecting python-multipart>=0.0.9 (from gradio)\n",
            "  Downloading python_multipart-0.0.9-py3-none-any.whl (22 kB)\n",
            "Requirement already satisfied: pyyaml<7.0,>=5.0 in /usr/local/lib/python3.10/dist-packages (from gradio) (6.0.1)\n",
            "Collecting ruff>=0.2.2 (from gradio)\n",
            "  Downloading ruff-0.3.2-py3-none-manylinux_2_17_x86_64.manylinux2014_x86_64.whl (7.9 MB)\n",
            "\u001b[2K     \u001b[90m━━━━━━━━━━━━━━━━━━━━━━━━━━━━━━━━━━━━━━━━\u001b[0m \u001b[32m7.9/7.9 MB\u001b[0m \u001b[31m89.4 MB/s\u001b[0m eta \u001b[36m0:00:00\u001b[0m\n",
            "\u001b[?25hCollecting semantic-version~=2.0 (from gradio)\n",
            "  Downloading semantic_version-2.10.0-py2.py3-none-any.whl (15 kB)\n",
            "Collecting tomlkit==0.12.0 (from gradio)\n",
            "  Downloading tomlkit-0.12.0-py3-none-any.whl (37 kB)\n",
            "Requirement already satisfied: typer[all]<1.0,>=0.9 in /usr/local/lib/python3.10/dist-packages (from gradio) (0.9.0)\n",
            "Requirement already satisfied: typing-extensions~=4.0 in /usr/local/lib/python3.10/dist-packages (from gradio) (4.10.0)\n",
            "Collecting uvicorn>=0.14.0 (from gradio)\n",
            "  Downloading uvicorn-0.28.0-py3-none-any.whl (60 kB)\n",
            "\u001b[2K     \u001b[90m━━━━━━━━━━━━━━━━━━━━━━━━━━━━━━━━━━━━━━━━\u001b[0m \u001b[32m60.6/60.6 kB\u001b[0m \u001b[31m8.0 MB/s\u001b[0m eta \u001b[36m0:00:00\u001b[0m\n",
            "\u001b[?25hRequirement already satisfied: fsspec in /usr/local/lib/python3.10/dist-packages (from gradio-client==0.12.0->gradio) (2023.6.0)\n",
            "Collecting websockets<12.0,>=10.0 (from gradio-client==0.12.0->gradio)\n",
            "  Downloading websockets-11.0.3-cp310-cp310-manylinux_2_5_x86_64.manylinux1_x86_64.manylinux_2_17_x86_64.manylinux2014_x86_64.whl (129 kB)\n",
            "\u001b[2K     \u001b[90m━━━━━━━━━━━━━━━━━━━━━━━━━━━━━━━━━━━━━━━━\u001b[0m \u001b[32m129.9/129.9 kB\u001b[0m \u001b[31m17.3 MB/s\u001b[0m eta \u001b[36m0:00:00\u001b[0m\n",
            "\u001b[?25hRequirement already satisfied: entrypoints in /usr/local/lib/python3.10/dist-packages (from altair<6.0,>=4.2.0->gradio) (0.4)\n",
            "Requirement already satisfied: jsonschema>=3.0 in /usr/local/lib/python3.10/dist-packages (from altair<6.0,>=4.2.0->gradio) (4.19.2)\n",
            "Requirement already satisfied: toolz in /usr/local/lib/python3.10/dist-packages (from altair<6.0,>=4.2.0->gradio) (0.12.1)\n",
            "Requirement already satisfied: anyio in /usr/local/lib/python3.10/dist-packages (from httpx>=0.24.1->gradio) (3.7.1)\n",
            "Requirement already satisfied: certifi in /usr/local/lib/python3.10/dist-packages (from httpx>=0.24.1->gradio) (2024.2.2)\n",
            "Collecting httpcore==1.* (from httpx>=0.24.1->gradio)\n",
            "  Downloading httpcore-1.0.4-py3-none-any.whl (77 kB)\n",
            "\u001b[2K     \u001b[90m━━━━━━━━━━━━━━━━━━━━━━━━━━━━━━━━━━━━━━━━\u001b[0m \u001b[32m77.8/77.8 kB\u001b[0m \u001b[31m10.7 MB/s\u001b[0m eta \u001b[36m0:00:00\u001b[0m\n",
            "\u001b[?25hRequirement already satisfied: idna in /usr/local/lib/python3.10/dist-packages (from httpx>=0.24.1->gradio) (3.6)\n",
            "Requirement already satisfied: sniffio in /usr/local/lib/python3.10/dist-packages (from httpx>=0.24.1->gradio) (1.3.1)\n",
            "Collecting h11<0.15,>=0.13 (from httpcore==1.*->httpx>=0.24.1->gradio)\n",
            "  Downloading h11-0.14.0-py3-none-any.whl (58 kB)\n",
            "\u001b[2K     \u001b[90m━━━━━━━━━━━━━━━━━━━━━━━━━━━━━━━━━━━━━━━━\u001b[0m \u001b[32m58.3/58.3 kB\u001b[0m \u001b[31m8.3 MB/s\u001b[0m eta \u001b[36m0:00:00\u001b[0m\n",
            "\u001b[?25hRequirement already satisfied: filelock in /usr/local/lib/python3.10/dist-packages (from huggingface-hub>=0.19.3->gradio) (3.13.1)\n",
            "Requirement already satisfied: requests in /usr/local/lib/python3.10/dist-packages (from huggingface-hub>=0.19.3->gradio) (2.31.0)\n",
            "Requirement already satisfied: tqdm>=4.42.1 in /usr/local/lib/python3.10/dist-packages (from huggingface-hub>=0.19.3->gradio) (4.66.2)\n",
            "Requirement already satisfied: contourpy>=1.0.1 in /usr/local/lib/python3.10/dist-packages (from matplotlib~=3.0->gradio) (1.2.0)\n",
            "Requirement already satisfied: cycler>=0.10 in /usr/local/lib/python3.10/dist-packages (from matplotlib~=3.0->gradio) (0.12.1)\n",
            "Requirement already satisfied: fonttools>=4.22.0 in /usr/local/lib/python3.10/dist-packages (from matplotlib~=3.0->gradio) (4.49.0)\n",
            "Requirement already satisfied: kiwisolver>=1.0.1 in /usr/local/lib/python3.10/dist-packages (from matplotlib~=3.0->gradio) (1.4.5)\n",
            "Requirement already satisfied: pyparsing>=2.3.1 in /usr/local/lib/python3.10/dist-packages (from matplotlib~=3.0->gradio) (3.1.1)\n",
            "Requirement already satisfied: python-dateutil>=2.7 in /usr/local/lib/python3.10/dist-packages (from matplotlib~=3.0->gradio) (2.8.2)\n",
            "Requirement already satisfied: pytz>=2020.1 in /usr/local/lib/python3.10/dist-packages (from pandas<3.0,>=1.0->gradio) (2023.4)\n",
            "Requirement already satisfied: annotated-types>=0.4.0 in /usr/local/lib/python3.10/dist-packages (from pydantic>=2.0->gradio) (0.6.0)\n",
            "Requirement already satisfied: pydantic-core==2.16.3 in /usr/local/lib/python3.10/dist-packages (from pydantic>=2.0->gradio) (2.16.3)\n",
            "Requirement already satisfied: click<9.0.0,>=7.1.1 in /usr/local/lib/python3.10/dist-packages (from typer[all]<1.0,>=0.9->gradio) (8.1.7)\n",
            "Collecting colorama<0.5.0,>=0.4.3 (from typer[all]<1.0,>=0.9->gradio)\n",
            "  Downloading colorama-0.4.6-py2.py3-none-any.whl (25 kB)\n",
            "Collecting shellingham<2.0.0,>=1.3.0 (from typer[all]<1.0,>=0.9->gradio)\n",
            "  Downloading shellingham-1.5.4-py2.py3-none-any.whl (9.8 kB)\n",
            "Requirement already satisfied: rich<14.0.0,>=10.11.0 in /usr/local/lib/python3.10/dist-packages (from typer[all]<1.0,>=0.9->gradio) (13.7.1)\n",
            "Collecting starlette<0.37.0,>=0.36.3 (from fastapi->gradio)\n",
            "  Downloading starlette-0.36.3-py3-none-any.whl (71 kB)\n",
            "\u001b[2K     \u001b[90m━━━━━━━━━━━━━━━━━━━━━━━━━━━━━━━━━━━━━━━━\u001b[0m \u001b[32m71.5/71.5 kB\u001b[0m \u001b[31m9.2 MB/s\u001b[0m eta \u001b[36m0:00:00\u001b[0m\n",
            "\u001b[?25hRequirement already satisfied: attrs>=22.2.0 in /usr/local/lib/python3.10/dist-packages (from jsonschema>=3.0->altair<6.0,>=4.2.0->gradio) (23.2.0)\n",
            "Requirement already satisfied: jsonschema-specifications>=2023.03.6 in /usr/local/lib/python3.10/dist-packages (from jsonschema>=3.0->altair<6.0,>=4.2.0->gradio) (2023.12.1)\n",
            "Requirement already satisfied: referencing>=0.28.4 in /usr/local/lib/python3.10/dist-packages (from jsonschema>=3.0->altair<6.0,>=4.2.0->gradio) (0.33.0)\n",
            "Requirement already satisfied: rpds-py>=0.7.1 in /usr/local/lib/python3.10/dist-packages (from jsonschema>=3.0->altair<6.0,>=4.2.0->gradio) (0.18.0)\n",
            "Requirement already satisfied: six>=1.5 in /usr/local/lib/python3.10/dist-packages (from python-dateutil>=2.7->matplotlib~=3.0->gradio) (1.16.0)\n",
            "Requirement already satisfied: markdown-it-py>=2.2.0 in /usr/local/lib/python3.10/dist-packages (from rich<14.0.0,>=10.11.0->typer[all]<1.0,>=0.9->gradio) (3.0.0)\n",
            "Requirement already satisfied: pygments<3.0.0,>=2.13.0 in /usr/local/lib/python3.10/dist-packages (from rich<14.0.0,>=10.11.0->typer[all]<1.0,>=0.9->gradio) (2.16.1)\n",
            "Requirement already satisfied: exceptiongroup in /usr/local/lib/python3.10/dist-packages (from anyio->httpx>=0.24.1->gradio) (1.2.0)\n",
            "Requirement already satisfied: charset-normalizer<4,>=2 in /usr/local/lib/python3.10/dist-packages (from requests->huggingface-hub>=0.19.3->gradio) (3.3.2)\n",
            "Requirement already satisfied: urllib3<3,>=1.21.1 in /usr/local/lib/python3.10/dist-packages (from requests->huggingface-hub>=0.19.3->gradio) (2.0.7)\n",
            "Requirement already satisfied: mdurl~=0.1 in /usr/local/lib/python3.10/dist-packages (from markdown-it-py>=2.2.0->rich<14.0.0,>=10.11.0->typer[all]<1.0,>=0.9->gradio) (0.1.2)\n",
            "Building wheels for collected packages: ffmpy\n",
            "  Building wheel for ffmpy (setup.py) ... \u001b[?25l\u001b[?25hdone\n",
            "  Created wheel for ffmpy: filename=ffmpy-0.3.2-py3-none-any.whl size=5584 sha256=ad0d172f7d7d6dcfa1291da229b8e0824856268a91d90ea73f4f06465c01e36d\n",
            "  Stored in directory: /root/.cache/pip/wheels/bd/65/9a/671fc6dcde07d4418df0c592f8df512b26d7a0029c2a23dd81\n",
            "Successfully built ffmpy\n",
            "Installing collected packages: pydub, ffmpy, websockets, tomlkit, shellingham, semantic-version, ruff, python-multipart, orjson, h11, colorama, aiofiles, uvicorn, starlette, httpcore, httpx, fastapi, gradio-client, gradio\n",
            "Successfully installed aiofiles-23.2.1 colorama-0.4.6 fastapi-0.110.0 ffmpy-0.3.2 gradio-4.21.0 gradio-client-0.12.0 h11-0.14.0 httpcore-1.0.4 httpx-0.27.0 orjson-3.9.15 pydub-0.25.1 python-multipart-0.0.9 ruff-0.3.2 semantic-version-2.10.0 shellingham-1.5.4 starlette-0.36.3 tomlkit-0.12.0 uvicorn-0.28.0 websockets-11.0.3\n"
          ]
        }
      ]
    },
    {
      "cell_type": "markdown",
      "source": [
        "#### 2. Проверка обученной модели пользовательскими данными"
      ],
      "metadata": {
        "id": "8UQpi9te2D4J"
      }
    },
    {
      "cell_type": "code",
      "source": [
        "import gradio as gr\n",
        "\n",
        "def preprocess_input(features, scale_model=\"scaler.pkl\"):\n",
        "  try:\n",
        "    # Преобразование в NumPy массив\n",
        "    features = np.array(features)\n",
        "\n",
        "    # Проверка на пустой массив\n",
        "    if not features.size:\n",
        "      raise ValueError(\"Пустой массив признаков!\")\n",
        "\n",
        "    # Изменение размерности массива (8,) -> (1, 8)\n",
        "    features = features.reshape(1, -1)\n",
        "\n",
        "    # Загрузка модели масштабирования\n",
        "    with open(scale_model, \"rb\") as f:\n",
        "      scaler = pickle.load(f)\n",
        "\n",
        "    # Масштабирование признаков\n",
        "    features = scaler.transform(features)\n",
        "\n",
        "  except Exception as e:\n",
        "    raise ValueError(f\"Ошибка при предобработке: {e}\")\n",
        "\n",
        "  return features\n",
        "\n",
        "def predict_price(*features):\n",
        "  try:\n",
        "    features = preprocess_input(features)\n",
        "\n",
        "    prediction = model.predict(features, verbose=0)\n",
        "\n",
        "    # Проверка на ошибки прогнозирования\n",
        "    if np.isnan(prediction).any():\n",
        "      raise ValueError(\"Ошибка при прогнозировании: NaN\")\n",
        "\n",
        "  except Exception as e:\n",
        "    raise ValueError(f\"Ошибка при прогнозировании: {e}\")\n",
        "\n",
        "  # Возвращение прогнозируемой цены\n",
        "  # (умножение на 1000 для отображения в тысячах долларов)\n",
        "  return prediction[0][0]\n",
        "\n",
        "# Интерфейс Gradio\n",
        "interface = gr.Interface(\n",
        "    fn=predict_price,\n",
        "    inputs=[\n",
        "        gr.Slider(label=\"CRIM\", minimum=0, maximum=100, step=0.1, value=X_train[0][0]),\n",
        "        gr.Slider(label=\"ZN\", minimum=0, maximum=100, step=0.1, value=X_train[0][1]),\n",
        "        gr.Slider(label=\"INDUS\", minimum=0, maximum=100, step=0.1, value=X_train[0][2]),\n",
        "        gr.Slider(label=\"CHAS\", minimum=0, maximum=1, step=1, value=X_train[0][3]),\n",
        "        gr.Slider(label=\"NOX\", minimum=0, maximum=10, step=0.1, value=X_train[0][4]),\n",
        "        gr.Slider(label=\"RM\", minimum=0, maximum=50, step=0.001, value=X_train[0][5]),\n",
        "        gr.Slider(label=\"AGE\", minimum=0, maximum=100, step=0.1, value=X_train[0][6]),\n",
        "        gr.Slider(label=\"DIS\", minimum=0, maximum=1000, step=0.10, value=X_train[0][7]),\n",
        "        gr.Slider(label=\"RAD\", minimum=0, maximum=1000, step=0.10, value=X_train[0][8]),\n",
        "        gr.Slider(label=\"TAX\", minimum=0, maximum=10000, step=1, value=X_train[0][9]),\n",
        "        gr.Slider(label=\"PTRATIO\", minimum=0, maximum=100, step=1, value=X_train[0][10]),\n",
        "        gr.Slider(label=\"B\", minimum=0, maximum=1000, step=0.1, value=X_train[0][11]),\n",
        "        gr.Slider(label=\"LSTAT\", minimum=0, maximum=1000, step=0.1, value=X_train[0]12]),\n",
        "    ],\n",
        "    # Обновление при каждом изменении\n",
        "    live=True,\n",
        "    outputs=gr.Text(label=\"Predicted Price ($)\"),\n",
        ")\n",
        "\n",
        "# Запуск интерфейса\n",
        "interface.launch(debug=False, share=True)"
      ],
      "metadata": {
        "id": "hBprX1YaxRXT",
        "colab": {
          "base_uri": "https://localhost:8080/",
          "height": 614
        },
        "outputId": "8b6502d4-1f6d-487b-f34f-d16bb914a6e4"
      },
      "execution_count": 29,
      "outputs": [
        {
          "output_type": "stream",
          "name": "stdout",
          "text": [
            "Colab notebook detected. To show errors in colab notebook, set debug=True in launch()\n",
            "Running on public URL: https://73b1df4331883ebb19.gradio.live\n",
            "\n",
            "This share link expires in 72 hours. For free permanent hosting and GPU upgrades, run `gradio deploy` from Terminal to deploy to Spaces (https://huggingface.co/spaces)\n"
          ]
        },
        {
          "output_type": "display_data",
          "data": {
            "text/plain": [
              "<IPython.core.display.HTML object>"
            ],
            "text/html": [
              "<div><iframe src=\"https://73b1df4331883ebb19.gradio.live\" width=\"100%\" height=\"500\" allow=\"autoplay; camera; microphone; clipboard-read; clipboard-write;\" frameborder=\"0\" allowfullscreen></iframe></div>"
            ]
          },
          "metadata": {}
        },
        {
          "output_type": "execute_result",
          "data": {
            "text/plain": []
          },
          "metadata": {},
          "execution_count": 29
        }
      ]
    },
    {
      "cell_type": "markdown",
      "source": [
        "## Задание №2.Обучение модели ИНС для решения задачи классификации\n",
        "\n"
      ],
      "metadata": {
        "id": "DQQMXC8garr3"
      }
    },
    {
      "cell_type": "markdown",
      "source": [
        "Порядок работы:"
      ],
      "metadata": {
        "id": "1OAwSdaG36Ip"
      }
    },
    {
      "cell_type": "markdown",
      "source": [
        "* 1. Собрать датасет из изображений, соответствующих не менее, чем 3 классам объектов (в\n",
        "примере с пары были кошки, собаки и панды).\n"
      ],
      "metadata": {
        "id": "q8COT3YubK-X"
      }
    },
    {
      "cell_type": "markdown",
      "source": [
        "- 2. Для каждого класса должно быть собрано не менее 1000 изображений. Количество\n",
        "изображений для каждого класса должно быть одинаковым.\n",
        "Готовые датасеты можно скачать отсюда: https://www.kaggle.com/\n"
      ],
      "metadata": {
        "id": "YstDH7J2bM5F"
      }
    },
    {
      "cell_type": "markdown",
      "source": [
        "- 3. Обучить модель глубокой нейронной сети для решения задачи классификации\n",
        "изображений, по выбранным Вами классам. (В качестве примера приведён код с пары)\n",
        "В конечном итоге Вы должны сохранить обученную модель для классификации\n",
        "изображений, соответствующих тем классам, которые Вы выбрали, а затем воспользоваться этой моделью для предсказания классов на пользовательских изображениях.\n",
        "\n"
      ],
      "metadata": {
        "id": "9aTvc3A4bN_h"
      }
    },
    {
      "cell_type": "markdown",
      "source": [
        "> При выполнении заданий пробуйте использовать разные функции потерь,\n",
        "методы оптимизации, функции активации и метрики ошибок."
      ],
      "metadata": {
        "id": "yKU34aHabUfp"
      }
    },
    {
      "cell_type": "markdown",
      "source": [
        "### 1. Устанавливаем зависимости:"
      ],
      "metadata": {
        "id": "l8zEG_g8O-Ge"
      }
    },
    {
      "cell_type": "code",
      "execution_count": 47,
      "metadata": {
        "id": "sh6kN7IMO8de"
      },
      "outputs": [],
      "source": [
        "# Импортируем LabelBinarizer для преобразования текстовых меток в векторы\n",
        "# (например, \"кошка\" -> [1, 0, 0], \"собака\" -> [0, 1, 0], \"панда\" -> [0, 0, 1])\n",
        "from sklearn.preprocessing import LabelBinarizer\n",
        "\n",
        "# Импортируем train_test_split для разделения данных на обучающую и тестовую выборки\n",
        "from sklearn.model_selection import train_test_split\n",
        "\n",
        "# Импортируем classification_report для оценки качества классификации\n",
        "from sklearn.metrics import classification_report\n",
        "\n",
        "# Импортируем Sequential для создания последовательной модели нейронной сети\n",
        "from keras.models import Sequential\n",
        "\n",
        "# Импортируем Dense для создания плотных слоев нейронной сети\n",
        "from keras.layers import Dense\n",
        "\n",
        "# Импортируем SGD и Adam для оптимизации обучения нейронной сети\n",
        "from keras.optimizers import SGD, Adam\n",
        "\n",
        "# Импортируем paths из imutils для удобной работы с путями к изображениям\n",
        "from imutils import paths\n",
        "\n",
        "# Импортируем pyplot из matplotlib для визуализации данных\n",
        "import matplotlib.pyplot as plt\n",
        "\n",
        "# Импортируем numpy для работы с массивами данных\n",
        "import numpy as np\n",
        "\n",
        "# Импортируем random для генерации случайных чисел\n",
        "import random\n",
        "\n",
        "# Импортируем pickle для сериализации и десериализации данных\n",
        "import pickle\n",
        "\n",
        "# Импортируем cv2 для работы с изображениями\n",
        "import cv2\n",
        "\n",
        "# Импортируем os для работы с файловой системой\n",
        "import os\n",
        "\n",
        "# Импортируем cv2_imshow из google.colab.patches для отображения изображений в Colab\n",
        "from google.colab.patches import cv2_imshow"
      ]
    },
    {
      "cell_type": "markdown",
      "source": [
        "### 2. Загружаем набор данных:"
      ],
      "metadata": {
        "id": "aJextk3pO8Ko"
      }
    },
    {
      "cell_type": "code",
      "execution_count": 48,
      "metadata": {
        "id": "ZQOhPesK2-J8",
        "colab": {
          "base_uri": "https://localhost:8080/"
        },
        "outputId": "f38ca9b3-474b-4501-f492-5eef7e89f64e"
      },
      "outputs": [
        {
          "output_type": "stream",
          "name": "stdout",
          "text": [
            "Requirement already satisfied: wldhx.yadisk-direct in /usr/local/lib/python3.10/dist-packages (0.0.6)\n",
            "Requirement already satisfied: requests in /usr/local/lib/python3.10/dist-packages (from wldhx.yadisk-direct) (2.31.0)\n",
            "Requirement already satisfied: charset-normalizer<4,>=2 in /usr/local/lib/python3.10/dist-packages (from requests->wldhx.yadisk-direct) (3.3.2)\n",
            "Requirement already satisfied: idna<4,>=2.5 in /usr/local/lib/python3.10/dist-packages (from requests->wldhx.yadisk-direct) (3.6)\n",
            "Requirement already satisfied: urllib3<3,>=1.21.1 in /usr/local/lib/python3.10/dist-packages (from requests->wldhx.yadisk-direct) (2.0.7)\n",
            "Requirement already satisfied: certifi>=2017.4.17 in /usr/local/lib/python3.10/dist-packages (from requests->wldhx.yadisk-direct) (2024.2.2)\n",
            "  % Total    % Received % Xferd  Average Speed   Time    Time     Time  Current\n",
            "                                 Dload  Upload   Total   Spent    Left  Speed\n",
            "  0     0    0     0    0     0      0      0 --:--:-- --:--:-- --:--:--     0\n",
            "100 58.2M  100 58.2M    0     0  10.3M      0  0:00:05  0:00:05 --:--:-- 12.2M\n"
          ]
        }
      ],
      "source": [
        "#https://www.kaggle.com/models/google/gemma/frameworks/keras\n",
        "\n",
        "! pip install wldhx.yadisk-direct\n",
        "! curl -L $(yadisk-direct https://disk.yandex.ru/d/H2qeMxdyQE0mgQ) -o raw-img.zip\n",
        "! unzip -o -qq raw-img.zip"
      ]
    },
    {
      "cell_type": "markdown",
      "source": [
        "### 3. Указываем путь к набору данных:"
      ],
      "metadata": {
        "id": "pX1km_kyV2Ka"
      }
    },
    {
      "cell_type": "markdown",
      "source": [],
      "metadata": {
        "id": "L7asOZeJDdSF"
      }
    },
    {
      "cell_type": "code",
      "execution_count": 49,
      "metadata": {
        "id": "hAqtXKu62-bU"
      },
      "outputs": [],
      "source": [
        "import glob\n",
        "\n",
        "image_paths = []\n",
        "for folder_path in glob.glob('/content/raw-img/*'):\n",
        "    image_paths.extend(glob.glob(folder_path + '/*.jpeg'))\n",
        "\n",
        "random.shuffle(sorted(image_paths))\n"
      ]
    },
    {
      "cell_type": "markdown",
      "source": [
        "### 4. Загружаем набор данных и формируем общую выборку:"
      ],
      "metadata": {
        "id": "sAYZPzKSVobq"
      }
    },
    {
      "cell_type": "code",
      "execution_count": 50,
      "metadata": {
        "id": "1dqs5r-92-x7"
      },
      "outputs": [],
      "source": [
        "def load_images(imagePaths, compression_size = 32):\n",
        "\n",
        "  data = []\n",
        "  labels = []\n",
        "\n",
        "  for imagePath in imagePaths:\n",
        "    # Загрузка изображения\n",
        "    image = cv2.imread(imagePath)\n",
        "\n",
        "    # Изменение разрешения изображения (по умолчанию 32х32х3 -> 3072,)\n",
        "    image = cv2.resize(image, (compression_size, compression_size)).flatten()\n",
        "\n",
        "    # Добавление изображения в список\n",
        "    data.append(image)\n",
        "\n",
        "    # Извлечение метки класса из пути к изображению\n",
        "    label = imagePath.split(os.path.sep)[-2]\n",
        "\n",
        "    # Добавление метки в список\n",
        "    labels.append(label)\n",
        "\n",
        "  return data, labels"
      ]
    },
    {
      "cell_type": "code",
      "source": [
        "compression_size = 32\n",
        "data, labels = load_images(image_paths,  32)"
      ],
      "metadata": {
        "id": "sC_ApsH9eFti"
      },
      "execution_count": 51,
      "outputs": []
    },
    {
      "cell_type": "markdown",
      "source": [
        "#### 4.1. Нормализуем данные:"
      ],
      "metadata": {
        "id": "yeiILoUSXn4c"
      }
    },
    {
      "cell_type": "markdown",
      "source": [
        "Масштабируем интенсивности пикселей в диапазон [0, 1], а также преобразуем данные в массивы NumPy для повышения производительности\n"
      ],
      "metadata": {
        "id": "PceSnJBEZDPm"
      }
    },
    {
      "cell_type": "code",
      "execution_count": 52,
      "metadata": {
        "id": "wejqgr9U2_hf"
      },
      "outputs": [],
      "source": [
        "data = np.array(data, dtype=\"float\") / 255.0\n",
        "labels = np.array(labels)"
      ]
    },
    {
      "cell_type": "markdown",
      "source": [
        "#### 4.2. Формируем обучающую и валидационную выборки:"
      ],
      "metadata": {
        "id": "lREm4zIRaSsx"
      }
    },
    {
      "cell_type": "markdown",
      "source": [
        "Разделяем данные на обучающую и валидационную выборки, используя 75% данных для обучения и оставшиеся 25% для валидации"
      ],
      "metadata": {
        "id": "lwTSSQkPa9oI"
      }
    },
    {
      "cell_type": "code",
      "execution_count": 53,
      "metadata": {
        "id": "R23UTovQ3A7R"
      },
      "outputs": [],
      "source": [
        "(X_train, X_val, Y_train, Y_val) = train_test_split(data, labels, test_size=0.25, random_state=42)"
      ]
    },
    {
      "cell_type": "code",
      "source": [
        "lb = LabelBinarizer()\n",
        "Y_train = lb.fit_transform(Y_train)\n",
        "Y_val = lb.transform(Y_val)\n",
        "\n",
        "print(Y_train.shape, Y_val.shape)\n",
        "print(X_train.shape, X_val.shape)"
      ],
      "metadata": {
        "id": "eLaUOXYRfjFc",
        "colab": {
          "base_uri": "https://localhost:8080/"
        },
        "outputId": "8521b653-a6d8-4a82-8592-6bbce2ad2b23"
      },
      "execution_count": 54,
      "outputs": [
        {
          "output_type": "stream",
          "name": "stdout",
          "text": [
            "(3380, 3) (1127, 3)\n",
            "(3380, 3072) (1127, 3072)\n"
          ]
        }
      ]
    },
    {
      "cell_type": "markdown",
      "source": [
        "### 5. Создание модели:"
      ],
      "metadata": {
        "id": "Sz33nCuvc3Pk"
      }
    },
    {
      "cell_type": "markdown",
      "source": [
        "#### 5.1. Определим архитектуру модели с помощью Keras:"
      ],
      "metadata": {
        "id": "r2mcOGxEc-uB"
      }
    },
    {
      "cell_type": "markdown",
      "source": [],
      "metadata": {
        "id": "lBvC9Hhcw6N7"
      }
    },
    {
      "cell_type": "code",
      "execution_count": 55,
      "metadata": {
        "id": "nj_bAWxv3B0B"
      },
      "outputs": [],
      "source": [
        "input_shape = (compression_size * compression_size * 3,)"
      ]
    },
    {
      "cell_type": "markdown",
      "source": [
        "#### 5.2. Установим значение параметров скорости обучения и общего числа эпох\n"
      ],
      "metadata": {
        "id": "HHFTdcCkg1Wr"
      }
    },
    {
      "cell_type": "code",
      "execution_count": 56,
      "metadata": {
        "id": "pzlpLmGm3CMU"
      },
      "outputs": [],
      "source": [
        "model = Sequential()\n",
        "model.add(Dense(3072, input_shape=input_shape, activation=\"relu\"))\n",
        "model.add(Dense(128, activation=\"relu\"))\n",
        "model.add(Dense(len(lb.classes_), activation=\"softmax\"))"
      ]
    },
    {
      "cell_type": "markdown",
      "source": [
        "#### 5.3. Компилируем модель:"
      ],
      "metadata": {
        "id": "YaDdd2wphXLv"
      }
    },
    {
      "cell_type": "code",
      "execution_count": 59,
      "metadata": {
        "id": "3mxDQXSc3Cc5"
      },
      "outputs": [],
      "source": [
        "INIT_LR = 0.000005\n",
        "EPOCHS = 10\n",
        "\n",
        "opt = Adam(learning_rate=INIT_LR)\n",
        "\n",
        "model.compile(loss=\"categorical_crossentropy\", optimizer=opt, metrics=[\"accuracy\"])"
      ]
    },
    {
      "cell_type": "markdown",
      "source": [
        "### 6. Обучение модели искусственной нейронной сети:"
      ],
      "metadata": {
        "id": "EaJdxfw4hwjN"
      }
    },
    {
      "cell_type": "markdown",
      "source": [
        "#### 6.1. Добавим колбэки для сохранения лучшей модели по валидационной точности и остановки обучения, в случае, если модель перестала обучаться:"
      ],
      "metadata": {
        "id": "KAzlK96zi0dy"
      }
    },
    {
      "cell_type": "code",
      "execution_count": 60,
      "metadata": {
        "id": "2d6HT9jU3C3E"
      },
      "outputs": [],
      "source": [
        "from keras.callbacks import EarlyStopping, ModelCheckpoint\n",
        "\n",
        "early_stopping = EarlyStopping(patience=5,\n",
        "                             verbose=1) # Остановка обучения, если\n",
        "                                             # валидационная точность не\n",
        "                                             # улучшается в течение 5 эпох\n",
        "checkpoint = ModelCheckpoint(filepath=\"best_model.h5\",\n",
        "                             monitor=\"val_accuracy\",\n",
        "                             save_best_only=True,\n",
        "                             verbose=1) # Сохранение модели\n",
        "                                         # только при улучшении\n",
        "                                         # валидационной точности\n"
      ]
    },
    {
      "cell_type": "markdown",
      "source": [
        "#### 6.2. Запустим процесс обучения модели:"
      ],
      "metadata": {
        "id": "IgakM035jDPi"
      }
    },
    {
      "cell_type": "code",
      "execution_count": 61,
      "metadata": {
        "id": "YNloZiKH3DMV",
        "colab": {
          "base_uri": "https://localhost:8080/"
        },
        "outputId": "281bf949-3379-4928-8305-ac5a92402fd3"
      },
      "outputs": [
        {
          "output_type": "stream",
          "name": "stdout",
          "text": [
            "Epoch 1/10\n",
            "34/34 [==============================] - ETA: 0s - loss: 1.0781 - accuracy: 0.4071\n",
            "Epoch 1: val_accuracy improved from -inf to 0.46406, saving model to best_model.h5\n"
          ]
        },
        {
          "output_type": "stream",
          "name": "stderr",
          "text": [
            "/usr/local/lib/python3.10/dist-packages/keras/src/engine/training.py:3103: UserWarning: You are saving your model as an HDF5 file via `model.save()`. This file format is considered legacy. We recommend using instead the native Keras format, e.g. `model.save('my_model.keras')`.\n",
            "  saving_api.save_model(\n"
          ]
        },
        {
          "output_type": "stream",
          "name": "stdout",
          "text": [
            "\b\b\b\b\b\b\b\b\b\b\b\b\b\b\b\b\b\b\b\b\b\b\b\b\b\b\b\b\b\b\b\b\b\b\b\b\b\b\b\b\b\b\b\b\b\b\b\b\b\b\b\b\b\b\b\b\b\b\b\b\b\b\b\b\b\b\b\b\b\b\b\b\b\b\b\b\b\b\b\b\b\b\r34/34 [==============================] - 27s 719ms/step - loss: 1.0781 - accuracy: 0.4071 - val_loss: 1.0456 - val_accuracy: 0.4641\n",
            "Epoch 2/10\n",
            "34/34 [==============================] - ETA: 0s - loss: 1.0272 - accuracy: 0.4861\n",
            "Epoch 2: val_accuracy improved from 0.46406 to 0.48891, saving model to best_model.h5\n",
            "34/34 [==============================] - 24s 688ms/step - loss: 1.0272 - accuracy: 0.4861 - val_loss: 1.0207 - val_accuracy: 0.4889\n",
            "Epoch 3/10\n",
            "34/34 [==============================] - ETA: 0s - loss: 0.9940 - accuracy: 0.5269\n",
            "Epoch 3: val_accuracy improved from 0.48891 to 0.49601, saving model to best_model.h5\n",
            "34/34 [==============================] - 10s 297ms/step - loss: 0.9940 - accuracy: 0.5269 - val_loss: 1.0025 - val_accuracy: 0.4960\n",
            "Epoch 4/10\n",
            "34/34 [==============================] - ETA: 0s - loss: 0.9737 - accuracy: 0.5464\n",
            "Epoch 4: val_accuracy improved from 0.49601 to 0.51996, saving model to best_model.h5\n",
            "34/34 [==============================] - 10s 304ms/step - loss: 0.9737 - accuracy: 0.5464 - val_loss: 0.9833 - val_accuracy: 0.5200\n",
            "Epoch 5/10\n",
            "34/34 [==============================] - ETA: 0s - loss: 0.9557 - accuracy: 0.5550\n",
            "Epoch 5: val_accuracy did not improve from 0.51996\n",
            "34/34 [==============================] - 9s 253ms/step - loss: 0.9557 - accuracy: 0.5550 - val_loss: 0.9902 - val_accuracy: 0.5155\n",
            "Epoch 6/10\n",
            "34/34 [==============================] - ETA: 0s - loss: 0.9382 - accuracy: 0.5722\n",
            "Epoch 6: val_accuracy improved from 0.51996 to 0.52174, saving model to best_model.h5\n",
            "34/34 [==============================] - 10s 292ms/step - loss: 0.9382 - accuracy: 0.5722 - val_loss: 0.9676 - val_accuracy: 0.5217\n",
            "Epoch 7/10\n",
            "34/34 [==============================] - ETA: 0s - loss: 0.9221 - accuracy: 0.5879\n",
            "Epoch 7: val_accuracy improved from 0.52174 to 0.53860, saving model to best_model.h5\n",
            "34/34 [==============================] - 10s 296ms/step - loss: 0.9221 - accuracy: 0.5879 - val_loss: 0.9555 - val_accuracy: 0.5386\n",
            "Epoch 8/10\n",
            "34/34 [==============================] - ETA: 0s - loss: 0.9075 - accuracy: 0.6038\n",
            "Epoch 8: val_accuracy improved from 0.53860 to 0.54392, saving model to best_model.h5\n",
            "34/34 [==============================] - 10s 306ms/step - loss: 0.9075 - accuracy: 0.6038 - val_loss: 0.9527 - val_accuracy: 0.5439\n",
            "Epoch 9/10\n",
            "34/34 [==============================] - ETA: 0s - loss: 0.8982 - accuracy: 0.6044\n",
            "Epoch 9: val_accuracy improved from 0.54392 to 0.55812, saving model to best_model.h5\n",
            "34/34 [==============================] - 9s 265ms/step - loss: 0.8982 - accuracy: 0.6044 - val_loss: 0.9382 - val_accuracy: 0.5581\n",
            "Epoch 10/10\n",
            "34/34 [==============================] - ETA: 0s - loss: 0.8846 - accuracy: 0.6204\n",
            "Epoch 10: val_accuracy did not improve from 0.55812\n",
            "34/34 [==============================] - 10s 299ms/step - loss: 0.8846 - accuracy: 0.6204 - val_loss: 0.9463 - val_accuracy: 0.5333\n"
          ]
        }
      ],
      "source": [
        "H = model.fit(X_train, Y_train,\n",
        "              validation_data=(X_val, Y_val),\n",
        "              epochs=EPOCHS,\n",
        "              batch_size=100,\n",
        "              callbacks=[early_stopping, checkpoint]\n",
        "              )"
      ]
    },
    {
      "cell_type": "markdown",
      "source": [
        "#### 6.3. Загружаем лучшую модель:"
      ],
      "metadata": {
        "id": "-dESH383noKz"
      }
    },
    {
      "cell_type": "code",
      "execution_count": 62,
      "metadata": {
        "id": "_ZOMBkJk3Dgk"
      },
      "outputs": [],
      "source": [
        "from keras.models import load_model\n",
        "\n",
        "model = load_model(\"/content/best_model.h5\")"
      ]
    },
    {
      "cell_type": "markdown",
      "source": [
        "### 7. Оценка точности:"
      ],
      "metadata": {
        "id": "CLv-TknOoQ8l"
      }
    },
    {
      "cell_type": "markdown",
      "source": [
        "#### 7.1. Выведем отчет классификации"
      ],
      "metadata": {
        "id": "J16c8i49o2Kq"
      }
    },
    {
      "cell_type": "code",
      "execution_count": 63,
      "metadata": {
        "id": "cqmQz4mO3D5s",
        "colab": {
          "base_uri": "https://localhost:8080/"
        },
        "outputId": "1da76847-1803-451b-c095-7bcf6e0e0f61"
      },
      "outputs": [
        {
          "output_type": "stream",
          "name": "stdout",
          "text": [
            "36/36 [==============================] - 2s 40ms/step\n",
            "              precision    recall  f1-score   support\n",
            "\n",
            "        cane       0.60      0.66      0.63       378\n",
            "     cavallo       0.55      0.53      0.54       402\n",
            "       mucca       0.51      0.47      0.49       347\n",
            "\n",
            "    accuracy                           0.56      1127\n",
            "   macro avg       0.55      0.56      0.55      1127\n",
            "weighted avg       0.56      0.56      0.56      1127\n",
            "\n"
          ]
        }
      ],
      "source": [
        "predictions = model.predict(X_val, batch_size=32)\n",
        "print(classification_report(Y_val.argmax(axis=1),\n",
        "\tpredictions.argmax(axis=1), target_names=lb.classes_))"
      ]
    },
    {
      "cell_type": "markdown",
      "source": [
        "#### 7.2. Выведем матрицу ошибок"
      ],
      "metadata": {
        "id": "YwbFnynjpKYS"
      }
    },
    {
      "cell_type": "code",
      "execution_count": 64,
      "metadata": {
        "id": "77_vkdSk3EOd",
        "colab": {
          "base_uri": "https://localhost:8080/",
          "height": 451
        },
        "outputId": "d4e025d2-3edb-45e2-d568-c6e9c9cc3e39"
      },
      "outputs": [
        {
          "output_type": "stream",
          "name": "stdout",
          "text": [
            "36/36 [==============================] - 1s 24ms/step\n"
          ]
        },
        {
          "output_type": "display_data",
          "data": {
            "text/plain": [
              "<Figure size 640x480 with 2 Axes>"
            ],
            "image/png": "[encoded data removed]"
          },
          "metadata": {}
        }
      ],
      "source": [
        "from sklearn.metrics import confusion_matrix\n",
        "import seaborn as sns\n",
        "\n",
        "# Получим прогнозы по валидационным даннным\n",
        "Y_pred = model.predict(X_val, batch_size=32)\n",
        "\n",
        "# Преобразуем вероятности в метки классов\n",
        "Y_pred = Y_pred.argmax(axis=1)\n",
        "Y_val = Y_val.argmax(axis=1)\n",
        "\n",
        "# Вычисляем матрицу ошибок\n",
        "conf_mat = confusion_matrix(Y_val, Y_pred)\n",
        "\n",
        "# Визуализируем матрицу ошибок\n",
        "sns.heatmap(conf_mat, annot=True, fmt=\"d\", cmap=\"YlGnBu\")\n",
        "plt.show()"
      ]
    },
    {
      "cell_type": "markdown",
      "source": [
        "#### 7.3. Отобразим график обучения"
      ],
      "metadata": {
        "id": "oqoaYCciugwi"
      }
    },
    {
      "cell_type": "code",
      "execution_count": 65,
      "metadata": {
        "id": "ALa4XomM3EmL",
        "colab": {
          "base_uri": "https://localhost:8080/",
          "height": 477
        },
        "outputId": "b02697e9-7557-4e05-a560-4a32cf27956f"
      },
      "outputs": [
        {
          "output_type": "display_data",
          "data": {
            "text/plain": [
              "<Figure size 640x480 with 1 Axes>"
            ],
            "image/png": "[encoded data removed]"
          },
          "metadata": {}
        }
      ],
      "source": [
        "N = np.arange(0, 10)\n",
        "plt.style.use(\"ggplot\")\n",
        "plt.figure()\n",
        "plt.plot(N, H.history[\"loss\"], label=\"train_loss\")\n",
        "plt.plot(N, H.history[\"val_loss\"], label=\"val_loss\")\n",
        "plt.plot(N, H.history[\"accuracy\"], label=\"train_acc\")\n",
        "plt.plot(N, H.history[\"val_accuracy\"], label=\"val_acc\")\n",
        "plt.title(\"Training Loss and Accuracy (Simple NN)\")\n",
        "plt.xlabel(\"Epoch #\")\n",
        "plt.ylabel(\"Loss/Accuracy\")\n",
        "plt.legend()\n",
        "plt.savefig('plot.png')"
      ]
    },
    {
      "cell_type": "markdown",
      "source": [
        "### 8. Сохранение модели и меток классов:"
      ],
      "metadata": {
        "id": "RZfpw-xQu3Q8"
      }
    },
    {
      "cell_type": "code",
      "execution_count": 66,
      "metadata": {
        "id": "mGlt9K8N3E7D"
      },
      "outputs": [],
      "source": [
        "def save_model_and_labels(model, lb, model_path = \"model.h5\", labels_path = \"label_bin\"):\n",
        "\n",
        "    # Сохранение модели\n",
        "    model.save(model_path, save_format=\"h5\")\n",
        "\n",
        "    # Сохранение меток\n",
        "    with open(labels_path, \"wb\") as f:\n",
        "        f.write(pickle.dumps(lb))"
      ]
    },
    {
      "cell_type": "code",
      "source": [
        "model_path = \"model.h5\"\n",
        "labels_path = \"label_bin\"\n",
        "\n",
        "save_model_and_labels(model, lb, model_path, labels_path)"
      ],
      "metadata": {
        "colab": {
          "base_uri": "https://localhost:8080/"
        },
        "id": "2tlrdKo4riRF",
        "outputId": "e7a5471d-662d-4b99-efe6-55907da3fa1c"
      },
      "execution_count": 67,
      "outputs": [
        {
          "output_type": "stream",
          "name": "stderr",
          "text": [
            "/usr/local/lib/python3.10/dist-packages/keras/src/engine/training.py:3103: UserWarning: You are saving your model as an HDF5 file via `model.save()`. This file format is considered legacy. We recommend using instead the native Keras format, e.g. `model.save('my_model.keras')`.\n",
            "  saving_api.save_model(\n"
          ]
        }
      ]
    },
    {
      "cell_type": "markdown",
      "metadata": {
        "id": "YjyCuhw1aeti"
      },
      "source": [
        "### 9. Проверка обученной модели пользовательскими данными:"
      ]
    },
    {
      "cell_type": "markdown",
      "source": [
        "#### 9.1. Импортируем необходимые библиотеки"
      ],
      "metadata": {
        "id": "yfUIW800wuyu"
      }
    },
    {
      "cell_type": "code",
      "execution_count": 68,
      "metadata": {
        "id": "wk1qihbS3FR1",
        "colab": {
          "base_uri": "https://localhost:8080/"
        },
        "outputId": "d3f128ec-a80a-4207-f3d0-1cc6b7d5faef"
      },
      "outputs": [
        {
          "output_type": "stream",
          "name": "stdout",
          "text": [
            "Collecting gradio\n",
            "  Downloading gradio-4.21.0-py3-none-any.whl (17.0 MB)\n",
            "\u001b[2K     \u001b[90m━━━━━━━━━━━━━━━━━━━━━━━━━━━━━━━━━━━━━━━━\u001b[0m \u001b[32m17.0/17.0 MB\u001b[0m \u001b[31m35.7 MB/s\u001b[0m eta \u001b[36m0:00:00\u001b[0m\n",
            "\u001b[?25hCollecting aiofiles<24.0,>=22.0 (from gradio)\n",
            "  Downloading aiofiles-23.2.1-py3-none-any.whl (15 kB)\n",
            "Requirement already satisfied: altair<6.0,>=4.2.0 in /usr/local/lib/python3.10/dist-packages (from gradio) (4.2.2)\n",
            "Collecting fastapi (from gradio)\n",
            "  Downloading fastapi-0.110.0-py3-none-any.whl (92 kB)\n",
            "\u001b[2K     \u001b[90m━━━━━━━━━━━━━━━━━━━━━━━━━━━━━━━━━━━━━━━━\u001b[0m \u001b[32m92.1/92.1 kB\u001b[0m \u001b[31m10.3 MB/s\u001b[0m eta \u001b[36m0:00:00\u001b[0m\n",
            "\u001b[?25hCollecting ffmpy (from gradio)\n",
            "  Downloading ffmpy-0.3.2.tar.gz (5.5 kB)\n",
            "  Preparing metadata (setup.py) ... \u001b[?25l\u001b[?25hdone\n",
            "Collecting gradio-client==0.12.0 (from gradio)\n",
            "  Downloading gradio_client-0.12.0-py3-none-any.whl (310 kB)\n",
            "\u001b[2K     \u001b[90m━━━━━━━━━━━━━━━━━━━━━━━━━━━━━━━━━━━━━━━━\u001b[0m \u001b[32m310.7/310.7 kB\u001b[0m \u001b[31m28.7 MB/s\u001b[0m eta \u001b[36m0:00:00\u001b[0m\n",
            "\u001b[?25hCollecting httpx>=0.24.1 (from gradio)\n",
            "  Downloading httpx-0.27.0-py3-none-any.whl (75 kB)\n",
            "\u001b[2K     \u001b[90m━━━━━━━━━━━━━━━━━━━━━━━━━━━━━━━━━━━━━━━━\u001b[0m \u001b[32m75.6/75.6 kB\u001b[0m \u001b[31m8.6 MB/s\u001b[0m eta \u001b[36m0:00:00\u001b[0m\n",
            "\u001b[?25hRequirement already satisfied: huggingface-hub>=0.19.3 in /usr/local/lib/python3.10/dist-packages (from gradio) (0.20.3)\n",
            "Requirement already satisfied: importlib-resources<7.0,>=1.3 in /usr/local/lib/python3.10/dist-packages (from gradio) (6.1.2)\n",
            "Requirement already satisfied: jinja2<4.0 in /usr/local/lib/python3.10/dist-packages (from gradio) (3.1.3)\n",
            "Requirement already satisfied: markupsafe~=2.0 in /usr/local/lib/python3.10/dist-packages (from gradio) (2.1.5)\n",
            "Requirement already satisfied: matplotlib~=3.0 in /usr/local/lib/python3.10/dist-packages (from gradio) (3.7.1)\n",
            "Requirement already satisfied: numpy~=1.0 in /usr/local/lib/python3.10/dist-packages (from gradio) (1.25.2)\n",
            "Collecting orjson~=3.0 (from gradio)\n",
            "  Downloading orjson-3.9.15-cp310-cp310-manylinux_2_17_x86_64.manylinux2014_x86_64.whl (138 kB)\n",
            "\u001b[2K     \u001b[90m━━━━━━━━━━━━━━━━━━━━━━━━━━━━━━━━━━━━━━━━\u001b[0m \u001b[32m138.5/138.5 kB\u001b[0m \u001b[31m14.7 MB/s\u001b[0m eta \u001b[36m0:00:00\u001b[0m\n",
            "\u001b[?25hRequirement already satisfied: packaging in /usr/local/lib/python3.10/dist-packages (from gradio) (23.2)\n",
            "Requirement already satisfied: pandas<3.0,>=1.0 in /usr/local/lib/python3.10/dist-packages (from gradio) (1.5.3)\n",
            "Requirement already satisfied: pillow<11.0,>=8.0 in /usr/local/lib/python3.10/dist-packages (from gradio) (9.4.0)\n",
            "Requirement already satisfied: pydantic>=2.0 in /usr/local/lib/python3.10/dist-packages (from gradio) (2.6.3)\n",
            "Collecting pydub (from gradio)\n",
            "  Downloading pydub-0.25.1-py2.py3-none-any.whl (32 kB)\n",
            "Collecting python-multipart>=0.0.9 (from gradio)\n",
            "  Downloading python_multipart-0.0.9-py3-none-any.whl (22 kB)\n",
            "Requirement already satisfied: pyyaml<7.0,>=5.0 in /usr/local/lib/python3.10/dist-packages (from gradio) (6.0.1)\n",
            "Collecting ruff>=0.2.2 (from gradio)\n",
            "  Downloading ruff-0.3.2-py3-none-manylinux_2_17_x86_64.manylinux2014_x86_64.whl (7.9 MB)\n",
            "\u001b[2K     \u001b[90m━━━━━━━━━━━━━━━━━━━━━━━━━━━━━━━━━━━━━━━━\u001b[0m \u001b[32m7.9/7.9 MB\u001b[0m \u001b[31m52.9 MB/s\u001b[0m eta \u001b[36m0:00:00\u001b[0m\n",
            "\u001b[?25hCollecting semantic-version~=2.0 (from gradio)\n",
            "  Downloading semantic_version-2.10.0-py2.py3-none-any.whl (15 kB)\n",
            "Collecting tomlkit==0.12.0 (from gradio)\n",
            "  Downloading tomlkit-0.12.0-py3-none-any.whl (37 kB)\n",
            "Requirement already satisfied: typer[all]<1.0,>=0.9 in /usr/local/lib/python3.10/dist-packages (from gradio) (0.9.0)\n",
            "Requirement already satisfied: typing-extensions~=4.0 in /usr/local/lib/python3.10/dist-packages (from gradio) (4.10.0)\n",
            "Collecting uvicorn>=0.14.0 (from gradio)\n",
            "  Downloading uvicorn-0.28.0-py3-none-any.whl (60 kB)\n",
            "\u001b[2K     \u001b[90m━━━━━━━━━━━━━━━━━━━━━━━━━━━━━━━━━━━━━━━━\u001b[0m \u001b[32m60.6/60.6 kB\u001b[0m \u001b[31m5.6 MB/s\u001b[0m eta \u001b[36m0:00:00\u001b[0m\n",
            "\u001b[?25hRequirement already satisfied: fsspec in /usr/local/lib/python3.10/dist-packages (from gradio-client==0.12.0->gradio) (2023.6.0)\n",
            "Collecting websockets<12.0,>=10.0 (from gradio-client==0.12.0->gradio)\n",
            "  Downloading websockets-11.0.3-cp310-cp310-manylinux_2_5_x86_64.manylinux1_x86_64.manylinux_2_17_x86_64.manylinux2014_x86_64.whl (129 kB)\n",
            "\u001b[2K     \u001b[90m━━━━━━━━━━━━━━━━━━━━━━━━━━━━━━━━━━━━━━━━\u001b[0m \u001b[32m129.9/129.9 kB\u001b[0m \u001b[31m12.8 MB/s\u001b[0m eta \u001b[36m0:00:00\u001b[0m\n",
            "\u001b[?25hRequirement already satisfied: entrypoints in /usr/local/lib/python3.10/dist-packages (from altair<6.0,>=4.2.0->gradio) (0.4)\n",
            "Requirement already satisfied: jsonschema>=3.0 in /usr/local/lib/python3.10/dist-packages (from altair<6.0,>=4.2.0->gradio) (4.19.2)\n",
            "Requirement already satisfied: toolz in /usr/local/lib/python3.10/dist-packages (from altair<6.0,>=4.2.0->gradio) (0.12.1)\n",
            "Requirement already satisfied: anyio in /usr/local/lib/python3.10/dist-packages (from httpx>=0.24.1->gradio) (3.7.1)\n",
            "Requirement already satisfied: certifi in /usr/local/lib/python3.10/dist-packages (from httpx>=0.24.1->gradio) (2024.2.2)\n",
            "Collecting httpcore==1.* (from httpx>=0.24.1->gradio)\n",
            "  Downloading httpcore-1.0.4-py3-none-any.whl (77 kB)\n",
            "\u001b[2K     \u001b[90m━━━━━━━━━━━━━━━━━━━━━━━━━━━━━━━━━━━━━━━━\u001b[0m \u001b[32m77.8/77.8 kB\u001b[0m \u001b[31m7.3 MB/s\u001b[0m eta \u001b[36m0:00:00\u001b[0m\n",
            "\u001b[?25hRequirement already satisfied: idna in /usr/local/lib/python3.10/dist-packages (from httpx>=0.24.1->gradio) (3.6)\n",
            "Requirement already satisfied: sniffio in /usr/local/lib/python3.10/dist-packages (from httpx>=0.24.1->gradio) (1.3.1)\n",
            "Collecting h11<0.15,>=0.13 (from httpcore==1.*->httpx>=0.24.1->gradio)\n",
            "  Downloading h11-0.14.0-py3-none-any.whl (58 kB)\n",
            "\u001b[2K     \u001b[90m━━━━━━━━━━━━━━━━━━━━━━━━━━━━━━━━━━━━━━━━\u001b[0m \u001b[32m58.3/58.3 kB\u001b[0m \u001b[31m6.2 MB/s\u001b[0m eta \u001b[36m0:00:00\u001b[0m\n",
            "\u001b[?25hRequirement already satisfied: filelock in /usr/local/lib/python3.10/dist-packages (from huggingface-hub>=0.19.3->gradio) (3.13.1)\n",
            "Requirement already satisfied: requests in /usr/local/lib/python3.10/dist-packages (from huggingface-hub>=0.19.3->gradio) (2.31.0)\n",
            "Requirement already satisfied: tqdm>=4.42.1 in /usr/local/lib/python3.10/dist-packages (from huggingface-hub>=0.19.3->gradio) (4.66.2)\n",
            "Requirement already satisfied: contourpy>=1.0.1 in /usr/local/lib/python3.10/dist-packages (from matplotlib~=3.0->gradio) (1.2.0)\n",
            "Requirement already satisfied: cycler>=0.10 in /usr/local/lib/python3.10/dist-packages (from matplotlib~=3.0->gradio) (0.12.1)\n",
            "Requirement already satisfied: fonttools>=4.22.0 in /usr/local/lib/python3.10/dist-packages (from matplotlib~=3.0->gradio) (4.49.0)\n",
            "Requirement already satisfied: kiwisolver>=1.0.1 in /usr/local/lib/python3.10/dist-packages (from matplotlib~=3.0->gradio) (1.4.5)\n",
            "Requirement already satisfied: pyparsing>=2.3.1 in /usr/local/lib/python3.10/dist-packages (from matplotlib~=3.0->gradio) (3.1.1)\n",
            "Requirement already satisfied: python-dateutil>=2.7 in /usr/local/lib/python3.10/dist-packages (from matplotlib~=3.0->gradio) (2.8.2)\n",
            "Requirement already satisfied: pytz>=2020.1 in /usr/local/lib/python3.10/dist-packages (from pandas<3.0,>=1.0->gradio) (2023.4)\n",
            "Requirement already satisfied: annotated-types>=0.4.0 in /usr/local/lib/python3.10/dist-packages (from pydantic>=2.0->gradio) (0.6.0)\n",
            "Requirement already satisfied: pydantic-core==2.16.3 in /usr/local/lib/python3.10/dist-packages (from pydantic>=2.0->gradio) (2.16.3)\n",
            "Requirement already satisfied: click<9.0.0,>=7.1.1 in /usr/local/lib/python3.10/dist-packages (from typer[all]<1.0,>=0.9->gradio) (8.1.7)\n",
            "Collecting colorama<0.5.0,>=0.4.3 (from typer[all]<1.0,>=0.9->gradio)\n",
            "  Downloading colorama-0.4.6-py2.py3-none-any.whl (25 kB)\n",
            "Collecting shellingham<2.0.0,>=1.3.0 (from typer[all]<1.0,>=0.9->gradio)\n",
            "  Downloading shellingham-1.5.4-py2.py3-none-any.whl (9.8 kB)\n",
            "Requirement already satisfied: rich<14.0.0,>=10.11.0 in /usr/local/lib/python3.10/dist-packages (from typer[all]<1.0,>=0.9->gradio) (13.7.1)\n",
            "Collecting starlette<0.37.0,>=0.36.3 (from fastapi->gradio)\n",
            "  Downloading starlette-0.36.3-py3-none-any.whl (71 kB)\n",
            "\u001b[2K     \u001b[90m━━━━━━━━━━━━━━━━━━━━━━━━━━━━━━━━━━━━━━━━\u001b[0m \u001b[32m71.5/71.5 kB\u001b[0m \u001b[31m7.7 MB/s\u001b[0m eta \u001b[36m0:00:00\u001b[0m\n",
            "\u001b[?25hRequirement already satisfied: attrs>=22.2.0 in /usr/local/lib/python3.10/dist-packages (from jsonschema>=3.0->altair<6.0,>=4.2.0->gradio) (23.2.0)\n",
            "Requirement already satisfied: jsonschema-specifications>=2023.03.6 in /usr/local/lib/python3.10/dist-packages (from jsonschema>=3.0->altair<6.0,>=4.2.0->gradio) (2023.12.1)\n",
            "Requirement already satisfied: referencing>=0.28.4 in /usr/local/lib/python3.10/dist-packages (from jsonschema>=3.0->altair<6.0,>=4.2.0->gradio) (0.33.0)\n",
            "Requirement already satisfied: rpds-py>=0.7.1 in /usr/local/lib/python3.10/dist-packages (from jsonschema>=3.0->altair<6.0,>=4.2.0->gradio) (0.18.0)\n",
            "Requirement already satisfied: six>=1.5 in /usr/local/lib/python3.10/dist-packages (from python-dateutil>=2.7->matplotlib~=3.0->gradio) (1.16.0)\n",
            "Requirement already satisfied: markdown-it-py>=2.2.0 in /usr/local/lib/python3.10/dist-packages (from rich<14.0.0,>=10.11.0->typer[all]<1.0,>=0.9->gradio) (3.0.0)\n",
            "Requirement already satisfied: pygments<3.0.0,>=2.13.0 in /usr/local/lib/python3.10/dist-packages (from rich<14.0.0,>=10.11.0->typer[all]<1.0,>=0.9->gradio) (2.16.1)\n",
            "Requirement already satisfied: exceptiongroup in /usr/local/lib/python3.10/dist-packages (from anyio->httpx>=0.24.1->gradio) (1.2.0)\n",
            "Requirement already satisfied: charset-normalizer<4,>=2 in /usr/local/lib/python3.10/dist-packages (from requests->huggingface-hub>=0.19.3->gradio) (3.3.2)\n",
            "Requirement already satisfied: urllib3<3,>=1.21.1 in /usr/local/lib/python3.10/dist-packages (from requests->huggingface-hub>=0.19.3->gradio) (2.0.7)\n",
            "Requirement already satisfied: mdurl~=0.1 in /usr/local/lib/python3.10/dist-packages (from markdown-it-py>=2.2.0->rich<14.0.0,>=10.11.0->typer[all]<1.0,>=0.9->gradio) (0.1.2)\n",
            "Building wheels for collected packages: ffmpy\n",
            "  Building wheel for ffmpy (setup.py) ... \u001b[?25l\u001b[?25hdone\n",
            "  Created wheel for ffmpy: filename=ffmpy-0.3.2-py3-none-any.whl size=5584 sha256=70777e3bc1c12bc2b6bfa91ea781db19faf25aa78f6280caf0dbd03025e318d6\n",
            "  Stored in directory: /root/.cache/pip/wheels/bd/65/9a/671fc6dcde07d4418df0c592f8df512b26d7a0029c2a23dd81\n",
            "Successfully built ffmpy\n",
            "Installing collected packages: pydub, ffmpy, websockets, tomlkit, shellingham, semantic-version, ruff, python-multipart, orjson, h11, colorama, aiofiles, uvicorn, starlette, httpcore, httpx, fastapi, gradio-client, gradio\n",
            "Successfully installed aiofiles-23.2.1 colorama-0.4.6 fastapi-0.110.0 ffmpy-0.3.2 gradio-4.21.0 gradio-client-0.12.0 h11-0.14.0 httpcore-1.0.4 httpx-0.27.0 orjson-3.9.15 pydub-0.25.1 python-multipart-0.0.9 ruff-0.3.2 semantic-version-2.10.0 shellingham-1.5.4 starlette-0.36.3 tomlkit-0.12.0 uvicorn-0.28.0 websockets-11.0.3\n"
          ]
        }
      ],
      "source": [
        "!pip install gradio"
      ]
    },
    {
      "cell_type": "code",
      "source": [
        "from keras.models import load_model\n",
        "import gradio as gr  # Библиотека для создания веб-интерфейсов\n",
        "import pickle\n",
        "import cv2"
      ],
      "metadata": {
        "id": "IdqAgSoOrlod"
      },
      "execution_count": 69,
      "outputs": []
    },
    {
      "cell_type": "markdown",
      "source": [
        "#### 9.2. Реализуем функцию для предобработки входных данных в той же последовательности, что и при формировании обучающей выборки:"
      ],
      "metadata": {
        "id": "PM2dadCBwzES"
      }
    },
    {
      "cell_type": "code",
      "execution_count": 70,
      "metadata": {
        "id": "P4KLc85A3FkU"
      },
      "outputs": [],
      "source": [
        "def preprocess_image(img, compression_size = 32):\n",
        "\n",
        "    \"\"\"\n",
        "    Функция для изменения размера, \"выравнивания\" и масштабирования изображения.\n",
        "\n",
        "    Args:\n",
        "    img: Изображение.\n",
        "\n",
        "    Returns:\n",
        "    Предобработанное изображение.\n",
        "    \"\"\"\n",
        "\n",
        "    image = img.copy()  # Создаем копию изображения\n",
        "    # Изменяем размер изображения до compression_size x compression_size пикселей\n",
        "    image = cv2.resize(image, (compression_size, compression_size))\n",
        "    # Преобразуем изображение в одномерный массив (вектор)\n",
        "    image = image.flatten()\n",
        "    # Масштабируем значения пикселей к диапазону [0, 1]\n",
        "    image = image.astype(\"float\") / 255.0\n",
        "    # Преобразуем массив в формат, совместимый с нашей моделью Keras\n",
        "    image = image.reshape((1, image.shape[0]))\n",
        "\n",
        "    return image"
      ]
    },
    {
      "cell_type": "markdown",
      "source": [
        "#### 9.3. Определим функцию для осуществления прогноза по загруженной модели:"
      ],
      "metadata": {
        "id": "UXPI1dAIxvPz"
      }
    },
    {
      "cell_type": "code",
      "execution_count": 71,
      "metadata": {
        "id": "LO4Ty_t0anmv"
      },
      "outputs": [],
      "source": [
        "def predict_image(img, preprocess_func = preprocess_image, model_path = \"model.h5\", label_path = \"label_bin\"):\n",
        "\n",
        "    \"\"\"\n",
        "    Функция для выполнения предсказания класса, возвращает\n",
        "    словарь с вероятностями для каждого класса.\n",
        "\n",
        "    Args:\n",
        "    img: Изображение.\n",
        "    preprocess_funk: Функция для предобработки изображения.\n",
        "    model_path: Путь к файлу модели.\n",
        "    label_path: Путь к файлу с метками.\n",
        "\n",
        "    Returns:\n",
        "    Словарь с метками и вероятностями для каждого класса.\n",
        "    \"\"\"\n",
        "\n",
        "    # Загружаем модель и метки\n",
        "    model = load_model(model_path)  # Загрузка модели Keras\n",
        "    lb = pickle.loads(open(label_path, \"rb\").read())  # Загрузка словаря с метками\n",
        "\n",
        "    # Делаем предсказание на изображении\n",
        "    image = preprocess_func(img.copy())  # Предобработка изображения\n",
        "    preds = model.predict(image).flatten()  # Выполнение предсказания\n",
        "\n",
        "    # Возвращаем словарь с метками и вероятностями для каждого класса\n",
        "    confidences = {lb.classes_[i]: float(preds[i]) for i in range(len(preds))}\n",
        "\n",
        "    return confidences"
      ]
    },
    {
      "cell_type": "markdown",
      "source": [
        "### 10. Визуализируем интерфейс и произведем классификацию:"
      ],
      "metadata": {
        "id": "acXaOZ_z3dDq"
      }
    },
    {
      "cell_type": "code",
      "execution_count": null,
      "metadata": {
        "id": "5wW8xYEB3dDr",
        "colab": {
          "base_uri": "https://localhost:8080/",
          "height": 981
        },
        "outputId": "b220af23-9259-43f4-a7f6-ae58bd09ece7"
      },
      "outputs": [
        {
          "output_type": "stream",
          "name": "stdout",
          "text": [
            "Colab notebook detected. This cell will run indefinitely so that you can see errors and logs. To turn off, set debug=False in launch().\n",
            "Running on public URL: https://6084119a2f30bd8ee2.gradio.live\n",
            "\n",
            "This share link expires in 72 hours. For free permanent hosting and GPU upgrades, run `gradio deploy` from Terminal to deploy to Spaces (https://huggingface.co/spaces)\n"
          ]
        },
        {
          "output_type": "display_data",
          "data": {
            "text/plain": [
              "<IPython.core.display.HTML object>"
            ],
            "text/html": [
              "<div><iframe src=\"https://6084119a2f30bd8ee2.gradio.live\" width=\"100%\" height=\"500\" allow=\"autoplay; camera; microphone; clipboard-read; clipboard-write;\" frameborder=\"0\" allowfullscreen></iframe></div>"
            ]
          },
          "metadata": {}
        },
        {
          "output_type": "stream",
          "name": "stderr",
          "text": [
            "Traceback (most recent call last):\n",
            "  File \"/usr/local/lib/python3.10/dist-packages/gradio/queueing.py\", line 501, in call_prediction\n",
            "    output = await route_utils.call_process_api(\n",
            "  File \"/usr/local/lib/python3.10/dist-packages/gradio/route_utils.py\", line 253, in call_process_api\n",
            "    output = await app.get_blocks().process_api(\n",
            "  File \"/usr/local/lib/python3.10/dist-packages/gradio/blocks.py\", line 1695, in process_api\n",
            "    result = await self.call_function(\n",
            "  File \"/usr/local/lib/python3.10/dist-packages/gradio/blocks.py\", line 1235, in call_function\n",
            "    prediction = await anyio.to_thread.run_sync(\n",
            "  File \"/usr/local/lib/python3.10/dist-packages/anyio/to_thread.py\", line 33, in run_sync\n",
            "    return await get_asynclib().run_sync_in_worker_thread(\n",
            "  File \"/usr/local/lib/python3.10/dist-packages/anyio/_backends/_asyncio.py\", line 877, in run_sync_in_worker_thread\n",
            "    return await future\n",
            "  File \"/usr/local/lib/python3.10/dist-packages/anyio/_backends/_asyncio.py\", line 807, in run\n",
            "    result = context.run(func, *args)\n",
            "  File \"/usr/local/lib/python3.10/dist-packages/gradio/utils.py\", line 692, in wrapper\n",
            "    response = f(*args, **kwargs)\n",
            "  File \"<ipython-input-71-6ac19f13ea3e>\", line 22, in predict_image\n",
            "    image = preprocess_func(img.copy())  # Предобработка изображения\n",
            "AttributeError: 'NoneType' object has no attribute 'copy'\n"
          ]
        }
      ],
      "source": [
        "interface = gr.Interface(\n",
        "    fn=predict_image,  # Функция, которая будет вызываться при загрузке изображения\n",
        "    inputs=gr.Image(label=\"Загрузите изображение\"),  # Входные данные: изображение\n",
        "    outputs= gr.Label(num_top_classes=len(lb.classes_)), # Выходные данные: топ-N классов с наибольшей вероятностью\n",
        "    examples=[\"/content/pc_parts/cables/1.jpg\",\n",
        "              \"/content/pc_parts/gpu/10.jpg\",\n",
        "              \"/content/pc_parts/webcam/10.jpg\"\n",
        "\n",
        "              ])\n",
        "\n",
        "# Запускаем интерфейс\n",
        "interface.launch(debug=True, share=True)"
      ]
    }
  ]
}